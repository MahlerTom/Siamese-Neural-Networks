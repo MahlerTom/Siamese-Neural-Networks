{
  "nbformat": 4,
  "nbformat_minor": 0,
  "metadata": {
    "colab": {
      "name": "IntroToDeepEx02-Tom.ipynb",
      "version": "0.3.2",
      "provenance": [],
      "collapsed_sections": [
        "4kNAMbhgqLKf",
        "0b0_YV-OggIz"
      ],
      "toc_visible": true,
      "include_colab_link": true
    },
    "kernelspec": {
      "name": "python3",
      "display_name": "Python 3"
    }
  },
  "cells": [
    {
      "cell_type": "markdown",
      "metadata": {
        "id": "view-in-github",
        "colab_type": "text"
      },
      "source": [
        "<a href=\"https://colab.research.google.com/github/MahlerTom/Siamese-Neural-Networks/blob/master/IntroToDeepEx02_Tom.ipynb\" target=\"_parent\"><img src=\"https://colab.research.google.com/assets/colab-badge.svg\" alt=\"Open In Colab\"/></a>"
      ]
    },
    {
      "cell_type": "markdown",
      "metadata": {
        "id": "V-aFBXlTjgSy",
        "colab_type": "text"
      },
      "source": [
        "# Installation\n",
        "\n",
        "The dataset was uploaded to [MahlerTom/Siamese-Neural-Networks](https://github.com/MahlerTom/Siamese-Neural-Networks), so we first need to clone the repository, with the data. To make things easier, we also define:\n",
        "\n",
        "*   `repo_path` - the repository path (this should be cross platrform since we use `os` module)\n",
        "*   `train_path` - the train dataset path\n",
        "*   `test_path` - the test dataset path\n",
        "\n"
      ]
    },
    {
      "cell_type": "code",
      "metadata": {
        "id": "zh3zgkKJpPNl",
        "colab_type": "code",
        "outputId": "1cae7601-dcf7-4fea-ca5c-e4426b0a9a77",
        "colab": {
          "base_uri": "https://localhost:8080/",
          "height": 139
        }
      },
      "source": [
        "import os\n",
        "\n",
        "# Clone the entire repo.\n",
        "!git clone -s git://github.com/MahlerTom/Siamese-Neural-Networks.git Siamese-Neural-Networks\n",
        "repo_path = os.path.join(os.getcwd(), 'Siamese-Neural-Networks')\n",
        "train_path = os.path.join(repo_path, 'data', 'train')\n",
        "test_path = os.path.join(repo_path, 'data', 'test')"
      ],
      "execution_count": 1,
      "outputs": [
        {
          "output_type": "stream",
          "text": [
            "Cloning into 'Siamese-Neural-Networks'...\n",
            "remote: Enumerating objects: 24, done.\u001b[K\n",
            "remote: Counting objects: 100% (24/24), done.\u001b[K\n",
            "remote: Compressing objects: 100% (22/22), done.\u001b[K\n",
            "remote: Total 19072 (delta 7), reused 15 (delta 2), pack-reused 19048\n",
            "Receiving objects: 100% (19072/19072), 192.48 MiB | 33.51 MiB/s, done.\n",
            "Resolving deltas: 100% (42/42), done.\n"
          ],
          "name": "stdout"
        }
      ]
    },
    {
      "cell_type": "markdown",
      "metadata": {
        "id": "4K2hMEFwkq8A",
        "colab_type": "text"
      },
      "source": [
        "Next, we install TensorFlow 2.0 and import it"
      ]
    },
    {
      "cell_type": "code",
      "metadata": {
        "id": "kRxL8-MAVTdo",
        "colab_type": "code",
        "colab": {
          "base_uri": "https://localhost:8080/",
          "height": 87
        },
        "outputId": "d87481d9-80d6-4c28-c449-887755a7ab45"
      },
      "source": [
        "from __future__ import absolute_import, division, print_function, unicode_literals\n",
        "\n",
        "!pip install -q tensorflow==2.0.0-alpha0\n",
        "import tensorflow as tf\n",
        "AUTOTUNE = tf.data.experimental.AUTOTUNE"
      ],
      "execution_count": 2,
      "outputs": [
        {
          "output_type": "stream",
          "text": [
            "\u001b[K     |████████████████████████████████| 79.9MB 342kB/s \n",
            "\u001b[K     |████████████████████████████████| 3.0MB 39.0MB/s \n",
            "\u001b[K     |████████████████████████████████| 419kB 46.6MB/s \n",
            "\u001b[K     |████████████████████████████████| 61kB 22.9MB/s \n",
            "\u001b[?25h"
          ],
          "name": "stdout"
        }
      ]
    },
    {
      "cell_type": "markdown",
      "metadata": {
        "id": "F1Pqc6i5NCtZ",
        "colab_type": "text"
      },
      "source": [
        "# Preparing the dataset\n",
        "\n",
        "Before we begin our training, we need to prepare the dataset. Since we are using TensorFlow 2.0, we will make use of its functions. We followed the guide at: [https://www.tensorflow.org/alpha/tutorials/load_data/images](https://www.tensorflow.org/alpha/tutorials/load_data/images)"
      ]
    },
    {
      "cell_type": "markdown",
      "metadata": {
        "id": "hTPe3YthlbUa",
        "colab_type": "text"
      },
      "source": [
        "## Prepare data paths\n",
        "Tensorflow makes use of smart functions that can load images given their paths. In addition, we received `trainPairs.txt` and `testPairs.txt`, which include the labels. \n",
        "\n",
        "The data structure is as follows: `(left_img_path, right_img_path, label)`\n",
        "\n",
        "Thus, the following function will create it."
      ]
    },
    {
      "cell_type": "code",
      "metadata": {
        "id": "GztrrA6Cc_tE",
        "colab_type": "code",
        "outputId": "1ffa0d7e-a1e3-4a9c-d1bc-bca3c305a5ef",
        "colab": {
          "base_uri": "https://localhost:8080/",
          "height": 107
        }
      },
      "source": [
        "import random\n",
        "import IPython.display as display\n",
        "\n",
        "def load_data(data_path, labels_file, print_imgs=3):\n",
        "  import pathlib\n",
        "  \n",
        "  data_root = pathlib.Path(data_path)\n",
        "  \n",
        "  data_paths = list(data_root.glob('*'))\n",
        "  data_paths = [str(path) for path in data_paths]\n",
        "  random.shuffle(data_paths)\n",
        "  data_count = len(data_paths)\n",
        "  print('Loaded', data_count, 'image paths')\n",
        "  if print_imgs > 0:\n",
        "    print('##########################################')\n",
        "    print('Printing Example Images')\n",
        "    print()\n",
        "    \n",
        "    for n in range(print_imgs):\n",
        "      image_path = random.choice(data_paths)\n",
        "      display.display(display.Image(image_path))\n",
        "      print(image_path.split('/')[-1][:-4])\n",
        "      print()\n",
        "      \n",
        "    print('##########################################')\n",
        "    \n",
        "  rel_path = os.path.join('/', *data_paths[0].split('/')[:-1])\n",
        "#   data_names = [ tip.split('/')[-1][:-4] for tip in data_paths ]\n",
        "#   data_paths_names_dict = { name: os.path.join(rel_path, name + '.jpg') for name in data_names }\n",
        "    \n",
        "  data_paths_paths = list()\n",
        "  with open(labels_file) as lf:\n",
        "    for l in lf:\n",
        "      l = l[:-1].split('\\t')\n",
        "      if len(l) in [3, 4]:\n",
        "        left = os.path.join(rel_path, l[0] + '_' + l[1].zfill(4) + '.jpg')\n",
        "        if len(l) == 3:        \n",
        "          right = os.path.join(rel_path, l[0] + '_' + l[2].zfill(4) + '.jpg')\n",
        "          data_paths_paths.append(tuple((left, right, 1)))\n",
        "        if len(l) == 4:\n",
        "          right = os.path.join(rel_path, l[2] + '_' + l[3].zfill(4) + '.jpg')\n",
        "          data_paths_paths.append(tuple((left, right, 0)))\n",
        "        \n",
        "#   return data_paths_names_dict, labels\n",
        "  return data_paths_paths\n",
        "\n",
        "def image_name(path):\n",
        "  return path.split('/')[-1][:-4]\n",
        "\n",
        "\n",
        "# train_paths_names_dict, train_labels = load_data(train_path, labels_file=os.path.join(repo_path, 'trainPairs.txt'), print_imgs=0)\n",
        "# test_paths_names_dict, test_labels = load_data(test_path, labels_file=os.path.join(repo_path, 'testPairs.txt'), print_imgs=0)\n",
        "\n",
        "train_paths_labels = load_data(train_path, labels_file=os.path.join(repo_path, 'trainPairs.txt'), print_imgs=0)\n",
        "test_paths_labels = load_data(test_path, labels_file=os.path.join(repo_path, 'testPairs.txt'), print_imgs=0)\n",
        "\n",
        "label_name = ['Different', 'Same']\n",
        "\n",
        "# print(list(train_paths_names_dict.keys())[:3])\n",
        "# print(list(train_paths_names_dict.values())[:3])\n",
        "# print(train_labels[:3])\n",
        "print(train_paths_labels[:3])\n",
        "print([tuple((image_name(p[0]), image_name(p[1]), label_name[p[2]])) for p in train_paths_labels[:3]])"
      ],
      "execution_count": 163,
      "outputs": [
        {
          "output_type": "stream",
          "text": [
            "Loaded 6685 image paths\n",
            "Loaded 2741 image paths\n",
            "[('/content/Siamese-Neural-Networks/data/train/Aaron_Peirsol_0001.jpg', '/content/Siamese-Neural-Networks/data/train/Aaron_Peirsol_0002.jpg', 1), ('/content/Siamese-Neural-Networks/data/train/Aaron_Peirsol_0003.jpg', '/content/Siamese-Neural-Networks/data/train/Aaron_Peirsol_0004.jpg', 1), ('/content/Siamese-Neural-Networks/data/train/Aaron_Sorkin_0001.jpg', '/content/Siamese-Neural-Networks/data/train/Aaron_Sorkin_0002.jpg', 1)]\n",
            "[('Aaron_Peirsol_0001', 'Aaron_Peirsol_0002', 'Same'), ('Aaron_Peirsol_0003', 'Aaron_Peirsol_0004', 'Same'), ('Aaron_Sorkin_0001', 'Aaron_Sorkin_0002', 'Same')]\n"
          ],
          "name": "stdout"
        }
      ]
    },
    {
      "cell_type": "markdown",
      "metadata": {
        "id": "z-CMN_h9i0rO",
        "colab_type": "text"
      },
      "source": [
        "## Load and Preprocess image using TF\n",
        "These function loads images as tensors, and lay the groundwork for preprocessing"
      ]
    },
    {
      "cell_type": "code",
      "metadata": {
        "id": "Nw4j0cP8PiQV",
        "colab_type": "code",
        "colab": {}
      },
      "source": [
        "def preprocess_image(img_raw, norm=None, resize=None):\n",
        "  img_tensor = tf.image.decode_image(img_raw)\n",
        "#   print(img_tensor.shape)\n",
        "#   print(img_tensor.dtype)\n",
        "\n",
        "  if resize is not None:\n",
        "    img_tensor = tf.image.resize(img_tensor, resize) # [192, 192]\n",
        "#     print(img_tensor.shape)\n",
        "  if norm is not None:\n",
        "    img_tensor /= norm # 255.0\n",
        "#     print(img_tensor.numpy().min())\n",
        "#     print(img_tensor.numpy().max())\n",
        "    \n",
        "  return img_tensor\n",
        "  \n",
        "def load_and_preprocess_image(path, norm=None, resize=None):\n",
        "  img_raw = tf.io.read_file(img_path)\n",
        "#   print(repr(img_raw)[:100]+\"...\")\n",
        "  return preprocess_image(img_raw, norm=norm, resize=resize)"
      ],
      "execution_count": 0,
      "outputs": []
    },
    {
      "cell_type": "markdown",
      "metadata": {
        "id": "4kNAMbhgqLKf",
        "colab_type": "text"
      },
      "source": [
        "### Testing `load_and_preprocess_image` [collapse]"
      ]
    },
    {
      "cell_type": "code",
      "metadata": {
        "id": "NiR6ODKHUlYT",
        "colab_type": "code",
        "colab": {
          "base_uri": "https://localhost:8080/",
          "height": 321
        },
        "outputId": "a5fcc3ac-eeaa-4740-db3d-796a1af66d4b"
      },
      "source": [
        "import matplotlib.pyplot as plt\n",
        "\n",
        "left_train_paths = [p[0] for p in train_paths_labels]\n",
        "img_path = left_train_paths[0]\n",
        "# print(img_path)\n",
        "# label = all_image_labels[0]\n",
        "\n",
        "plt.imshow(np.squeeze(load_and_preprocess_image(img_path, resize=[250,250])), cmap='gray', vmin=0, vmax=255)\n",
        "plt.grid(False)\n",
        "plt.title(image_name(img_path))\n",
        "plt.xticks([])\n",
        "plt.yticks([])\n",
        "print()"
      ],
      "execution_count": 192,
      "outputs": [
        {
          "output_type": "stream",
          "text": [
            "(250, 250, 1)\n",
            "(250, 250, 1)\n",
            "\n"
          ],
          "name": "stdout"
        },
        {
          "output_type": "display_data",
          "data": {
            "image/png": "[encoded data removed]",
            "text/plain": [
              "<Figure size 432x288 with 1 Axes>"
            ]
          },
          "metadata": {
            "tags": []
          }
        }
      ]
    },
    {
      "cell_type": "markdown",
      "metadata": {
        "id": "TKEkGoAMi7n6",
        "colab_type": "text"
      },
      "source": [
        "## Creating Datasets using `tf.data.Dataset.from_tensor_slices`"
      ]
    },
    {
      "cell_type": "code",
      "metadata": {
        "id": "xemxyMjZYk7e",
        "colab_type": "code",
        "colab": {}
      },
      "source": [
        "def create_image_ds(image_paths, norm=None, resize=None):\n",
        "  path_ds = tf.data.Dataset.from_tensor_slices(image_paths)\n",
        "  # print(path_ds)\n",
        "  image_ds = path_ds.map(lambda path: load_and_preprocess_image(path, norm=norm, resize=resize), num_parallel_calls=AUTOTUNE)\n",
        "  return image_ds\n",
        "\n",
        "def create_label_ds(labels, dtype=tf.bool):\n",
        "  label_ds = tf.data.Dataset.from_tensor_slices(tf.cast(labels, tf.bool))\n",
        "  return label_ds"
      ],
      "execution_count": 0,
      "outputs": []
    },
    {
      "cell_type": "markdown",
      "metadata": {
        "id": "0b0_YV-OggIz",
        "colab_type": "text"
      },
      "source": [
        "#### Testing `create_image_ds` [collapse]"
      ]
    },
    {
      "cell_type": "code",
      "metadata": {
        "id": "KuB6ISQRZD6h",
        "colab_type": "code",
        "colab": {
          "base_uri": "https://localhost:8080/",
          "height": 832
        },
        "outputId": "15d32eb0-7dd8-46c4-8cfa-3d6e9736249a"
      },
      "source": [
        "import matplotlib.pyplot as plt\n",
        "\n",
        "left_train_paths = [ p[0] for p in train_paths_labels ]\n",
        "image_ds = create_image_ds(left_train_paths)\n",
        "print(image_ds)\n",
        "\n",
        "plt.figure(figsize=(8,8))\n",
        "for n, image in enumerate(image_ds.take(4)):\n",
        "  plt.subplot(2,2,n+1)\n",
        "  plt.imshow(np.squeeze(image), cmap='gray', vmin=0, vmax=255)\n",
        "  plt.grid(False)\n",
        "  plt.xticks([])\n",
        "  plt.yticks([])\n",
        "  plt.xlabel(image_name(left_train_paths[n]))\n",
        "  plt.show()\n",
        "  \n",
        "labels = [ p[2] for p in train_paths_labels ]\n",
        "label_ds = create_label_ds(labels)\n",
        "for l in label_ds.take(10):\n",
        "  print(label_names[int(l.numpy())])"
      ],
      "execution_count": 196,
      "outputs": [
        {
          "output_type": "stream",
          "text": [
            "<ParallelMapDataset shapes: <unknown>, types: tf.uint8>\n"
          ],
          "name": "stdout"
        },
        {
          "output_type": "display_data",
          "data": {
            "image/png": "[encoded data removed]",
            "text/plain": [
              "<Figure size 576x576 with 1 Axes>"
            ]
          },
          "metadata": {
            "tags": []
          }
        },
        {
          "output_type": "display_data",
          "data": {
            "image/png": "[encoded data removed]",
            "text/plain": [
              "<Figure size 432x288 with 1 Axes>"
            ]
          },
          "metadata": {
            "tags": []
          }
        },
        {
          "output_type": "display_data",
          "data": {
            "image/png": "[encoded data removed]",
            "text/plain": [
              "<Figure size 432x288 with 1 Axes>"
            ]
          },
          "metadata": {
            "tags": []
          }
        },
        {
          "output_type": "display_data",
          "data": {
            "image/png": "[encoded data removed]",
            "text/plain": [
              "<Figure size 432x288 with 1 Axes>"
            ]
          },
          "metadata": {
            "tags": []
          }
        },
        {
          "output_type": "stream",
          "text": [
            "Same\n",
            "Same\n",
            "Same\n",
            "Same\n",
            "Same\n",
            "Same\n",
            "Same\n",
            "Same\n",
            "Same\n",
            "Same\n"
          ],
          "name": "stdout"
        }
      ]
    },
    {
      "cell_type": "markdown",
      "metadata": {
        "id": "6NTVJi7Mgkh3",
        "colab_type": "text"
      },
      "source": [
        "#### Loading Datasets and labels\n"
      ]
    },
    {
      "cell_type": "code",
      "metadata": {
        "colab_type": "code",
        "outputId": "679972b6-a4cf-40e8-828d-fefd718f9939",
        "id": "io0EuMX5bTF5",
        "colab": {
          "base_uri": "https://localhost:8080/",
          "height": 52
        }
      },
      "source": [
        "train_ds_left = create_image_ds([ p[0] for p in train_paths_labels ])\n",
        "train_ds_right = create_image_ds([ p[1] for p in train_paths_labels ])\n",
        "train_ds_labels = create_label_ds([ p[2] for p in train_paths_labels ])\n",
        "train_ds = tf.data.Dataset.zip((train_ds_left, train_ds_right, train_ds_labels))\n",
        "print(train_ds)\n",
        "\n",
        "test_ds_left = create_image_ds([ p[0] for p in test_labels ])\n",
        "test_ds_right = create_image_ds([ p[1] for p in test_labels ])\n",
        "test_ds_labels = create_label_ds([ p[2] for p in test_labels ])\n",
        "test_ds = tf.data.Dataset.zip((test_ds_left, test_ds_right, test_ds_labels))\n",
        "print(test_ds)"
      ],
      "execution_count": 168,
      "outputs": [
        {
          "output_type": "stream",
          "text": [
            "<ZipDataset shapes: (<unknown>, <unknown>, ()), types: (tf.uint8, tf.uint8, tf.bool)>\n",
            "<ZipDataset shapes: (<unknown>, <unknown>, ()), types: (tf.uint8, tf.uint8, tf.bool)>\n"
          ],
          "name": "stdout"
        }
      ]
    },
    {
      "cell_type": "markdown",
      "metadata": {
        "id": "c6XAUyAusycx",
        "colab_type": "text"
      },
      "source": [
        "## Basic methods for training\n",
        "To train a model with this dataset you will want the data:\n",
        "\n",
        "*   To be well shuffled.\n",
        "*   To be batched.\n",
        "*   To repeat forever.\n",
        "*   Batches to be available as soon as possible.\n",
        "\n",
        "These features can be easily added using the tf.data api."
      ]
    },
    {
      "cell_type": "code",
      "metadata": {
        "id": "4KLaNR4Is_Jb",
        "colab_type": "code",
        "colab": {
          "base_uri": "https://localhost:8080/",
          "height": 35
        },
        "outputId": "530af046-3922-4c5b-a3f0-505c34ea7dfa"
      },
      "source": [
        "BATCH_SIZE = 32\n",
        "buffer_size = len(train_paths_labels)\n",
        "\n",
        "# Setting a shuffle buffer size as large as the dataset ensures that the data is\n",
        "# completely shuffled.\n",
        "ds = train_ds.shuffle(buffer_size=buffer_size)\n",
        "ds = ds.repeat()\n",
        "ds = ds.batch(batch_size=BATCH_SIZE)\n",
        "\n",
        "# `prefetch` lets the dataset fetch batches, in the background while the model is training.\n",
        "ds = ds.prefetch(buffer_size=AUTOTUNE)\n",
        "ds"
      ],
      "execution_count": 172,
      "outputs": [
        {
          "output_type": "execute_result",
          "data": {
            "text/plain": [
              "<PrefetchDataset shapes: (<unknown>, <unknown>, (None,)), types: (tf.uint8, tf.uint8, tf.bool)>"
            ]
          },
          "metadata": {
            "tags": []
          },
          "execution_count": 172
        }
      ]
    },
    {
      "cell_type": "markdown",
      "metadata": {
        "id": "iOr4Xe5DtpWq",
        "colab_type": "text"
      },
      "source": [
        "There are a few things to note here:\n",
        "\n",
        "1.   The order is important.\n",
        "\n",
        "*   A `.shuffle` after a `.repeat` would shuffle items across epoch boundaries (some items will be seen twice before others are seen at all).\n",
        "*   A `.shuffle` after a `.batch` would shuffle the order of the batches, but not shuffle the items across batches.\n",
        "\n",
        "2. We use a `buffer_size` the same size as the dataset for a full shuffle. Up to the dataset size, large values provide better randomization, but use more memory.\n",
        "\n",
        "3. The shuffle buffer is filled before any elements are pulled from it. So a large `buffer_size` may cause a delay when your `Dataset` is starting.\n",
        "\n",
        "4. The shuffeled dataset doesn't report the end of a dataset until the shuffle-buffer is completely empty. The `Dataset` is restarted by `.repeat`, causing another wait for the shuffle-buffer to be filled.\n",
        "\n",
        "This last point can be addressed by using the `tf.data.Dataset.apply` method with the fused `tf.data.experimental.shuffle_and_repeat` function:"
      ]
    },
    {
      "cell_type": "code",
      "metadata": {
        "id": "-qJUUAFsuxY2",
        "colab_type": "code",
        "colab": {
          "base_uri": "https://localhost:8080/",
          "height": 35
        },
        "outputId": "80d386c5-ad02-4066-8299-ed7ff2fba786"
      },
      "source": [
        "ds = train_ds.apply(\n",
        "  tf.data.experimental.shuffle_and_repeat(buffer_size=buffer_size))\n",
        "ds = ds.batch(batch_size=BATCH_SIZE)\n",
        "ds = ds.prefetch(buffer_size=AUTOTUNE)\n",
        "ds\n"
      ],
      "execution_count": 197,
      "outputs": [
        {
          "output_type": "execute_result",
          "data": {
            "text/plain": [
              "<PrefetchDataset shapes: (<unknown>, <unknown>, (None,)), types: (tf.uint8, tf.uint8, tf.bool)>"
            ]
          },
          "metadata": {
            "tags": []
          },
          "execution_count": 197
        }
      ]
    },
    {
      "cell_type": "code",
      "metadata": {
        "id": "hYG75TTuRxOz",
        "colab_type": "code",
        "colab": {}
      },
      "source": [
        "img_final = img_final/255.0\n",
        "print(img_final.shape)\n",
        "print(img_final.numpy().min())\n",
        "print(img_final.numpy().max())"
      ],
      "execution_count": 0,
      "outputs": []
    },
    {
      "cell_type": "code",
      "metadata": {
        "id": "U-tVRnbDM1e4",
        "colab_type": "code",
        "colab": {}
      },
      "source": [
        "train_paths_names_dict"
      ],
      "execution_count": 0,
      "outputs": []
    },
    {
      "cell_type": "code",
      "metadata": {
        "id": "M30De456vTrI",
        "colab_type": "code",
        "colab": {}
      },
      "source": [
        "def loadimgs(path,n = 0):\n",
        "    '''\n",
        "    path => Path of train directory or test directory\n",
        "    '''\n",
        "    X=[]\n",
        "    y = []\n",
        "    cat_dict = {}\n",
        "    lang_dict = {}\n",
        "    curr_y = n\n",
        "    \n",
        "    # we load every alphabet seperately so we can isolate them later\n",
        "    for alphabet in os.listdir(path):\n",
        "        print(\"loading alphabet: \" + alphabet)\n",
        "        lang_dict[alphabet] = [curr_y,None]\n",
        "        alphabet_path = os.path.join(path,alphabet)\n",
        "        \n",
        "        # every letter/category has it's own column in the array, so  load seperately\n",
        "        for letter in os.listdir(alphabet_path):\n",
        "            cat_dict[curr_y] = (alphabet, letter)\n",
        "            category_images=[]\n",
        "            letter_path = os.path.join(alphabet_path, letter)\n",
        "            \n",
        "            # read all the images in the current category\n",
        "            for filename in os.listdir(letter_path):\n",
        "                image_path = os.path.join(letter_path, filename)\n",
        "                image = imread(image_path)\n",
        "                category_images.append(image)\n",
        "                y.append(curr_y)\n",
        "            try:\n",
        "                X.append(np.stack(category_images))\n",
        "            # edge case  - last one\n",
        "            except ValueError as e:\n",
        "                print(e)\n",
        "                print(\"error - category_images:\", category_images)\n",
        "            curr_y += 1\n",
        "            lang_dict[alphabet][1] = curr_y - 1\n",
        "    y = np.vstack(y)\n",
        "    X = np.stack(X)\n",
        "    return X,y,lang_dict"
      ],
      "execution_count": 0,
      "outputs": []
    },
    {
      "cell_type": "code",
      "metadata": {
        "id": "rsIi9JiBPHxe",
        "colab_type": "code",
        "colab": {}
      },
      "source": [
        ""
      ],
      "execution_count": 0,
      "outputs": []
    },
    {
      "cell_type": "markdown",
      "metadata": {
        "id": "NnjmgcsvNJe3",
        "colab_type": "text"
      },
      "source": [
        "###Import Libararies"
      ]
    },
    {
      "cell_type": "code",
      "metadata": {
        "id": "gI_saqm9NJ-X",
        "colab_type": "code",
        "colab": {
          "base_uri": "https://localhost:8080/",
          "height": 35
        },
        "outputId": "1f7f81be-eb86-4d41-f04b-31851713fd66"
      },
      "source": [
        "import numpy as np\n",
        "from keras.models import Sequential\n",
        "import time\n",
        "from keras.layers import Conv2D, ZeroPadding2D, Activation, Input, concatenate\n",
        "from keras.layers import Conv3D\n",
        "from keras.models import Model\n",
        "from keras.layers.pooling import MaxPooling2D, AveragePooling2D, MaxPooling3D\n",
        "from keras.layers.core import Lambda, Flatten, Dense\n",
        "from keras.optimizers import Adam\n",
        "from keras.regularizers import l2\n",
        "from keras import backend as K"
      ],
      "execution_count": 6,
      "outputs": [
        {
          "output_type": "stream",
          "text": [
            "Using TensorFlow backend.\n"
          ],
          "name": "stderr"
        }
      ]
    },
    {
      "cell_type": "markdown",
      "metadata": {
        "id": "ZZ4-O98lNMqP",
        "colab_type": "text"
      },
      "source": [
        "###Build Network"
      ]
    },
    {
      "cell_type": "code",
      "metadata": {
        "id": "iIU7bWVVNN0m",
        "colab_type": "code",
        "colab": {}
      },
      "source": [
        "def initialize_bias(shape, name=None):\n",
        "    return np.random.normal(loc = 0.5, scale = 1e-2, size = shape)\n",
        "  \n",
        "def initialize_weights(shape, name=None):\n",
        "    return np.random.normal(loc = 0.0, scale = 1e-2, size = shape)\n",
        "  \n",
        "def initialize_weights_dense(shape, name=None):\n",
        "    return np.random.normal(loc = 0.0, scale = 0.2, size = shape)"
      ],
      "execution_count": 0,
      "outputs": []
    },
    {
      "cell_type": "code",
      "metadata": {
        "id": "L-Rk3dapNPNY",
        "colab_type": "code",
        "colab": {
          "base_uri": "https://localhost:8080/",
          "height": 287
        },
        "outputId": "0827f842-a063-43ce-979b-4ccc22eac763"
      },
      "source": [
        "import seaborn as sns\n",
        "weights = initialize_weights_dense((4096,1))\n",
        "sns.distplot(weights)"
      ],
      "execution_count": 8,
      "outputs": [
        {
          "output_type": "execute_result",
          "data": {
            "text/plain": [
              "<matplotlib.axes._subplots.AxesSubplot at 0x7fd929529390>"
            ]
          },
          "metadata": {
            "tags": []
          },
          "execution_count": 8
        },
        {
          "output_type": "display_data",
          "data": {
            "image/png": "[encoded data removed]",
            "text/plain": [
              "<Figure size 432x288 with 1 Axes>"
            ]
          },
          "metadata": {
            "tags": []
          }
        }
      ]
    },
    {
      "cell_type": "code",
      "metadata": {
        "id": "83aiRDnMNQwV",
        "colab_type": "code",
        "colab": {}
      },
      "source": [
        "def get_siamese_model(input_shape):\n",
        "    \n",
        "    # Define the tensors for the two input images\n",
        "    left_input = Input(input_shape)\n",
        "    right_input = Input(input_shape)\n",
        "    \n",
        "    # Convolutional Neural Network\n",
        "    model = Sequential()\n",
        "    model.add(Conv2D(64, (10,10), activation='relu', input_shape=input_shape,\n",
        "                   kernel_initializer=initialize_weights, kernel_regularizer=l2(2e-4)))\n",
        "    model.add(MaxPooling2D())\n",
        "    model.add(Conv2D(128, (7,7), activation='relu',\n",
        "                     kernel_initializer=initialize_weights,\n",
        "                     bias_initializer=initialize_bias, kernel_regularizer=l2(2e-4)))\n",
        "    model.add(MaxPooling2D())\n",
        "    model.add(Conv2D(128, (4,4), activation='relu', kernel_initializer=initialize_weights,\n",
        "                     bias_initializer=initialize_bias, kernel_regularizer=l2(2e-4)))\n",
        "    model.add(MaxPooling2D())\n",
        "    model.add(Conv2D(256, (4,4), activation='relu', kernel_initializer=initialize_weights,\n",
        "                     bias_initializer=initialize_bias, kernel_regularizer=l2(2e-4)))\n",
        "    model.add(Flatten())\n",
        "    model.add(Dense(2048, activation='sigmoid',\n",
        "                   kernel_regularizer=l2(1e-3),\n",
        "                   kernel_initializer=initialize_weights_dense,bias_initializer=initialize_bias))\n",
        "    \n",
        "    # Generate the encodings (feature vectors) for the two images\n",
        "    encoded_l = model(left_input)\n",
        "    encoded_r = model(right_input)\n",
        "    \n",
        "    # Add a customized layer to compute the absolute difference between the encodings\n",
        "    L1_layer = Lambda(lambda tensors:K.abs(tensors[0] - tensors[1]))\n",
        "    L1_distance = L1_layer([encoded_l, encoded_r])\n",
        "    \n",
        "    # Add a dense layer with a sigmoid unit to generate the similarity score\n",
        "    prediction = Dense(1,activation='sigmoid',bias_initializer=initialize_bias)(L1_distance)\n",
        "    \n",
        "    # Connect the inputs with the outputs\n",
        "    siamese_net = Model(inputs=[left_input,right_input],outputs=prediction)\n",
        "    \n",
        "    # return the model\n",
        "    return siamese_net"
      ],
      "execution_count": 0,
      "outputs": []
    },
    {
      "cell_type": "code",
      "metadata": {
        "id": "8XTRv8KZNSBt",
        "colab_type": "code",
        "colab": {
          "base_uri": "https://localhost:8080/",
          "height": 817
        },
        "outputId": "fb747908-58ac-4f20-c41a-57d66b77c256"
      },
      "source": [
        "model = get_siamese_model((250, 250, 1))"
      ],
      "execution_count": 10,
      "outputs": [
        {
          "output_type": "error",
          "ename": "AttributeError",
          "evalue": "ignored",
          "traceback": [
            "\u001b[0;31m---------------------------------------------------------------------------\u001b[0m",
            "\u001b[0;31mAttributeError\u001b[0m                            Traceback (most recent call last)",
            "\u001b[0;32m<ipython-input-10-113a70ef80d1>\u001b[0m in \u001b[0;36m<module>\u001b[0;34m()\u001b[0m\n\u001b[0;32m----> 1\u001b[0;31m \u001b[0mmodel\u001b[0m \u001b[0;34m=\u001b[0m \u001b[0mget_siamese_model\u001b[0m\u001b[0;34m(\u001b[0m\u001b[0;34m(\u001b[0m\u001b[0;36m250\u001b[0m\u001b[0;34m,\u001b[0m \u001b[0;36m250\u001b[0m\u001b[0;34m,\u001b[0m \u001b[0;36m1\u001b[0m\u001b[0;34m)\u001b[0m\u001b[0;34m)\u001b[0m\u001b[0;34m\u001b[0m\u001b[0;34m\u001b[0m\u001b[0m\n\u001b[0m",
            "\u001b[0;32m<ipython-input-9-1f1d661a79eb>\u001b[0m in \u001b[0;36mget_siamese_model\u001b[0;34m(input_shape)\u001b[0m\n\u001b[1;32m      2\u001b[0m \u001b[0;34m\u001b[0m\u001b[0m\n\u001b[1;32m      3\u001b[0m     \u001b[0;31m# Define the tensors for the two input images\u001b[0m\u001b[0;34m\u001b[0m\u001b[0;34m\u001b[0m\u001b[0;34m\u001b[0m\u001b[0m\n\u001b[0;32m----> 4\u001b[0;31m     \u001b[0mleft_input\u001b[0m \u001b[0;34m=\u001b[0m \u001b[0mInput\u001b[0m\u001b[0;34m(\u001b[0m\u001b[0minput_shape\u001b[0m\u001b[0;34m)\u001b[0m\u001b[0;34m\u001b[0m\u001b[0;34m\u001b[0m\u001b[0m\n\u001b[0m\u001b[1;32m      5\u001b[0m     \u001b[0mright_input\u001b[0m \u001b[0;34m=\u001b[0m \u001b[0mInput\u001b[0m\u001b[0;34m(\u001b[0m\u001b[0minput_shape\u001b[0m\u001b[0;34m)\u001b[0m\u001b[0;34m\u001b[0m\u001b[0;34m\u001b[0m\u001b[0m\n\u001b[1;32m      6\u001b[0m \u001b[0;34m\u001b[0m\u001b[0m\n",
            "\u001b[0;32m/usr/local/lib/python3.6/dist-packages/keras/engine/input_layer.py\u001b[0m in \u001b[0;36mInput\u001b[0;34m(shape, batch_shape, name, dtype, sparse, tensor)\u001b[0m\n\u001b[1;32m    176\u001b[0m                              \u001b[0mname\u001b[0m\u001b[0;34m=\u001b[0m\u001b[0mname\u001b[0m\u001b[0;34m,\u001b[0m \u001b[0mdtype\u001b[0m\u001b[0;34m=\u001b[0m\u001b[0mdtype\u001b[0m\u001b[0;34m,\u001b[0m\u001b[0;34m\u001b[0m\u001b[0;34m\u001b[0m\u001b[0m\n\u001b[1;32m    177\u001b[0m                              \u001b[0msparse\u001b[0m\u001b[0;34m=\u001b[0m\u001b[0msparse\u001b[0m\u001b[0;34m,\u001b[0m\u001b[0;34m\u001b[0m\u001b[0;34m\u001b[0m\u001b[0m\n\u001b[0;32m--> 178\u001b[0;31m                              input_tensor=tensor)\n\u001b[0m\u001b[1;32m    179\u001b[0m     \u001b[0;31m# Return tensor including _keras_shape and _keras_history.\u001b[0m\u001b[0;34m\u001b[0m\u001b[0;34m\u001b[0m\u001b[0;34m\u001b[0m\u001b[0m\n\u001b[1;32m    180\u001b[0m     \u001b[0;31m# Note that in this case train_output and test_output are the same pointer.\u001b[0m\u001b[0;34m\u001b[0m\u001b[0;34m\u001b[0m\u001b[0;34m\u001b[0m\u001b[0m\n",
            "\u001b[0;32m/usr/local/lib/python3.6/dist-packages/keras/legacy/interfaces.py\u001b[0m in \u001b[0;36mwrapper\u001b[0;34m(*args, **kwargs)\u001b[0m\n\u001b[1;32m     89\u001b[0m                 warnings.warn('Update your `' + object_name + '` call to the ' +\n\u001b[1;32m     90\u001b[0m                               'Keras 2 API: ' + signature, stacklevel=2)\n\u001b[0;32m---> 91\u001b[0;31m             \u001b[0;32mreturn\u001b[0m \u001b[0mfunc\u001b[0m\u001b[0;34m(\u001b[0m\u001b[0;34m*\u001b[0m\u001b[0margs\u001b[0m\u001b[0;34m,\u001b[0m \u001b[0;34m**\u001b[0m\u001b[0mkwargs\u001b[0m\u001b[0;34m)\u001b[0m\u001b[0;34m\u001b[0m\u001b[0;34m\u001b[0m\u001b[0m\n\u001b[0m\u001b[1;32m     92\u001b[0m         \u001b[0mwrapper\u001b[0m\u001b[0;34m.\u001b[0m\u001b[0m_original_function\u001b[0m \u001b[0;34m=\u001b[0m \u001b[0mfunc\u001b[0m\u001b[0;34m\u001b[0m\u001b[0;34m\u001b[0m\u001b[0m\n\u001b[1;32m     93\u001b[0m         \u001b[0;32mreturn\u001b[0m \u001b[0mwrapper\u001b[0m\u001b[0;34m\u001b[0m\u001b[0;34m\u001b[0m\u001b[0m\n",
            "\u001b[0;32m/usr/local/lib/python3.6/dist-packages/keras/engine/input_layer.py\u001b[0m in \u001b[0;36m__init__\u001b[0;34m(self, input_shape, batch_size, batch_input_shape, dtype, input_tensor, sparse, name)\u001b[0m\n\u001b[1;32m     37\u001b[0m         \u001b[0;32mif\u001b[0m \u001b[0;32mnot\u001b[0m \u001b[0mname\u001b[0m\u001b[0;34m:\u001b[0m\u001b[0;34m\u001b[0m\u001b[0;34m\u001b[0m\u001b[0m\n\u001b[1;32m     38\u001b[0m             \u001b[0mprefix\u001b[0m \u001b[0;34m=\u001b[0m \u001b[0;34m'input'\u001b[0m\u001b[0;34m\u001b[0m\u001b[0;34m\u001b[0m\u001b[0m\n\u001b[0;32m---> 39\u001b[0;31m             \u001b[0mname\u001b[0m \u001b[0;34m=\u001b[0m \u001b[0mprefix\u001b[0m \u001b[0;34m+\u001b[0m \u001b[0;34m'_'\u001b[0m \u001b[0;34m+\u001b[0m \u001b[0mstr\u001b[0m\u001b[0;34m(\u001b[0m\u001b[0mK\u001b[0m\u001b[0;34m.\u001b[0m\u001b[0mget_uid\u001b[0m\u001b[0;34m(\u001b[0m\u001b[0mprefix\u001b[0m\u001b[0;34m)\u001b[0m\u001b[0;34m)\u001b[0m\u001b[0;34m\u001b[0m\u001b[0;34m\u001b[0m\u001b[0m\n\u001b[0m\u001b[1;32m     40\u001b[0m         \u001b[0msuper\u001b[0m\u001b[0;34m(\u001b[0m\u001b[0mInputLayer\u001b[0m\u001b[0;34m,\u001b[0m \u001b[0mself\u001b[0m\u001b[0;34m)\u001b[0m\u001b[0;34m.\u001b[0m\u001b[0m__init__\u001b[0m\u001b[0;34m(\u001b[0m\u001b[0mdtype\u001b[0m\u001b[0;34m=\u001b[0m\u001b[0mdtype\u001b[0m\u001b[0;34m,\u001b[0m \u001b[0mname\u001b[0m\u001b[0;34m=\u001b[0m\u001b[0mname\u001b[0m\u001b[0;34m)\u001b[0m\u001b[0;34m\u001b[0m\u001b[0;34m\u001b[0m\u001b[0m\n\u001b[1;32m     41\u001b[0m \u001b[0;34m\u001b[0m\u001b[0m\n",
            "\u001b[0;32m/usr/local/lib/python3.6/dist-packages/keras/backend/tensorflow_backend.py\u001b[0m in \u001b[0;36mget_uid\u001b[0;34m(prefix)\u001b[0m\n\u001b[1;32m     72\u001b[0m     \"\"\"\n\u001b[1;32m     73\u001b[0m     \u001b[0;32mglobal\u001b[0m \u001b[0m_GRAPH_UID_DICTS\u001b[0m\u001b[0;34m\u001b[0m\u001b[0;34m\u001b[0m\u001b[0m\n\u001b[0;32m---> 74\u001b[0;31m     \u001b[0mgraph\u001b[0m \u001b[0;34m=\u001b[0m \u001b[0mtf\u001b[0m\u001b[0;34m.\u001b[0m\u001b[0mget_default_graph\u001b[0m\u001b[0;34m(\u001b[0m\u001b[0;34m)\u001b[0m\u001b[0;34m\u001b[0m\u001b[0;34m\u001b[0m\u001b[0m\n\u001b[0m\u001b[1;32m     75\u001b[0m     \u001b[0;32mif\u001b[0m \u001b[0mgraph\u001b[0m \u001b[0;32mnot\u001b[0m \u001b[0;32min\u001b[0m \u001b[0m_GRAPH_UID_DICTS\u001b[0m\u001b[0;34m:\u001b[0m\u001b[0;34m\u001b[0m\u001b[0;34m\u001b[0m\u001b[0m\n\u001b[1;32m     76\u001b[0m         \u001b[0m_GRAPH_UID_DICTS\u001b[0m\u001b[0;34m[\u001b[0m\u001b[0mgraph\u001b[0m\u001b[0;34m]\u001b[0m \u001b[0;34m=\u001b[0m \u001b[0mdefaultdict\u001b[0m\u001b[0;34m(\u001b[0m\u001b[0mint\u001b[0m\u001b[0;34m)\u001b[0m\u001b[0;34m\u001b[0m\u001b[0;34m\u001b[0m\u001b[0m\n",
            "\u001b[0;31mAttributeError\u001b[0m: module 'tensorflow' has no attribute 'get_default_graph'"
          ]
        }
      ]
    },
    {
      "cell_type": "code",
      "metadata": {
        "id": "ZGGTKlcENTWc",
        "colab_type": "code",
        "colab": {}
      },
      "source": [
        "model.summary()"
      ],
      "execution_count": 0,
      "outputs": []
    },
    {
      "cell_type": "markdown",
      "metadata": {
        "id": "z6WyB5j3NY68",
        "colab_type": "text"
      },
      "source": [
        "### UP TO HERE"
      ]
    },
    {
      "cell_type": "code",
      "metadata": {
        "id": "BvIoDDQVt4Iz",
        "colab_type": "code",
        "colab": {}
      },
      "source": [
        "train_pairs = []\n",
        "train_names = set()\n",
        "with open(\"trainPairs.txt\") as train:\n",
        "  train_files = train.readlines()[1:]\n",
        "  \n",
        "for pair in train_files:\n",
        "  pair = pair[:-1].split('\\t')\n",
        "  if len(pair) == 3:\n",
        "    name1 = pair[0]\n",
        "    id1 = pair[1].zfill(4)\n",
        "    name2 = name1\n",
        "    id2 = pair[2].zfill(4)\n",
        "    \n",
        "    train_names.add(name1)\n",
        "    \n",
        "  elif len(pair) == 4:\n",
        "    name1 = pair[0]\n",
        "    id1 = pair[1].zfill(4)\n",
        "    name2 = pair[2]\n",
        "    id2 = pair[3].zfill(4)\n",
        "    \n",
        "    train_names.add(name1)\n",
        "    train_names.add(name2)\n",
        "  train_pairs.append((name1 + '_' + id1, name2 + '_' + id2))\n",
        "train_names = list(train_names)"
      ],
      "execution_count": 0,
      "outputs": []
    },
    {
      "cell_type": "code",
      "metadata": {
        "id": "jftxnfwwuiDo",
        "colab_type": "code",
        "colab": {}
      },
      "source": [
        "test_pairs = []\n",
        "test_names = set()\n",
        "with open(\"testPairs.txt\") as test:\n",
        "  test_files = test.readlines()[1:]\n",
        "  \n",
        "for pair in test_files:\n",
        "  pair = pair[:-1].split('\\t')\n",
        "  if len(pair) == 3:\n",
        "    name1 = pair[0]\n",
        "    id1 = pair[1].zfill(4)\n",
        "    name2 = name1\n",
        "    id2 = pair[2].zfill(4)\n",
        "    \n",
        "    test_names.add(name1)\n",
        "    \n",
        "  elif len(pair) == 4:\n",
        "    name1 = pair[0]\n",
        "    id1 = pair[1].zfill(4)\n",
        "    name2 = pair[2]\n",
        "    id2 = pair[3].zfill(4)\n",
        "    \n",
        "    test_names.add(name1)\n",
        "\n",
        "    test_names.add(name2)\n",
        "  test_pairs.append((name1 + '_' + id1, name2 + '_' + id2))\n",
        "test_names = list(test_names)"
      ],
      "execution_count": 0,
      "outputs": []
    },
    {
      "cell_type": "code",
      "metadata": {
        "id": "9_fySeyi12sl",
        "colab_type": "code",
        "outputId": "23973a56-0613-4ea5-ed8d-fe64f89cf77c",
        "colab": {
          "base_uri": "https://localhost:8080/",
          "height": 371
        }
      },
      "source": [
        "src = \"lfw2/\"\n",
        "train_dir = \"data/train/\"\n",
        "test_dir = \"data/test/\"\n",
        "\n",
        "for name in train_names:\n",
        "  print(\"Moving \" + name + \"...\")\n",
        "  shutil.copytree(src + name, train_dir + name)\n",
        "  "
      ],
      "execution_count": 0,
      "outputs": [
        {
          "output_type": "stream",
          "text": [
            "Moving Charlotte_Rampling...\n"
          ],
          "name": "stdout"
        },
        {
          "output_type": "error",
          "ename": "FileNotFoundError",
          "evalue": "ignored",
          "traceback": [
            "\u001b[0;31m---------------------------------------------------------------------------\u001b[0m",
            "\u001b[0;31mFileNotFoundError\u001b[0m                         Traceback (most recent call last)",
            "\u001b[0;32m<ipython-input-74-b2b10e5b8a85>\u001b[0m in \u001b[0;36m<module>\u001b[0;34m()\u001b[0m\n\u001b[1;32m      5\u001b[0m \u001b[0;32mfor\u001b[0m \u001b[0mname\u001b[0m \u001b[0;32min\u001b[0m \u001b[0mtrain_names\u001b[0m\u001b[0;34m:\u001b[0m\u001b[0;34m\u001b[0m\u001b[0;34m\u001b[0m\u001b[0m\n\u001b[1;32m      6\u001b[0m   \u001b[0mprint\u001b[0m\u001b[0;34m(\u001b[0m\u001b[0;34m\"Moving \"\u001b[0m \u001b[0;34m+\u001b[0m \u001b[0mname\u001b[0m \u001b[0;34m+\u001b[0m \u001b[0;34m\"...\"\u001b[0m\u001b[0;34m)\u001b[0m\u001b[0;34m\u001b[0m\u001b[0;34m\u001b[0m\u001b[0m\n\u001b[0;32m----> 7\u001b[0;31m   \u001b[0mshutil\u001b[0m\u001b[0;34m.\u001b[0m\u001b[0mcopytree\u001b[0m\u001b[0;34m(\u001b[0m\u001b[0msrc\u001b[0m \u001b[0;34m+\u001b[0m \u001b[0mname\u001b[0m\u001b[0;34m,\u001b[0m \u001b[0mtrain_dir\u001b[0m \u001b[0;34m+\u001b[0m \u001b[0mname\u001b[0m\u001b[0;34m)\u001b[0m\u001b[0;34m\u001b[0m\u001b[0;34m\u001b[0m\u001b[0m\n\u001b[0m\u001b[1;32m      8\u001b[0m \u001b[0;34m\u001b[0m\u001b[0m\n",
            "\u001b[0;32m/usr/lib/python3.6/shutil.py\u001b[0m in \u001b[0;36mcopytree\u001b[0;34m(src, dst, symlinks, ignore, copy_function, ignore_dangling_symlinks)\u001b[0m\n\u001b[1;32m    307\u001b[0m \u001b[0;34m\u001b[0m\u001b[0m\n\u001b[1;32m    308\u001b[0m     \"\"\"\n\u001b[0;32m--> 309\u001b[0;31m     \u001b[0mnames\u001b[0m \u001b[0;34m=\u001b[0m \u001b[0mos\u001b[0m\u001b[0;34m.\u001b[0m\u001b[0mlistdir\u001b[0m\u001b[0;34m(\u001b[0m\u001b[0msrc\u001b[0m\u001b[0;34m)\u001b[0m\u001b[0;34m\u001b[0m\u001b[0;34m\u001b[0m\u001b[0m\n\u001b[0m\u001b[1;32m    310\u001b[0m     \u001b[0;32mif\u001b[0m \u001b[0mignore\u001b[0m \u001b[0;32mis\u001b[0m \u001b[0;32mnot\u001b[0m \u001b[0;32mNone\u001b[0m\u001b[0;34m:\u001b[0m\u001b[0;34m\u001b[0m\u001b[0;34m\u001b[0m\u001b[0m\n\u001b[1;32m    311\u001b[0m         \u001b[0mignored_names\u001b[0m \u001b[0;34m=\u001b[0m \u001b[0mignore\u001b[0m\u001b[0;34m(\u001b[0m\u001b[0msrc\u001b[0m\u001b[0;34m,\u001b[0m \u001b[0mnames\u001b[0m\u001b[0;34m)\u001b[0m\u001b[0;34m\u001b[0m\u001b[0;34m\u001b[0m\u001b[0m\n",
            "\u001b[0;31mFileNotFoundError\u001b[0m: [Errno 2] No such file or directory: 'lfw2/Charlotte_Rampling'"
          ]
        }
      ]
    },
    {
      "cell_type": "code",
      "metadata": {
        "id": "8LRhUJa66UIS",
        "colab_type": "code",
        "colab": {}
      },
      "source": [
        ""
      ],
      "execution_count": 0,
      "outputs": []
    }
  ]
}