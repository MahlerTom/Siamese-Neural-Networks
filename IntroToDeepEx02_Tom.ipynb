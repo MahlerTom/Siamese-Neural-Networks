{
  "nbformat": 4,
  "nbformat_minor": 0,
  "metadata": {
    "colab": {
      "name": "IntroToDeepEx02-Tom.ipynb",
      "version": "0.3.2",
      "provenance": [],
      "collapsed_sections": [
        "4kNAMbhgqLKf",
        "0b0_YV-OggIz",
        "QNyPkwBYx-nh"
      ],
      "include_colab_link": true
    },
    "kernelspec": {
      "name": "python3",
      "display_name": "Python 3"
    },
    "accelerator": "GPU"
  },
  "cells": [
    {
      "cell_type": "markdown",
      "metadata": {
        "id": "view-in-github",
        "colab_type": "text"
      },
      "source": [
        "<a href=\"https://colab.research.google.com/github/MahlerTom/Siamese-Neural-Networks/blob/master/IntroToDeepEx02_Tom.ipynb\" target=\"_parent\"><img src=\"https://colab.research.google.com/assets/colab-badge.svg\" alt=\"Open In Colab\"/></a>"
      ]
    },
    {
      "cell_type": "markdown",
      "metadata": {
        "id": "V-aFBXlTjgSy",
        "colab_type": "text"
      },
      "source": [
        "# Installation\n",
        "\n",
        "The dataset was uploaded to [MahlerTom/Siamese-Neural-Networks](https://github.com/MahlerTom/Siamese-Neural-Networks), so we first need to clone the repository, with the data. To make things easier, we also define:\n",
        "\n",
        "*   `repo_path` - the repository path (this should be cross platrform since we use `os` module)\n",
        "*   `train_path` - the train dataset path\n",
        "*   `test_path` - the test dataset path\n",
        "\n"
      ]
    },
    {
      "cell_type": "code",
      "metadata": {
        "id": "zh3zgkKJpPNl",
        "colab_type": "code",
        "outputId": "a523e4b0-417b-4292-b79c-00f75e5fafd1",
        "colab": {
          "base_uri": "https://localhost:8080/",
          "height": 134
        }
      },
      "source": [
        "import os\n",
        "\n",
        "# Clone the entire repo.\n",
        "!git clone -s git://github.com/MahlerTom/Siamese-Neural-Networks.git Siamese-Neural-Networks\n",
        "repo_path = os.path.join(os.getcwd(), 'Siamese-Neural-Networks')\n",
        "train_path = os.path.join(repo_path, 'data', 'train')\n",
        "test_path = os.path.join(repo_path, 'data', 'test')"
      ],
      "execution_count": 1,
      "outputs": [
        {
          "output_type": "stream",
          "text": [
            "Cloning into 'Siamese-Neural-Networks'...\n",
            "remote: Enumerating objects: 57, done.\u001b[K\n",
            "remote: Counting objects: 100% (57/57), done.\u001b[K\n",
            "remote: Compressing objects: 100% (54/54), done.\u001b[K\n",
            "remote: Total 19105 (delta 21), reused 18 (delta 3), pack-reused 19048\u001b[K\n",
            "Receiving objects: 100% (19105/19105), 193.00 MiB | 39.20 MiB/s, done.\n",
            "Resolving deltas: 100% (56/56), done.\n"
          ],
          "name": "stdout"
        }
      ]
    },
    {
      "cell_type": "markdown",
      "metadata": {
        "id": "4K2hMEFwkq8A",
        "colab_type": "text"
      },
      "source": [
        "Next, we install TensorFlow 2.0 and import it"
      ]
    },
    {
      "cell_type": "code",
      "metadata": {
        "id": "kRxL8-MAVTdo",
        "colab_type": "code",
        "outputId": "613f3b15-9330-4ca0-e557-c708dfa27a6d",
        "colab": {
          "base_uri": "https://localhost:8080/",
          "height": 101
        }
      },
      "source": [
        "from __future__ import absolute_import, division, print_function, unicode_literals\n",
        "\n",
        "!pip install -q tensorflow-gpu==2.0.0-alpha0\n",
        "import tensorflow as tf\n",
        "AUTOTUNE = tf.data.experimental.AUTOTUNE\n",
        "# tf.enable_eager_execution()\n",
        "tf.test.is_gpu_available()"
      ],
      "execution_count": 2,
      "outputs": [
        {
          "output_type": "stream",
          "text": [
            "\u001b[K     |████████████████████████████████| 332.1MB 74kB/s \n",
            "\u001b[K     |████████████████████████████████| 61kB 19.2MB/s \n",
            "\u001b[K     |████████████████████████████████| 3.0MB 39.7MB/s \n",
            "\u001b[K     |████████████████████████████████| 419kB 48.0MB/s \n",
            "\u001b[?25h"
          ],
          "name": "stdout"
        },
        {
          "output_type": "execute_result",
          "data": {
            "text/plain": [
              "True"
            ]
          },
          "metadata": {
            "tags": []
          },
          "execution_count": 2
        }
      ]
    },
    {
      "cell_type": "markdown",
      "metadata": {
        "id": "F1Pqc6i5NCtZ",
        "colab_type": "text"
      },
      "source": [
        "# Preparing the dataset\n",
        "\n",
        "Before we begin our training, we need to prepare the dataset. Since we are using TensorFlow 2.0, we will make use of its functions. We followed the guide at: [https://www.tensorflow.org/alpha/tutorials/load_data/images](https://www.tensorflow.org/alpha/tutorials/load_data/images)"
      ]
    },
    {
      "cell_type": "markdown",
      "metadata": {
        "id": "hTPe3YthlbUa",
        "colab_type": "text"
      },
      "source": [
        "## Prepare data paths\n",
        "Tensorflow makes use of smart functions that can load images given their paths. In addition, we received `trainPairs.txt` and `testPairs.txt`, which include the labels. \n",
        "\n",
        "The data structure is as follows: `((left_img_path, right_img_path), label)`\n",
        "\n",
        "Thus, the following function will create it."
      ]
    },
    {
      "cell_type": "code",
      "metadata": {
        "id": "GztrrA6Cc_tE",
        "colab_type": "code",
        "outputId": "fe2d8d5d-d3e3-4d37-84f9-fc6e98ea52c5",
        "colab": {
          "base_uri": "https://localhost:8080/",
          "height": 104
        }
      },
      "source": [
        "import random\n",
        "import IPython.display as display\n",
        "\n",
        "def load_data(data_path, labels_file, print_imgs=3):\n",
        "  import pathlib\n",
        "  \n",
        "  data_root = pathlib.Path(data_path)\n",
        "  \n",
        "  data_paths = list(data_root.glob('*'))\n",
        "  data_paths = [str(path) for path in data_paths]\n",
        "#   random.shuffle(data_paths)\n",
        "  data_count = len(data_paths)\n",
        "  print('Loaded', data_count, 'image paths')\n",
        "  if print_imgs > 0:\n",
        "    print('##########################################')\n",
        "    print('Printing Example Images')\n",
        "    print()\n",
        "    \n",
        "    for n in range(print_imgs):\n",
        "      image_path = random.choice(data_paths)\n",
        "      display.display(display.Image(image_path))\n",
        "      print(image_path.split('/')[-1][:-4])\n",
        "      print()\n",
        "      \n",
        "    print('##########################################')\n",
        "    \n",
        "  rel_path = os.path.join('/', *data_paths[0].split('/')[:-1])\n",
        "#   data_names = [ tip.split('/')[-1][:-4] for tip in data_paths ]\n",
        "#   data_paths_names_dict = { name: os.path.join(rel_path, name + '.jpg') for name in data_names }\n",
        "    \n",
        "  data_paths_paths = list()\n",
        "  with open(labels_file) as lf:\n",
        "    for l in lf:\n",
        "      l = l[:-1].split('\\t')\n",
        "      if len(l) in [3, 4]:\n",
        "        left = os.path.join(rel_path, l[0] + '_' + l[1].zfill(4) + '.jpg')\n",
        "        if len(l) == 3:        \n",
        "          right = os.path.join(rel_path, l[0] + '_' + l[2].zfill(4) + '.jpg')\n",
        "          data_paths_paths.append(tuple((left, right, 1)))\n",
        "        if len(l) == 4:\n",
        "          right = os.path.join(rel_path, l[2] + '_' + l[3].zfill(4) + '.jpg')\n",
        "          data_paths_paths.append(tuple((left, right, 0)))\n",
        "        \n",
        "#   return data_paths_names_dict, labels\n",
        "  return data_paths_paths\n",
        "\n",
        "def image_name(path):\n",
        "  return path.split('/')[-1][:-4]\n",
        "\n",
        "\n",
        "# train_paths_names_dict, train_labels = load_data(train_path, labels_file=os.path.join(repo_path, 'trainPairs.txt'), print_imgs=0)\n",
        "# test_paths_names_dict, test_labels = load_data(test_path, labels_file=os.path.join(repo_path, 'testPairs.txt'), print_imgs=0)\n",
        "\n",
        "train_paths_labels = load_data(train_path, labels_file=os.path.join(repo_path, 'trainPairs.txt'), print_imgs=0)\n",
        "test_paths_labels = load_data(test_path, labels_file=os.path.join(repo_path, 'testPairs.txt'), print_imgs=0)\n",
        "\n",
        "label_name = ['Different', 'Same']\n",
        "\n",
        "# print(list(train_paths_names_dict.keys())[:3])\n",
        "# print(list(train_paths_names_dict.values())[:3])\n",
        "# print(train_labels[:3])\n",
        "print(train_paths_labels[:3])\n",
        "print([tuple((image_name(p[0]), image_name(p[1]), label_name[p[2]])) for p in train_paths_labels[:3]])"
      ],
      "execution_count": 3,
      "outputs": [
        {
          "output_type": "stream",
          "text": [
            "Loaded 6685 image paths\n",
            "Loaded 2741 image paths\n",
            "[('/content/Siamese-Neural-Networks/data/train/Aaron_Peirsol_0001.jpg', '/content/Siamese-Neural-Networks/data/train/Aaron_Peirsol_0002.jpg', 1), ('/content/Siamese-Neural-Networks/data/train/Aaron_Peirsol_0003.jpg', '/content/Siamese-Neural-Networks/data/train/Aaron_Peirsol_0004.jpg', 1), ('/content/Siamese-Neural-Networks/data/train/Aaron_Sorkin_0001.jpg', '/content/Siamese-Neural-Networks/data/train/Aaron_Sorkin_0002.jpg', 1)]\n",
            "[('Aaron_Peirsol_0001', 'Aaron_Peirsol_0002', 'Same'), ('Aaron_Peirsol_0003', 'Aaron_Peirsol_0004', 'Same'), ('Aaron_Sorkin_0001', 'Aaron_Sorkin_0002', 'Same')]\n"
          ],
          "name": "stdout"
        }
      ]
    },
    {
      "cell_type": "markdown",
      "metadata": {
        "id": "z-CMN_h9i0rO",
        "colab_type": "text"
      },
      "source": [
        "## Load and Preprocess image using TF\n",
        "These function loads images as tensors, and lay the groundwork for preprocessing"
      ]
    },
    {
      "cell_type": "code",
      "metadata": {
        "id": "Nw4j0cP8PiQV",
        "colab_type": "code",
        "colab": {}
      },
      "source": [
        "def preprocess_image(img_raw, norm=None, resize=None):\n",
        "  img_tensor = tf.image.decode_jpeg(img_raw, channels=1)\n",
        "#   print(img_tensor.shape)\n",
        "#   print(img_tensor.dtype)\n",
        "  if resize is not None:\n",
        "    img_tensor = tf.image.resize(img_tensor, resize) # [192, 192]\n",
        "  if norm is not None:\n",
        "    img_tensor = tf.cast(img_tensor, tf.float32) / norm # 255.0\n",
        "#     print(img_tensor.numpy().min())\n",
        "#     print(img_tensor.numpy().max())\n",
        "  return img_tensor\n",
        "  \n",
        "def load_and_preprocess_image(img_path, norm=None, resize=None):\n",
        "  img_raw = tf.io.read_file(img_path)\n",
        "#   print(repr(img_raw)[:100]+\"...\")\n",
        "  return preprocess_image(img_raw, norm=norm, resize=resize)\n",
        "\n",
        "def load_and_preprocess_from_path_label(paths, label, norm=None, resize=None):\n",
        "  left_image = load_and_preprocess_image(paths[0], norm=norm, resize=resize)\n",
        "  right_image = load_and_preprocess_image(paths[1], norm=norm, resize=resize)\n",
        "  return (left_image, right_image), label"
      ],
      "execution_count": 0,
      "outputs": []
    },
    {
      "cell_type": "markdown",
      "metadata": {
        "id": "4kNAMbhgqLKf",
        "colab_type": "text"
      },
      "source": [
        "### Testing `load_and_preprocess_image` [collapse]"
      ]
    },
    {
      "cell_type": "code",
      "metadata": {
        "id": "NiR6ODKHUlYT",
        "colab_type": "code",
        "outputId": "147ed2bb-7142-4b76-b188-c67a060b59d2",
        "colab": {
          "base_uri": "https://localhost:8080/",
          "height": 0
        }
      },
      "source": [
        "import matplotlib.pyplot as plt\n",
        "import numpy as np\n",
        "\n",
        "left_train_paths = [p[0] for p in train_paths_labels]\n",
        "img_path = left_train_paths[0]\n",
        "# print(img_path)\n",
        "# label = all_image_labels[0]\n",
        "\n",
        "plt.imshow(np.squeeze(load_and_preprocess_image(img_path, resize=[250,250])), cmap='gray', vmin=0, vmax=255)\n",
        "plt.grid(False)\n",
        "plt.title(image_name(img_path))\n",
        "plt.xticks([])\n",
        "plt.yticks([])\n",
        "print()"
      ],
      "execution_count": 5,
      "outputs": [
        {
          "output_type": "stream",
          "text": [
            "\n"
          ],
          "name": "stdout"
        },
        {
          "output_type": "display_data",
          "data": {
            "image/png": "[encoded data removed]",
            "text/plain": [
              "<Figure size 432x288 with 1 Axes>"
            ]
          },
          "metadata": {
            "tags": []
          }
        }
      ]
    },
    {
      "cell_type": "markdown",
      "metadata": {
        "id": "TKEkGoAMi7n6",
        "colab_type": "text"
      },
      "source": [
        "## Creating Datasets using `tf.data.Dataset.from_tensor_slices`"
      ]
    },
    {
      "cell_type": "code",
      "metadata": {
        "id": "xemxyMjZYk7e",
        "colab_type": "code",
        "colab": {}
      },
      "source": [
        "def create_ds(image_paths, labels, norm=None, resize=None):\n",
        "  ds = tf.data.Dataset.from_tensor_slices((image_paths, tf.cast(labels, tf.bool)))\n",
        "  label_ds = ds.map(\n",
        "      lambda paths, label: load_and_preprocess_from_path_label(paths, label, norm=norm, resize=resize), \n",
        "      num_parallel_calls=AUTOTUNE\n",
        "  )\n",
        "  return label_ds\n",
        "\n",
        "def create_image_ds(image_paths, norm=None, resize=None):\n",
        "  path_ds = tf.data.Dataset.from_tensor_slices(image_paths)\n",
        "  # print(path_ds)\n",
        "  image_ds = path_ds.map(lambda path: load_and_preprocess_image(path, norm=norm, resize=resize), num_parallel_calls=AUTOTUNE)\n",
        "  return image_ds\n",
        "\n",
        "def create_label_ds(labels, dtype=tf.bool):\n",
        "  return tf.data.Dataset.from_tensor_slices(tf.cast(labels, tf.bool))"
      ],
      "execution_count": 0,
      "outputs": []
    },
    {
      "cell_type": "markdown",
      "metadata": {
        "id": "0b0_YV-OggIz",
        "colab_type": "text"
      },
      "source": [
        "#### Testing `create_image_ds` [collapse]"
      ]
    },
    {
      "cell_type": "code",
      "metadata": {
        "id": "KuB6ISQRZD6h",
        "colab_type": "code",
        "outputId": "1aff5185-6569-4608-e3e7-1f27a25dc3b7",
        "colab": {
          "base_uri": "https://localhost:8080/",
          "height": 0
        }
      },
      "source": [
        "import matplotlib.pyplot as plt\n",
        "\n",
        "left_train_paths = [ p[0] for p in train_paths_labels ]\n",
        "image_ds = create_image_ds(left_train_paths)\n",
        "print(image_ds)\n",
        "\n",
        "plt.figure(figsize=(8,8))\n",
        "for n, image in enumerate(image_ds.take(4)):\n",
        "  plt.subplot(2,2,n+1)\n",
        "  plt.imshow(np.squeeze(image), cmap='gray', vmin=0, vmax=255)\n",
        "  plt.grid(False)\n",
        "  plt.xticks([])\n",
        "  plt.yticks([])\n",
        "  plt.xlabel(image_name(left_train_paths[n]))\n",
        "  plt.show()\n",
        "  \n",
        "labels = [ p[2] for p in train_paths_labels ]\n",
        "label_ds = create_label_ds(labels)\n",
        "for l in label_ds.take(10):\n",
        "  print(label_name[int(l.numpy())])"
      ],
      "execution_count": 7,
      "outputs": [
        {
          "output_type": "stream",
          "text": [
            "<ParallelMapDataset shapes: (None, None, 1), types: tf.uint8>\n"
          ],
          "name": "stdout"
        },
        {
          "output_type": "display_data",
          "data": {
            "image/png": "[encoded data removed]",
            "text/plain": [
              "<Figure size 576x576 with 1 Axes>"
            ]
          },
          "metadata": {
            "tags": []
          }
        },
        {
          "output_type": "display_data",
          "data": {
            "image/png": "[encoded data removed]",
            "text/plain": [
              "<Figure size 432x288 with 1 Axes>"
            ]
          },
          "metadata": {
            "tags": []
          }
        },
        {
          "output_type": "display_data",
          "data": {
            "image/png": "[encoded data removed]",
            "text/plain": [
              "<Figure size 432x288 with 1 Axes>"
            ]
          },
          "metadata": {
            "tags": []
          }
        },
        {
          "output_type": "display_data",
          "data": {
            "image/png": "[encoded data removed]",
            "text/plain": [
              "<Figure size 432x288 with 1 Axes>"
            ]
          },
          "metadata": {
            "tags": []
          }
        },
        {
          "output_type": "stream",
          "text": [
            "Same\n",
            "Same\n",
            "Same\n",
            "Same\n",
            "Same\n",
            "Same\n",
            "Same\n",
            "Same\n",
            "Same\n",
            "Same\n"
          ],
          "name": "stdout"
        }
      ]
    },
    {
      "cell_type": "markdown",
      "metadata": {
        "id": "6NTVJi7Mgkh3",
        "colab_type": "text"
      },
      "source": [
        "#### Loading Datasets and labels\n"
      ]
    },
    {
      "cell_type": "code",
      "metadata": {
        "colab_type": "code",
        "outputId": "6b7930d4-fa4c-46d1-d044-81b55dda1463",
        "id": "io0EuMX5bTF5",
        "colab": {
          "base_uri": "https://localhost:8080/",
          "height": 50
        }
      },
      "source": [
        "norm=255.0\n",
        "resize=[125, 125]\n",
        "# train_ds_left = create_image_ds([ p[0] for p in train_paths_labels ], norm=norm, resize=resize)\n",
        "# train_ds_right = create_image_ds([ p[1] for p in train_paths_labels ], norm=norm, resize=resize)\n",
        "# train_ds_images = tf.data.Dataset.zip((train_ds_left, train_ds_right))\n",
        "# train_ds_labels = create_label_ds([ p[2] for p in train_paths_labels ])\n",
        "# train_ds = tf.data.Dataset.zip((train_ds_images, train_ds_labels))\n",
        "# print(train_ds)\n",
        "train_ds = create_ds(\n",
        "    [ (p[0], p[1]) for p in train_paths_labels ],\n",
        "    [ p[2] for p in train_paths_labels ], \n",
        "    norm=norm, \n",
        "    resize=resize\n",
        ")\n",
        "print(train_ds)\n",
        "\n",
        "# test_ds_left = create_image_ds([ p[0] for p in test_paths_labels ], norm=norm, resize=resize)\n",
        "# test_ds_right = create_image_ds([ p[1] for p in test_paths_labels ], norm=norm, resize=resize)\n",
        "# test_ds_images = tf.data.Dataset.zip((test_ds_left, test_ds_right))\n",
        "# test_ds_labels = create_label_ds([ p[2] for p in test_paths_labels ])\n",
        "# test_ds = tf.data.Dataset.zip((test_ds_images, test_ds_labels))\n",
        "# print(test_ds)\n",
        "test_ds = create_ds(\n",
        "    [ (p[0], p[1]) for p in test_paths_labels ],\n",
        "    [ p[2] for p in test_paths_labels ], \n",
        "    norm=norm, \n",
        "    resize=resize\n",
        ")\n",
        "print(test_ds)"
      ],
      "execution_count": 8,
      "outputs": [
        {
          "output_type": "stream",
          "text": [
            "<ParallelMapDataset shapes: (((125, 125, 1), (125, 125, 1)), ()), types: ((tf.float32, tf.float32), tf.bool)>\n",
            "<ParallelMapDataset shapes: (((125, 125, 1), (125, 125, 1)), ()), types: ((tf.float32, tf.float32), tf.bool)>\n"
          ],
          "name": "stdout"
        }
      ]
    },
    {
      "cell_type": "markdown",
      "metadata": {
        "id": "c6XAUyAusycx",
        "colab_type": "text"
      },
      "source": [
        "## Basic methods for training\n",
        "To train a model with this dataset you will want the data:\n",
        "\n",
        "*   To be well shuffled.\n",
        "*   To be batched.\n",
        "*   To repeat forever.\n",
        "*   Batches to be available as soon as possible.\n",
        "\n",
        "These features can be easily added using the tf.data api."
      ]
    },
    {
      "cell_type": "code",
      "metadata": {
        "id": "4KLaNR4Is_Jb",
        "colab_type": "code",
        "colab": {}
      },
      "source": [
        "BATCH_SIZE = 128\n",
        "buffer_size = len(train_paths_labels)\n",
        "\n",
        "def prepare_ds(ds):\n",
        "  # Setting a shuffle buffer size as large as the dataset ensures that the data is\n",
        "  # completely shuffled.\n",
        "  ds = train_ds.shuffle(buffer_size=buffer_size)\n",
        "  ds = ds.repeat()\n",
        "  ds = ds.batch(batch_size=BATCH_SIZE)\n",
        "  \n",
        "  # `prefetch` lets the dataset fetch batches, in the background while the model is training.\n",
        "  ds = ds.prefetch(buffer_size=AUTOTUNE)\n",
        "  return ds\n",
        "\n",
        "def split_train_val(ds_pre, ds_len, val_size=.3):\n",
        "  val_ds_pre_len = int(val_size * ds_len)\n",
        "  val_ds_pre = ds_pre.take(val_ds_pre_len)\n",
        "  train_ds_pre = ds_pre.skip(val_ds_pre_len)\n",
        "  return train_ds_pre, val_ds_pre\n",
        "  "
      ],
      "execution_count": 0,
      "outputs": []
    },
    {
      "cell_type": "code",
      "metadata": {
        "id": "WhmFB-oCtFtI",
        "colab_type": "code",
        "colab": {}
      },
      "source": [
        "train_ds_pre, val_ds_pre = split_train_val(prepare_ds(train_ds), ds_len=len(train_paths_labels), val_size=.3)\n",
        "test_ds_pre = prepare_ds(test_ds)"
      ],
      "execution_count": 0,
      "outputs": []
    },
    {
      "cell_type": "markdown",
      "metadata": {
        "id": "iOr4Xe5DtpWq",
        "colab_type": "text"
      },
      "source": [
        "There are a few things to note here:\n",
        "\n",
        "1.   The order is important.\n",
        "\n",
        "*   A `.shuffle` after a `.repeat` would shuffle items across epoch boundaries (some items will be seen twice before others are seen at all).\n",
        "*   A `.shuffle` after a `.batch` would shuffle the order of the batches, but not shuffle the items across batches.\n",
        "\n",
        "2. We use a `buffer_size` the same size as the dataset for a full shuffle. Up to the dataset size, large values provide better randomization, but use more memory.\n",
        "\n",
        "3. The shuffle buffer is filled before any elements are pulled from it. So a large `buffer_size` may cause a delay when your `Dataset` is starting.\n",
        "\n",
        "4. The shuffeled dataset doesn't report the end of a dataset until the shuffle-buffer is completely empty. The `Dataset` is restarted by `.repeat`, causing another wait for the shuffle-buffer to be filled.\n",
        "\n",
        "This last point can be addressed by using the `tf.data.Dataset.apply` method with the fused `tf.data.experimental.shuffle_and_repeat` function:"
      ]
    },
    {
      "cell_type": "code",
      "metadata": {
        "id": "-qJUUAFsuxY2",
        "colab_type": "code",
        "colab": {}
      },
      "source": [
        "# ds = train_ds.apply(\n",
        "#   tf.data.experimental.shuffle_and_repeat(buffer_size=buffer_size))\n",
        "# ds = ds.batch(batch_size=BATCH_SIZE)\n",
        "# ds = ds.prefetch(buffer_size=AUTOTUNE)\n",
        "# ds"
      ],
      "execution_count": 0,
      "outputs": []
    },
    {
      "cell_type": "markdown",
      "metadata": {
        "id": "5IxqBk10uHGI",
        "colab_type": "text"
      },
      "source": [
        "# Build Network"
      ]
    },
    {
      "cell_type": "code",
      "metadata": {
        "id": "0sYWjqG3uX7W",
        "colab_type": "code",
        "colab": {}
      },
      "source": [
        "from tensorflow.keras.models import Sequential\n",
        "import time\n",
        "from tensorflow.keras.layers import Conv2D, ZeroPadding2D, Activation, Input, concatenate\n",
        "from tensorflow.keras.layers import Conv3D\n",
        "from tensorflow.keras.models import Model\n",
        "from tensorflow.keras.layers import MaxPooling2D, AveragePooling2D, MaxPooling3D\n",
        "from tensorflow.keras.layers import Lambda, Flatten, Dense\n",
        "from tensorflow.keras.optimizers import Adam\n",
        "from tensorflow.keras.regularizers import l2\n",
        "from tensorflow.keras import backend as K\n",
        "\n",
        "def initialize_bias(shape, name=None, dtype=None):\n",
        "    return np.random.normal(loc=0.5, scale=1e-2, size=shape)\n",
        "  \n",
        "def initialize_weights(shape, name=None, dtype=None):\n",
        "    return np.random.normal(loc=0.0, scale=1e-2, size=shape)\n",
        "  \n",
        "def initialize_weights_dense(shape, name=None, dtype=None):\n",
        "    return np.random.normal(loc=0.0, scale=0.2, size=shape)\n",
        "  \n",
        "def get_siamese_model(input_shape, filters=64, optimizer=Adam()):\n",
        "    \n",
        "    # Define the tensors for the two input images\n",
        "    left_input = Input(input_shape)\n",
        "    right_input = Input(input_shape)\n",
        "    \n",
        "    # Convolutional Neural Network\n",
        "    model = Sequential()\n",
        "    model.add(\n",
        "        Conv2D(\n",
        "            filters=filters, \n",
        "            kernel_size=(10, 10), \n",
        "            activation='relu', \n",
        "            input_shape=input_shape,\n",
        "            kernel_initializer=initialize_weights,\n",
        "            kernel_regularizer=l2(2e-4)\n",
        "        )\n",
        "    )\n",
        "    model.add(MaxPooling2D())\n",
        "    model.add(\n",
        "        Conv2D(\n",
        "            filters=filters*2, \n",
        "            kernel_size=(7, 7), \n",
        "            activation='relu',\n",
        "            kernel_initializer=initialize_weights,\n",
        "            bias_initializer=initialize_bias,\n",
        "            kernel_regularizer=l2(2e-4)\n",
        "        )\n",
        "    )\n",
        "    model.add(MaxPooling2D())\n",
        "    model.add(\n",
        "        Conv2D(\n",
        "            filters=filters*4, \n",
        "            kernel_size=(4, 4), \n",
        "            activation='relu', \n",
        "            kernel_initializer=initialize_weights,\n",
        "            bias_initializer=initialize_bias, \n",
        "            kernel_regularizer=l2(2e-4)\n",
        "        )\n",
        "    )\n",
        "    model.add(MaxPooling2D())\n",
        "    model.add(\n",
        "        Conv2D(\n",
        "            filters=filters*8, \n",
        "            kernel_size=(4, 4), \n",
        "            activation='relu', \n",
        "            kernel_initializer=initialize_weights,\n",
        "            bias_initializer=initialize_bias, \n",
        "            kernel_regularizer=l2(2e-4)\n",
        "        )\n",
        "    )\n",
        "    model.add(Flatten())\n",
        "    model.add(\n",
        "        Dense(\n",
        "            units=filters*64,\n",
        "            activation='sigmoid',\n",
        "            kernel_regularizer=l2(1e-3),\n",
        "            kernel_initializer=initialize_weights_dense,\n",
        "            bias_initializer=initialize_bias\n",
        "        )\n",
        "    )\n",
        "    \n",
        "    # Generate the encodings (feature vectors) for the two images\n",
        "    encoded_l = model(left_input)\n",
        "    encoded_r = model(right_input)\n",
        "    \n",
        "    # Add a customized layer to compute the absolute difference between the encodings\n",
        "    L1_layer = Lambda(lambda tensors: K.abs(tensors[0] - tensors[1]))\n",
        "    L1_distance = L1_layer([encoded_l, encoded_r])\n",
        "    \n",
        "    # Add a dense layer with a sigmoid unit to generate the similarity score\n",
        "    prediction = Dense(1, activation='sigmoid', bias_initializer=initialize_bias)(L1_distance)\n",
        "    \n",
        "    # Connect the inputs with the outputs\n",
        "    siamese_net = Model(inputs=[left_input, right_input], outputs=prediction)\n",
        "    \n",
        "    siamese_net.compile(\n",
        "        optimizer=optimizer,\n",
        "        loss='binary_crossentropy',\n",
        "        metrics=['accuracy'],\n",
        "        loss_weights=None,\n",
        "        sample_weight_mode=None,\n",
        "        weighted_metrics=None,\n",
        "        target_tensors=None,\n",
        "        distribute=None,\n",
        "#         **kwargs\n",
        "    )\n",
        "    # return the model\n",
        "    return siamese_net"
      ],
      "execution_count": 0,
      "outputs": []
    },
    {
      "cell_type": "code",
      "metadata": {
        "id": "5HDPG-tuuj7J",
        "colab_type": "code",
        "colab": {
          "base_uri": "https://localhost:8080/",
          "height": 6754
        },
        "outputId": "c4972f18-6ef5-4bfa-97eb-01602a9d3f2b"
      },
      "source": [
        "from tensorflow.keras.optimizers import SGD\n",
        "\n",
        "\n",
        "input_shape = (resize[0], resize[1], 1)\n",
        "filters = 8\n",
        "lr = 1e-3\n",
        "model = get_siamese_model(\n",
        "    input_shape=input_shape, \n",
        "    filters=filters, \n",
        "    optimizer=Adam(lr=lr)\n",
        "#     optimizer=SGD(learning_rate=lr, momentum=0.5)\n",
        ")\n",
        "\n",
        "model.fit(\n",
        "    train_ds_pre,\n",
        "#     batch_size=128,\n",
        "    epochs=200\n",
        "    , #epochs=200,\n",
        "    verbose=1,\n",
        "#     callbacks=None,\n",
        "#     validation_split=0.0,\n",
        "    validation_data=val_ds_pre,\n",
        "#     shuffle=True,\n",
        "#     class_weight=None,\n",
        "#     sample_weight=None,\n",
        "#     initial_epoch=0,\n",
        "    steps_per_epoch=12,\n",
        "    validation_steps=5,\n",
        "#     max_queue_size=10,\n",
        "#     workers=1,\n",
        "#     use_multiprocessing=False,\n",
        "#     **kwargs\n",
        ")"
      ],
      "execution_count": 14,
      "outputs": [
        {
          "output_type": "stream",
          "text": [
            "Epoch 1/200\n",
            "12/12 [==============================] - 68s 6s/step - loss: 80.8927 - accuracy: 0.5410 - val_loss: 76.7943 - val_accuracy: 0.6062\n",
            "Epoch 2/200\n",
            "12/12 [==============================] - 4s 302ms/step - loss: 73.5728 - accuracy: 0.6003 - val_loss: 69.8684 - val_accuracy: 0.6578\n",
            "Epoch 3/200\n",
            "12/12 [==============================] - 3s 276ms/step - loss: 66.9586 - accuracy: 0.6289 - val_loss: 63.6074 - val_accuracy: 0.6125\n",
            "Epoch 4/200\n",
            "12/12 [==============================] - 3s 287ms/step - loss: 60.9894 - accuracy: 0.6328 - val_loss: 57.9538 - val_accuracy: 0.6875\n",
            "Epoch 5/200\n",
            "12/12 [==============================] - 3s 272ms/step - loss: 55.6001 - accuracy: 0.6413 - val_loss: 52.8535 - val_accuracy: 0.6812\n",
            "Epoch 6/200\n",
            "12/12 [==============================] - 3s 276ms/step - loss: 50.7325 - accuracy: 0.6237 - val_loss: 48.2507 - val_accuracy: 0.6812\n",
            "Epoch 7/200\n",
            "12/12 [==============================] - 4s 295ms/step - loss: 46.3178 - accuracy: 0.6530 - val_loss: 44.0751 - val_accuracy: 0.6938\n",
            "Epoch 8/200\n",
            "12/12 [==============================] - 3s 273ms/step - loss: 42.3150 - accuracy: 0.6654 - val_loss: 40.2844 - val_accuracy: 0.6406\n",
            "Epoch 9/200\n",
            "12/12 [==============================] - 4s 295ms/step - loss: 38.6775 - accuracy: 0.6589 - val_loss: 36.8355 - val_accuracy: 0.6719\n",
            "Epoch 10/200\n",
            "12/12 [==============================] - 3s 281ms/step - loss: 35.3977 - accuracy: 0.6387 - val_loss: 33.6972 - val_accuracy: 0.7047\n",
            "Epoch 11/200\n",
            "12/12 [==============================] - 3s 275ms/step - loss: 32.3838 - accuracy: 0.6686 - val_loss: 30.8452 - val_accuracy: 0.6906\n",
            "Epoch 12/200\n",
            "12/12 [==============================] - 3s 276ms/step - loss: 29.6500 - accuracy: 0.6569 - val_loss: 28.2298 - val_accuracy: 0.7125\n",
            "Epoch 13/200\n",
            "12/12 [==============================] - 4s 299ms/step - loss: 27.1517 - accuracy: 0.6673 - val_loss: 25.8749 - val_accuracy: 0.6953\n",
            "Epoch 14/200\n",
            "12/12 [==============================] - 5s 397ms/step - loss: 24.9073 - accuracy: 0.6497 - val_loss: 23.7157 - val_accuracy: 0.7063\n",
            "Epoch 15/200\n",
            "12/12 [==============================] - 4s 324ms/step - loss: 22.7971 - accuracy: 0.7018 - val_loss: 21.7331 - val_accuracy: 0.7000\n",
            "Epoch 16/200\n",
            "12/12 [==============================] - 3s 274ms/step - loss: 20.9137 - accuracy: 0.6842 - val_loss: 19.9310 - val_accuracy: 0.7250\n",
            "Epoch 17/200\n",
            "12/12 [==============================] - 3s 274ms/step - loss: 19.1760 - accuracy: 0.6986 - val_loss: 18.2821 - val_accuracy: 0.7031\n",
            "Epoch 18/200\n",
            "12/12 [==============================] - 3s 275ms/step - loss: 17.5977 - accuracy: 0.6940 - val_loss: 16.7756 - val_accuracy: 0.7047\n",
            "Epoch 19/200\n",
            "12/12 [==============================] - 4s 310ms/step - loss: 16.1427 - accuracy: 0.7240 - val_loss: 15.4000 - val_accuracy: 0.7359\n",
            "Epoch 20/200\n",
            "12/12 [==============================] - 4s 319ms/step - loss: 14.8150 - accuracy: 0.7402 - val_loss: 14.1197 - val_accuracy: 0.7547\n",
            "Epoch 21/200\n",
            "12/12 [==============================] - 4s 313ms/step - loss: 13.6308 - accuracy: 0.7318 - val_loss: 12.9771 - val_accuracy: 0.7766\n",
            "Epoch 22/200\n",
            "12/12 [==============================] - 3s 275ms/step - loss: 12.5131 - accuracy: 0.7461 - val_loss: 11.9194 - val_accuracy: 0.7922\n",
            "Epoch 23/200\n",
            "12/12 [==============================] - 3s 275ms/step - loss: 11.4956 - accuracy: 0.7487 - val_loss: 10.9592 - val_accuracy: 0.8109\n",
            "Epoch 24/200\n",
            "12/12 [==============================] - 3s 278ms/step - loss: 10.6085 - accuracy: 0.7409 - val_loss: 10.0716 - val_accuracy: 0.8391\n",
            "Epoch 25/200\n",
            "12/12 [==============================] - 3s 276ms/step - loss: 9.7282 - accuracy: 0.7923 - val_loss: 9.2450 - val_accuracy: 0.8453\n",
            "Epoch 26/200\n",
            "12/12 [==============================] - 3s 274ms/step - loss: 8.9367 - accuracy: 0.8079 - val_loss: 8.4938 - val_accuracy: 0.8750\n",
            "Epoch 27/200\n",
            "12/12 [==============================] - 3s 277ms/step - loss: 8.1984 - accuracy: 0.8424 - val_loss: 7.7982 - val_accuracy: 0.8906\n",
            "Epoch 28/200\n",
            "12/12 [==============================] - 3s 273ms/step - loss: 7.5582 - accuracy: 0.8457 - val_loss: 7.1822 - val_accuracy: 0.8828\n",
            "Epoch 29/200\n",
            "12/12 [==============================] - 3s 276ms/step - loss: 6.9339 - accuracy: 0.8750 - val_loss: 6.5834 - val_accuracy: 0.9172\n",
            "Epoch 30/200\n",
            "12/12 [==============================] - 3s 277ms/step - loss: 6.4183 - accuracy: 0.8620 - val_loss: 6.0937 - val_accuracy: 0.9094\n",
            "Epoch 31/200\n",
            "12/12 [==============================] - 3s 275ms/step - loss: 5.9278 - accuracy: 0.8704 - val_loss: 5.6078 - val_accuracy: 0.9328\n",
            "Epoch 32/200\n",
            "12/12 [==============================] - 3s 276ms/step - loss: 5.4256 - accuracy: 0.9186 - val_loss: 5.1442 - val_accuracy: 0.9578\n",
            "Epoch 33/200\n",
            "12/12 [==============================] - 3s 277ms/step - loss: 4.9812 - accuracy: 0.9421 - val_loss: 4.7273 - val_accuracy: 0.9750\n",
            "Epoch 34/200\n",
            "12/12 [==============================] - 3s 275ms/step - loss: 4.5990 - accuracy: 0.9421 - val_loss: 4.3426 - val_accuracy: 0.9875\n",
            "Epoch 35/200\n",
            "12/12 [==============================] - 3s 274ms/step - loss: 4.2152 - accuracy: 0.9655 - val_loss: 3.9888 - val_accuracy: 0.9875\n",
            "Epoch 36/200\n",
            "12/12 [==============================] - 3s 277ms/step - loss: 3.8759 - accuracy: 0.9746 - val_loss: 3.6628 - val_accuracy: 0.9984\n",
            "Epoch 37/200\n",
            "12/12 [==============================] - 3s 275ms/step - loss: 3.5725 - accuracy: 0.9779 - val_loss: 3.3934 - val_accuracy: 0.9969\n",
            "Epoch 38/200\n",
            "12/12 [==============================] - 3s 275ms/step - loss: 3.2810 - accuracy: 0.9876 - val_loss: 3.1057 - val_accuracy: 0.9969\n",
            "Epoch 39/200\n",
            "12/12 [==============================] - 3s 278ms/step - loss: 3.0117 - accuracy: 0.9915 - val_loss: 2.8552 - val_accuracy: 0.9969\n",
            "Epoch 40/200\n",
            "12/12 [==============================] - 3s 275ms/step - loss: 2.7789 - accuracy: 0.9915 - val_loss: 2.6290 - val_accuracy: 0.9984\n",
            "Epoch 41/200\n",
            "12/12 [==============================] - 3s 277ms/step - loss: 2.5499 - accuracy: 0.9980 - val_loss: 2.4147 - val_accuracy: 1.0000\n",
            "Epoch 42/200\n",
            "12/12 [==============================] - 3s 277ms/step - loss: 2.3346 - accuracy: 0.9980 - val_loss: 2.2189 - val_accuracy: 1.0000\n",
            "Epoch 43/200\n",
            "12/12 [==============================] - 4s 317ms/step - loss: 2.1526 - accuracy: 1.0000 - val_loss: 2.0435 - val_accuracy: 1.0000\n",
            "Epoch 44/200\n",
            "12/12 [==============================] - 4s 322ms/step - loss: 1.9813 - accuracy: 0.9987 - val_loss: 1.8812 - val_accuracy: 1.0000\n",
            "Epoch 45/200\n",
            "12/12 [==============================] - 4s 305ms/step - loss: 1.8167 - accuracy: 0.9993 - val_loss: 1.7326 - val_accuracy: 1.0000\n",
            "Epoch 46/200\n",
            "12/12 [==============================] - 3s 275ms/step - loss: 1.6723 - accuracy: 1.0000 - val_loss: 1.5902 - val_accuracy: 1.0000\n",
            "Epoch 47/200\n",
            "12/12 [==============================] - 3s 275ms/step - loss: 1.5384 - accuracy: 1.0000 - val_loss: 1.4606 - val_accuracy: 1.0000\n",
            "Epoch 48/200\n",
            "12/12 [==============================] - 3s 277ms/step - loss: 1.4109 - accuracy: 1.0000 - val_loss: 1.3431 - val_accuracy: 1.0000\n",
            "Epoch 49/200\n",
            "12/12 [==============================] - 3s 275ms/step - loss: 1.2943 - accuracy: 1.0000 - val_loss: 1.2325 - val_accuracy: 1.0000\n",
            "Epoch 50/200\n",
            "12/12 [==============================] - 3s 276ms/step - loss: 1.1900 - accuracy: 1.0000 - val_loss: 1.1326 - val_accuracy: 1.0000\n",
            "Epoch 51/200\n",
            "12/12 [==============================] - 3s 280ms/step - loss: 1.0932 - accuracy: 1.0000 - val_loss: 1.0399 - val_accuracy: 1.0000\n",
            "Epoch 52/200\n",
            "12/12 [==============================] - 4s 321ms/step - loss: 1.0013 - accuracy: 1.0000 - val_loss: 0.9547 - val_accuracy: 1.0000\n",
            "Epoch 53/200\n",
            "12/12 [==============================] - 3s 287ms/step - loss: 0.9213 - accuracy: 1.0000 - val_loss: 0.8785 - val_accuracy: 1.0000\n",
            "Epoch 54/200\n",
            "12/12 [==============================] - 3s 276ms/step - loss: 0.8468 - accuracy: 1.0000 - val_loss: 0.8067 - val_accuracy: 1.0000\n",
            "Epoch 55/200\n",
            "12/12 [==============================] - 3s 274ms/step - loss: 0.7780 - accuracy: 1.0000 - val_loss: 0.7417 - val_accuracy: 1.0000\n",
            "Epoch 56/200\n",
            "12/12 [==============================] - 3s 277ms/step - loss: 0.7162 - accuracy: 1.0000 - val_loss: 0.6831 - val_accuracy: 1.0000\n",
            "Epoch 57/200\n",
            "12/12 [==============================] - 3s 277ms/step - loss: 0.6598 - accuracy: 1.0000 - val_loss: 0.6287 - val_accuracy: 1.0000\n",
            "Epoch 58/200\n",
            "12/12 [==============================] - 3s 276ms/step - loss: 0.6081 - accuracy: 1.0000 - val_loss: 0.5793 - val_accuracy: 1.0000\n",
            "Epoch 59/200\n",
            "12/12 [==============================] - 3s 279ms/step - loss: 0.5600 - accuracy: 1.0000 - val_loss: 0.5347 - val_accuracy: 1.0000\n",
            "Epoch 60/200\n",
            "12/12 [==============================] - 3s 281ms/step - loss: 0.5195 - accuracy: 1.0000 - val_loss: 0.4967 - val_accuracy: 1.0000\n",
            "Epoch 61/200\n",
            "12/12 [==============================] - 3s 278ms/step - loss: 0.4844 - accuracy: 1.0000 - val_loss: 0.4619 - val_accuracy: 1.0000\n",
            "Epoch 62/200\n",
            "12/12 [==============================] - 3s 275ms/step - loss: 0.4587 - accuracy: 1.0000 - val_loss: 0.4635 - val_accuracy: 0.9984\n",
            "Epoch 63/200\n",
            "12/12 [==============================] - 3s 281ms/step - loss: 0.7140 - accuracy: 0.8698 - val_loss: 0.8458 - val_accuracy: 0.8172\n",
            "Epoch 64/200\n",
            "12/12 [==============================] - 3s 278ms/step - loss: 1.0016 - accuracy: 0.7500 - val_loss: 0.8791 - val_accuracy: 0.8609\n",
            "Epoch 65/200\n",
            "12/12 [==============================] - 3s 277ms/step - loss: 0.9118 - accuracy: 0.8509 - val_loss: 0.7888 - val_accuracy: 0.9406\n",
            "Epoch 66/200\n",
            "12/12 [==============================] - 4s 296ms/step - loss: 0.8469 - accuracy: 0.8991 - val_loss: 0.7121 - val_accuracy: 0.9797\n",
            "Epoch 67/200\n",
            "12/12 [==============================] - 4s 322ms/step - loss: 0.7247 - accuracy: 0.9590 - val_loss: 0.6238 - val_accuracy: 0.9937\n",
            "Epoch 68/200\n",
            "12/12 [==============================] - 4s 323ms/step - loss: 0.6149 - accuracy: 0.9876 - val_loss: 0.5658 - val_accuracy: 0.9969\n",
            "Epoch 69/200\n",
            "12/12 [==============================] - 3s 289ms/step - loss: 0.5392 - accuracy: 0.9967 - val_loss: 0.4894 - val_accuracy: 1.0000\n",
            "Epoch 70/200\n",
            "12/12 [==============================] - 3s 278ms/step - loss: 0.4732 - accuracy: 0.9993 - val_loss: 0.4333 - val_accuracy: 1.0000\n",
            "Epoch 71/200\n",
            "12/12 [==============================] - 3s 280ms/step - loss: 0.4203 - accuracy: 1.0000 - val_loss: 0.3906 - val_accuracy: 1.0000\n",
            "Epoch 72/200\n",
            "12/12 [==============================] - 3s 282ms/step - loss: 0.3747 - accuracy: 1.0000 - val_loss: 0.3536 - val_accuracy: 1.0000\n",
            "Epoch 73/200\n",
            "12/12 [==============================] - 3s 278ms/step - loss: 0.3416 - accuracy: 1.0000 - val_loss: 0.3234 - val_accuracy: 1.0000\n",
            "Epoch 74/200\n",
            "12/12 [==============================] - 3s 278ms/step - loss: 0.3117 - accuracy: 1.0000 - val_loss: 0.2947 - val_accuracy: 1.0000\n",
            "Epoch 75/200\n",
            "12/12 [==============================] - 3s 279ms/step - loss: 0.2844 - accuracy: 1.0000 - val_loss: 0.2709 - val_accuracy: 1.0000\n",
            "Epoch 76/200\n",
            "12/12 [==============================] - 3s 278ms/step - loss: 0.2619 - accuracy: 1.0000 - val_loss: 0.2499 - val_accuracy: 1.0000\n",
            "Epoch 77/200\n",
            "12/12 [==============================] - 3s 279ms/step - loss: 0.2422 - accuracy: 1.0000 - val_loss: 0.2304 - val_accuracy: 1.0000\n",
            "Epoch 78/200\n",
            "12/12 [==============================] - 3s 282ms/step - loss: 0.2236 - accuracy: 1.0000 - val_loss: 0.2134 - val_accuracy: 1.0000\n",
            "Epoch 79/200\n",
            "12/12 [==============================] - 3s 278ms/step - loss: 0.2073 - accuracy: 1.0000 - val_loss: 0.1983 - val_accuracy: 1.0000\n",
            "Epoch 80/200\n",
            "12/12 [==============================] - 3s 279ms/step - loss: 0.1929 - accuracy: 1.0000 - val_loss: 0.1841 - val_accuracy: 1.0000\n",
            "Epoch 81/200\n",
            "12/12 [==============================] - 3s 282ms/step - loss: 0.1794 - accuracy: 1.0000 - val_loss: 0.1716 - val_accuracy: 1.0000\n",
            "Epoch 82/200\n",
            "12/12 [==============================] - 3s 278ms/step - loss: 0.1670 - accuracy: 1.0000 - val_loss: 0.1601 - val_accuracy: 1.0000\n",
            "Epoch 83/200\n",
            "12/12 [==============================] - 3s 280ms/step - loss: 0.1563 - accuracy: 1.0000 - val_loss: 0.1498 - val_accuracy: 1.0000\n",
            "Epoch 84/200\n",
            "12/12 [==============================] - 3s 279ms/step - loss: 0.1466 - accuracy: 1.0000 - val_loss: 0.1401 - val_accuracy: 1.0000\n",
            "Epoch 85/200\n",
            "12/12 [==============================] - 3s 275ms/step - loss: 0.1366 - accuracy: 1.0000 - val_loss: 0.1312 - val_accuracy: 1.0000\n",
            "Epoch 86/200\n",
            "12/12 [==============================] - 3s 278ms/step - loss: 0.1284 - accuracy: 1.0000 - val_loss: 0.1234 - val_accuracy: 1.0000\n",
            "Epoch 87/200\n",
            "12/12 [==============================] - 3s 278ms/step - loss: 0.1208 - accuracy: 1.0000 - val_loss: 0.1157 - val_accuracy: 1.0000\n",
            "Epoch 88/200\n",
            "12/12 [==============================] - 3s 279ms/step - loss: 0.1134 - accuracy: 1.0000 - val_loss: 0.1088 - val_accuracy: 1.0000\n",
            "Epoch 89/200\n",
            "12/12 [==============================] - 3s 277ms/step - loss: 0.1068 - accuracy: 1.0000 - val_loss: 0.1025 - val_accuracy: 1.0000\n",
            "Epoch 90/200\n",
            "12/12 [==============================] - 4s 315ms/step - loss: 0.1009 - accuracy: 1.0000 - val_loss: 0.0968 - val_accuracy: 1.0000\n",
            "Epoch 91/200\n",
            "12/12 [==============================] - 4s 326ms/step - loss: 0.0955 - accuracy: 1.0000 - val_loss: 0.0916 - val_accuracy: 1.0000\n",
            "Epoch 92/200\n",
            "12/12 [==============================] - 4s 312ms/step - loss: 0.0904 - accuracy: 1.0000 - val_loss: 0.0873 - val_accuracy: 1.0000\n",
            "Epoch 93/200\n",
            "12/12 [==============================] - 3s 281ms/step - loss: 0.0867 - accuracy: 1.0000 - val_loss: 0.0835 - val_accuracy: 1.0000\n",
            "Epoch 94/200\n",
            "12/12 [==============================] - 3s 281ms/step - loss: 0.0829 - accuracy: 1.0000 - val_loss: 0.0786 - val_accuracy: 1.0000\n",
            "Epoch 95/200\n",
            "12/12 [==============================] - 3s 277ms/step - loss: 0.0777 - accuracy: 1.0000 - val_loss: 0.0746 - val_accuracy: 1.0000\n",
            "Epoch 96/200\n",
            "12/12 [==============================] - 3s 284ms/step - loss: 0.0740 - accuracy: 1.0000 - val_loss: 0.0713 - val_accuracy: 1.0000\n",
            "Epoch 97/200\n",
            "12/12 [==============================] - 3s 280ms/step - loss: 0.0707 - accuracy: 1.0000 - val_loss: 0.0678 - val_accuracy: 1.0000\n",
            "Epoch 98/200\n",
            "12/12 [==============================] - 3s 278ms/step - loss: 0.0673 - accuracy: 1.0000 - val_loss: 0.0647 - val_accuracy: 1.0000\n",
            "Epoch 99/200\n",
            "12/12 [==============================] - 3s 282ms/step - loss: 0.0642 - accuracy: 1.0000 - val_loss: 0.0620 - val_accuracy: 1.0000\n",
            "Epoch 100/200\n",
            "12/12 [==============================] - 3s 280ms/step - loss: 0.0616 - accuracy: 1.0000 - val_loss: 0.0593 - val_accuracy: 1.0000\n",
            "Epoch 101/200\n",
            "12/12 [==============================] - 3s 279ms/step - loss: 0.0591 - accuracy: 1.0000 - val_loss: 0.0566 - val_accuracy: 1.0000\n",
            "Epoch 102/200\n",
            "12/12 [==============================] - 3s 277ms/step - loss: 0.0568 - accuracy: 1.0000 - val_loss: 0.0555 - val_accuracy: 1.0000\n",
            "Epoch 103/200\n",
            "12/12 [==============================] - 3s 279ms/step - loss: 0.0582 - accuracy: 1.0000 - val_loss: 0.0645 - val_accuracy: 1.0000\n",
            "Epoch 104/200\n",
            "12/12 [==============================] - 4s 321ms/step - loss: 0.2978 - accuracy: 0.9010 - val_loss: 0.5135 - val_accuracy: 0.8156\n",
            "Epoch 105/200\n",
            "12/12 [==============================] - 4s 333ms/step - loss: 0.6623 - accuracy: 0.7637 - val_loss: 0.6768 - val_accuracy: 0.7937\n",
            "Epoch 106/200\n",
            "12/12 [==============================] - 4s 315ms/step - loss: 0.7732 - accuracy: 0.7604 - val_loss: 0.6734 - val_accuracy: 0.8406\n",
            "Epoch 107/200\n",
            "12/12 [==============================] - 3s 276ms/step - loss: 0.7089 - accuracy: 0.8327 - val_loss: 0.6172 - val_accuracy: 0.9031\n",
            "Epoch 108/200\n",
            "12/12 [==============================] - 3s 281ms/step - loss: 0.5995 - accuracy: 0.9134 - val_loss: 0.5200 - val_accuracy: 0.9641\n",
            "Epoch 109/200\n",
            "12/12 [==============================] - 3s 279ms/step - loss: 0.5117 - accuracy: 0.9440 - val_loss: 0.4189 - val_accuracy: 0.9937\n",
            "Epoch 110/200\n",
            "12/12 [==============================] - 3s 277ms/step - loss: 0.4273 - accuracy: 0.9876 - val_loss: 0.3707 - val_accuracy: 0.9984\n",
            "Epoch 111/200\n",
            "12/12 [==============================] - 3s 278ms/step - loss: 0.3572 - accuracy: 0.9974 - val_loss: 0.3173 - val_accuracy: 1.0000\n",
            "Epoch 112/200\n",
            "12/12 [==============================] - 3s 277ms/step - loss: 0.3026 - accuracy: 1.0000 - val_loss: 0.2807 - val_accuracy: 1.0000\n",
            "Epoch 113/200\n",
            "12/12 [==============================] - 4s 310ms/step - loss: 0.2712 - accuracy: 1.0000 - val_loss: 0.2514 - val_accuracy: 1.0000\n",
            "Epoch 114/200\n",
            "12/12 [==============================] - 4s 327ms/step - loss: 0.2424 - accuracy: 1.0000 - val_loss: 0.2284 - val_accuracy: 1.0000\n",
            "Epoch 115/200\n",
            "12/12 [==============================] - 4s 316ms/step - loss: 0.2198 - accuracy: 1.0000 - val_loss: 0.2094 - val_accuracy: 1.0000\n",
            "Epoch 116/200\n",
            "12/12 [==============================] - 3s 276ms/step - loss: 0.2029 - accuracy: 1.0000 - val_loss: 0.1928 - val_accuracy: 1.0000\n",
            "Epoch 117/200\n",
            "12/12 [==============================] - 3s 279ms/step - loss: 0.1869 - accuracy: 1.0000 - val_loss: 0.1786 - val_accuracy: 1.0000\n",
            "Epoch 118/200\n",
            "12/12 [==============================] - 3s 278ms/step - loss: 0.1733 - accuracy: 1.0000 - val_loss: 0.1661 - val_accuracy: 1.0000\n",
            "Epoch 119/200\n",
            "12/12 [==============================] - 3s 275ms/step - loss: 0.1616 - accuracy: 1.0000 - val_loss: 0.1550 - val_accuracy: 1.0000\n",
            "Epoch 120/200\n",
            "12/12 [==============================] - 3s 278ms/step - loss: 0.1511 - accuracy: 1.0000 - val_loss: 0.1450 - val_accuracy: 1.0000\n",
            "Epoch 121/200\n",
            "12/12 [==============================] - 3s 275ms/step - loss: 0.1416 - accuracy: 1.0000 - val_loss: 0.1361 - val_accuracy: 1.0000\n",
            "Epoch 122/200\n",
            "12/12 [==============================] - 3s 275ms/step - loss: 0.1326 - accuracy: 1.0000 - val_loss: 0.1280 - val_accuracy: 1.0000\n",
            "Epoch 123/200\n",
            "12/12 [==============================] - 3s 277ms/step - loss: 0.1254 - accuracy: 1.0000 - val_loss: 0.1207 - val_accuracy: 1.0000\n",
            "Epoch 124/200\n",
            "12/12 [==============================] - 3s 275ms/step - loss: 0.1184 - accuracy: 1.0000 - val_loss: 0.1139 - val_accuracy: 1.0000\n",
            "Epoch 125/200\n",
            "12/12 [==============================] - 3s 274ms/step - loss: 0.1114 - accuracy: 1.0000 - val_loss: 0.1079 - val_accuracy: 1.0000\n",
            "Epoch 126/200\n",
            "12/12 [==============================] - 3s 277ms/step - loss: 0.1057 - accuracy: 1.0000 - val_loss: 0.1023 - val_accuracy: 1.0000\n",
            "Epoch 127/200\n",
            "12/12 [==============================] - 3s 279ms/step - loss: 0.1006 - accuracy: 1.0000 - val_loss: 0.0970 - val_accuracy: 1.0000\n",
            "Epoch 128/200\n",
            "12/12 [==============================] - 3s 280ms/step - loss: 0.0951 - accuracy: 1.0000 - val_loss: 0.0922 - val_accuracy: 1.0000\n",
            "Epoch 129/200\n",
            "12/12 [==============================] - 3s 279ms/step - loss: 0.0905 - accuracy: 1.0000 - val_loss: 0.0878 - val_accuracy: 1.0000\n",
            "Epoch 130/200\n",
            "12/12 [==============================] - 3s 278ms/step - loss: 0.0865 - accuracy: 1.0000 - val_loss: 0.0837 - val_accuracy: 1.0000\n",
            "Epoch 131/200\n",
            "12/12 [==============================] - 3s 278ms/step - loss: 0.0824 - accuracy: 1.0000 - val_loss: 0.0798 - val_accuracy: 1.0000\n",
            "Epoch 132/200\n",
            "12/12 [==============================] - 3s 278ms/step - loss: 0.0786 - accuracy: 1.0000 - val_loss: 0.0765 - val_accuracy: 1.0000\n",
            "Epoch 133/200\n",
            "12/12 [==============================] - 3s 276ms/step - loss: 0.0753 - accuracy: 1.0000 - val_loss: 0.0731 - val_accuracy: 1.0000\n",
            "Epoch 134/200\n",
            "12/12 [==============================] - 3s 277ms/step - loss: 0.0722 - accuracy: 1.0000 - val_loss: 0.0698 - val_accuracy: 1.0000\n",
            "Epoch 135/200\n",
            "12/12 [==============================] - 3s 275ms/step - loss: 0.0690 - accuracy: 1.0000 - val_loss: 0.0671 - val_accuracy: 1.0000\n",
            "Epoch 136/200\n",
            "12/12 [==============================] - 3s 279ms/step - loss: 0.0662 - accuracy: 1.0000 - val_loss: 0.0643 - val_accuracy: 1.0000\n",
            "Epoch 137/200\n",
            "12/12 [==============================] - 4s 319ms/step - loss: 0.0637 - accuracy: 1.0000 - val_loss: 0.0616 - val_accuracy: 1.0000\n",
            "Epoch 138/200\n",
            "12/12 [==============================] - 4s 323ms/step - loss: 0.0609 - accuracy: 1.0000 - val_loss: 0.0593 - val_accuracy: 1.0000\n",
            "Epoch 139/200\n",
            "12/12 [==============================] - 4s 305ms/step - loss: 0.0587 - accuracy: 1.0000 - val_loss: 0.0571 - val_accuracy: 1.0000\n",
            "Epoch 140/200\n",
            "12/12 [==============================] - 3s 278ms/step - loss: 0.0567 - accuracy: 1.0000 - val_loss: 0.0549 - val_accuracy: 1.0000\n",
            "Epoch 141/200\n",
            "12/12 [==============================] - 4s 323ms/step - loss: 0.0544 - accuracy: 1.0000 - val_loss: 0.0529 - val_accuracy: 1.0000\n",
            "Epoch 142/200\n",
            "12/12 [==============================] - 3s 288ms/step - loss: 0.0524 - accuracy: 1.0000 - val_loss: 0.0510 - val_accuracy: 1.0000\n",
            "Epoch 143/200\n",
            "12/12 [==============================] - 3s 275ms/step - loss: 0.0506 - accuracy: 1.0000 - val_loss: 0.0492 - val_accuracy: 1.0000\n",
            "Epoch 144/200\n",
            "12/12 [==============================] - 3s 277ms/step - loss: 0.0489 - accuracy: 1.0000 - val_loss: 0.0474 - val_accuracy: 1.0000\n",
            "Epoch 145/200\n",
            "12/12 [==============================] - 3s 277ms/step - loss: 0.0470 - accuracy: 1.0000 - val_loss: 0.0460 - val_accuracy: 1.0000\n",
            "Epoch 146/200\n",
            "12/12 [==============================] - 3s 277ms/step - loss: 0.0457 - accuracy: 1.0000 - val_loss: 0.0444 - val_accuracy: 1.0000\n",
            "Epoch 147/200\n",
            "12/12 [==============================] - 3s 276ms/step - loss: 0.0444 - accuracy: 1.0000 - val_loss: 0.0431 - val_accuracy: 1.0000\n",
            "Epoch 148/200\n",
            "12/12 [==============================] - 3s 276ms/step - loss: 0.0427 - accuracy: 1.0000 - val_loss: 0.0416 - val_accuracy: 1.0000\n",
            "Epoch 149/200\n",
            "12/12 [==============================] - 3s 278ms/step - loss: 0.0414 - accuracy: 1.0000 - val_loss: 0.0403 - val_accuracy: 1.0000\n",
            "Epoch 150/200\n",
            "12/12 [==============================] - 3s 276ms/step - loss: 0.0402 - accuracy: 1.0000 - val_loss: 0.0390 - val_accuracy: 1.0000\n",
            "Epoch 151/200\n",
            "12/12 [==============================] - 3s 275ms/step - loss: 0.0389 - accuracy: 1.0000 - val_loss: 0.0381 - val_accuracy: 1.0000\n",
            "Epoch 152/200\n",
            "12/12 [==============================] - 3s 278ms/step - loss: 0.0385 - accuracy: 1.0000 - val_loss: 0.0386 - val_accuracy: 1.0000\n",
            "Epoch 153/200\n",
            "12/12 [==============================] - 3s 277ms/step - loss: 0.0442 - accuracy: 1.0000 - val_loss: 0.0554 - val_accuracy: 0.9984\n",
            "Epoch 154/200\n",
            "12/12 [==============================] - 3s 275ms/step - loss: 0.0988 - accuracy: 0.9857 - val_loss: 0.1633 - val_accuracy: 0.9672\n",
            "Epoch 155/200\n",
            "12/12 [==============================] - 3s 274ms/step - loss: 0.3242 - accuracy: 0.9102 - val_loss: 0.3084 - val_accuracy: 0.9484\n",
            "Epoch 156/200\n",
            "12/12 [==============================] - 3s 274ms/step - loss: 0.4632 - accuracy: 0.8678 - val_loss: 0.4208 - val_accuracy: 0.9203\n",
            "Epoch 157/200\n",
            "12/12 [==============================] - 3s 278ms/step - loss: 0.4806 - accuracy: 0.8932 - val_loss: 0.3630 - val_accuracy: 0.9656\n",
            "Epoch 158/200\n",
            "12/12 [==============================] - 3s 276ms/step - loss: 0.3698 - accuracy: 0.9681 - val_loss: 0.3355 - val_accuracy: 0.9844\n",
            "Epoch 159/200\n",
            "12/12 [==============================] - 3s 276ms/step - loss: 0.3426 - accuracy: 0.9837 - val_loss: 0.2986 - val_accuracy: 0.9937\n",
            "Epoch 160/200\n",
            "12/12 [==============================] - 4s 292ms/step - loss: 0.3030 - accuracy: 0.9935 - val_loss: 0.2658 - val_accuracy: 1.0000\n",
            "Epoch 161/200\n",
            "12/12 [==============================] - 4s 320ms/step - loss: 0.2569 - accuracy: 1.0000 - val_loss: 0.2389 - val_accuracy: 1.0000\n",
            "Epoch 162/200\n",
            "12/12 [==============================] - 4s 321ms/step - loss: 0.2292 - accuracy: 1.0000 - val_loss: 0.2140 - val_accuracy: 1.0000\n",
            "Epoch 163/200\n",
            "12/12 [==============================] - 3s 285ms/step - loss: 0.2053 - accuracy: 1.0000 - val_loss: 0.1940 - val_accuracy: 1.0000\n",
            "Epoch 164/200\n",
            "12/12 [==============================] - 3s 275ms/step - loss: 0.1865 - accuracy: 1.0000 - val_loss: 0.1772 - val_accuracy: 1.0000\n",
            "Epoch 165/200\n",
            "12/12 [==============================] - 3s 276ms/step - loss: 0.1707 - accuracy: 1.0000 - val_loss: 0.1630 - val_accuracy: 1.0000\n",
            "Epoch 166/200\n",
            "12/12 [==============================] - 3s 279ms/step - loss: 0.1575 - accuracy: 1.0000 - val_loss: 0.1507 - val_accuracy: 1.0000\n",
            "Epoch 167/200\n",
            "12/12 [==============================] - 3s 277ms/step - loss: 0.1459 - accuracy: 1.0000 - val_loss: 0.1399 - val_accuracy: 1.0000\n",
            "Epoch 168/200\n",
            "12/12 [==============================] - 3s 275ms/step - loss: 0.1356 - accuracy: 1.0000 - val_loss: 0.1305 - val_accuracy: 1.0000\n",
            "Epoch 169/200\n",
            "12/12 [==============================] - 3s 278ms/step - loss: 0.1267 - accuracy: 1.0000 - val_loss: 0.1220 - val_accuracy: 1.0000\n",
            "Epoch 170/200\n",
            "12/12 [==============================] - 3s 277ms/step - loss: 0.1187 - accuracy: 1.0000 - val_loss: 0.1145 - val_accuracy: 1.0000\n",
            "Epoch 171/200\n",
            "12/12 [==============================] - 3s 276ms/step - loss: 0.1115 - accuracy: 1.0000 - val_loss: 0.1077 - val_accuracy: 1.0000\n",
            "Epoch 172/200\n",
            "12/12 [==============================] - 3s 277ms/step - loss: 0.1050 - accuracy: 1.0000 - val_loss: 0.1015 - val_accuracy: 1.0000\n",
            "Epoch 173/200\n",
            "12/12 [==============================] - 3s 276ms/step - loss: 0.0991 - accuracy: 1.0000 - val_loss: 0.0959 - val_accuracy: 1.0000\n",
            "Epoch 174/200\n",
            "12/12 [==============================] - 3s 278ms/step - loss: 0.0937 - accuracy: 1.0000 - val_loss: 0.0908 - val_accuracy: 1.0000\n",
            "Epoch 175/200\n",
            "12/12 [==============================] - 3s 278ms/step - loss: 0.0887 - accuracy: 1.0000 - val_loss: 0.0861 - val_accuracy: 1.0000\n",
            "Epoch 176/200\n",
            "12/12 [==============================] - 3s 276ms/step - loss: 0.0843 - accuracy: 1.0000 - val_loss: 0.0817 - val_accuracy: 1.0000\n",
            "Epoch 177/200\n",
            "12/12 [==============================] - 3s 274ms/step - loss: 0.0801 - accuracy: 1.0000 - val_loss: 0.0777 - val_accuracy: 1.0000\n",
            "Epoch 178/200\n",
            "12/12 [==============================] - 3s 278ms/step - loss: 0.0761 - accuracy: 1.0000 - val_loss: 0.0741 - val_accuracy: 1.0000\n",
            "Epoch 179/200\n",
            "12/12 [==============================] - 3s 278ms/step - loss: 0.0726 - accuracy: 1.0000 - val_loss: 0.0706 - val_accuracy: 1.0000\n",
            "Epoch 180/200\n",
            "12/12 [==============================] - 3s 275ms/step - loss: 0.0694 - accuracy: 1.0000 - val_loss: 0.0674 - val_accuracy: 1.0000\n",
            "Epoch 181/200\n",
            "12/12 [==============================] - 3s 278ms/step - loss: 0.0662 - accuracy: 1.0000 - val_loss: 0.0645 - val_accuracy: 1.0000\n",
            "Epoch 182/200\n",
            "12/12 [==============================] - 3s 277ms/step - loss: 0.0633 - accuracy: 1.0000 - val_loss: 0.0617 - val_accuracy: 1.0000\n",
            "Epoch 183/200\n",
            "12/12 [==============================] - 3s 275ms/step - loss: 0.0607 - accuracy: 1.0000 - val_loss: 0.0591 - val_accuracy: 1.0000\n",
            "Epoch 184/200\n",
            "12/12 [==============================] - 4s 301ms/step - loss: 0.0582 - accuracy: 1.0000 - val_loss: 0.0567 - val_accuracy: 1.0000\n",
            "Epoch 185/200\n",
            "12/12 [==============================] - 4s 321ms/step - loss: 0.0557 - accuracy: 1.0000 - val_loss: 0.0544 - val_accuracy: 1.0000\n",
            "Epoch 186/200\n",
            "12/12 [==============================] - 4s 321ms/step - loss: 0.0537 - accuracy: 1.0000 - val_loss: 0.0522 - val_accuracy: 1.0000\n",
            "Epoch 187/200\n",
            "12/12 [==============================] - 3s 280ms/step - loss: 0.0517 - accuracy: 1.0000 - val_loss: 0.0503 - val_accuracy: 1.0000\n",
            "Epoch 188/200\n",
            "12/12 [==============================] - 3s 276ms/step - loss: 0.0496 - accuracy: 1.0000 - val_loss: 0.0484 - val_accuracy: 1.0000\n",
            "Epoch 189/200\n",
            "12/12 [==============================] - 3s 277ms/step - loss: 0.0478 - accuracy: 1.0000 - val_loss: 0.0467 - val_accuracy: 1.0000\n",
            "Epoch 190/200\n",
            "12/12 [==============================] - 3s 278ms/step - loss: 0.0462 - accuracy: 1.0000 - val_loss: 0.0449 - val_accuracy: 1.0000\n",
            "Epoch 191/200\n",
            "12/12 [==============================] - 3s 276ms/step - loss: 0.0443 - accuracy: 1.0000 - val_loss: 0.0433 - val_accuracy: 1.0000\n",
            "Epoch 192/200\n",
            "12/12 [==============================] - 3s 274ms/step - loss: 0.0428 - accuracy: 1.0000 - val_loss: 0.0419 - val_accuracy: 1.0000\n",
            "Epoch 193/200\n",
            "12/12 [==============================] - 3s 278ms/step - loss: 0.0415 - accuracy: 1.0000 - val_loss: 0.0404 - val_accuracy: 1.0000\n",
            "Epoch 194/200\n",
            "12/12 [==============================] - 3s 276ms/step - loss: 0.0401 - accuracy: 1.0000 - val_loss: 0.0391 - val_accuracy: 1.0000\n",
            "Epoch 195/200\n",
            "12/12 [==============================] - 4s 321ms/step - loss: 0.0388 - accuracy: 1.0000 - val_loss: 0.0379 - val_accuracy: 1.0000\n",
            "Epoch 196/200\n",
            "12/12 [==============================] - 4s 329ms/step - loss: 0.0376 - accuracy: 1.0000 - val_loss: 0.0367 - val_accuracy: 1.0000\n",
            "Epoch 197/200\n",
            "12/12 [==============================] - 4s 318ms/step - loss: 0.0364 - accuracy: 1.0000 - val_loss: 0.0354 - val_accuracy: 1.0000\n",
            "Epoch 198/200\n",
            "12/12 [==============================] - 3s 274ms/step - loss: 0.0351 - accuracy: 1.0000 - val_loss: 0.0344 - val_accuracy: 1.0000\n",
            "Epoch 199/200\n",
            "12/12 [==============================] - 3s 279ms/step - loss: 0.0341 - accuracy: 1.0000 - val_loss: 0.0334 - val_accuracy: 1.0000\n",
            "Epoch 200/200\n",
            "12/12 [==============================] - 3s 278ms/step - loss: 0.0332 - accuracy: 1.0000 - val_loss: 0.0323 - val_accuracy: 1.0000\n"
          ],
          "name": "stdout"
        },
        {
          "output_type": "execute_result",
          "data": {
            "text/plain": [
              "<tensorflow.python.keras.callbacks.History at 0x7f6a4173c240>"
            ]
          },
          "metadata": {
            "tags": []
          },
          "execution_count": 14
        }
      ]
    },
    {
      "cell_type": "markdown",
      "metadata": {
        "id": "QNyPkwBYx-nh",
        "colab_type": "text"
      },
      "source": [
        "## Print model information [collapse]"
      ]
    },
    {
      "cell_type": "code",
      "metadata": {
        "id": "pKK4VJlmyCHU",
        "colab_type": "code",
        "colab": {
          "base_uri": "https://localhost:8080/",
          "height": 0
        },
        "outputId": "304a9aed-4262-49b9-e5f8-14763660c7d6"
      },
      "source": [
        "from tensorflow.keras.utils import plot_model\n",
        "\n",
        "model.summary()\n",
        "plot_model(model, 'Siamese Network Architecture.png', show_shapes=True)"
      ],
      "execution_count": 14,
      "outputs": [
        {
          "output_type": "stream",
          "text": [
            "Model: \"model\"\n",
            "__________________________________________________________________________________________________\n",
            "Layer (type)                    Output Shape         Param #     Connected to                     \n",
            "==================================================================================================\n",
            "input_1 (InputLayer)            [(None, 125, 125, 1) 0                                            \n",
            "__________________________________________________________________________________________________\n",
            "input_2 (InputLayer)            [(None, 125, 125, 1) 0                                            \n",
            "__________________________________________________________________________________________________\n",
            "sequential (Sequential)         (None, 256)          536812      input_1[0][0]                    \n",
            "                                                                 input_2[0][0]                    \n",
            "__________________________________________________________________________________________________\n",
            "lambda (Lambda)                 (None, 256)          0           sequential[1][0]                 \n",
            "                                                                 sequential[2][0]                 \n",
            "__________________________________________________________________________________________________\n",
            "dense_1 (Dense)                 (None, 1)            257         lambda[0][0]                     \n",
            "==================================================================================================\n",
            "Total params: 537,069\n",
            "Trainable params: 537,069\n",
            "Non-trainable params: 0\n",
            "__________________________________________________________________________________________________\n"
          ],
          "name": "stdout"
        },
        {
          "output_type": "execute_result",
          "data": {
            "image/png": "[encoded data removed]",
            "text/plain": [
              "<IPython.core.display.Image object>"
            ]
          },
          "metadata": {
            "tags": []
          },
          "execution_count": 14
        }
      ]
    },
    {
      "cell_type": "markdown",
      "metadata": {
        "id": "kkRal1pByEFP",
        "colab_type": "text"
      },
      "source": [
        "## Fit model"
      ]
    },
    {
      "cell_type": "code",
      "metadata": {
        "id": "abtMLquExg2T",
        "colab_type": "code",
        "colab": {
          "base_uri": "https://localhost:8080/",
          "height": 706
        },
        "outputId": "b3cd7dd2-4756-461c-f5e0-109fe9cee197"
      },
      "source": [
        "model.fit(\n",
        "    train_ds_pre,\n",
        "#     batch_size=128,\n",
        "    epochs=10, #epochs=200,\n",
        "    verbose=1,\n",
        "#     callbacks=None,\n",
        "#     validation_split=0.0,\n",
        "    validation_data=val_ds_pre,\n",
        "#     shuffle=True,\n",
        "#     class_weight=None,\n",
        "#     sample_weight=None,\n",
        "#     initial_epoch=0,\n",
        "    steps_per_epoch=20,\n",
        "    validation_steps=20,\n",
        "#     max_queue_size=10,\n",
        "#     workers=1,\n",
        "#     use_multiprocessing=False,\n",
        "#     **kwargs\n",
        ")"
      ],
      "execution_count": 30,
      "outputs": [
        {
          "output_type": "stream",
          "text": [
            "Epoch 1/10\n",
            "12/12 [==============================] - 70s 6s/step - loss: 20.8137 - accuracy: 0.5195 - val_loss: 19.7520 - val_accuracy: 0.5931\n",
            "Epoch 2/10\n",
            "12/12 [==============================] - 5s 391ms/step - loss: 18.9321 - accuracy: 0.5905 - val_loss: 18.0018 - val_accuracy: 0.6263\n",
            "Epoch 3/10\n",
            "12/12 [==============================] - 5s 451ms/step - loss: 17.2800 - accuracy: 0.6009 - val_loss: 16.4397 - val_accuracy: 0.6204\n",
            "Epoch 4/10\n",
            "12/12 [==============================] - 5s 386ms/step - loss: 15.8008 - accuracy: 0.6107 - val_loss: 15.0593 - val_accuracy: 0.6257\n",
            "Epoch 5/10\n",
            "12/12 [==============================] - 4s 354ms/step - loss: 14.4786 - accuracy: 0.6270 - val_loss: 13.7964 - val_accuracy: 0.6654\n",
            "Epoch 6/10\n",
            "12/12 [==============================] - 5s 397ms/step - loss: 13.2869 - accuracy: 0.6445 - val_loss: 12.6728 - val_accuracy: 0.6686\n",
            "Epoch 7/10\n",
            "12/12 [==============================] - 5s 410ms/step - loss: 12.2038 - accuracy: 0.6510 - val_loss: 11.6478 - val_accuracy: 0.6673\n",
            "Epoch 8/10\n",
            "12/12 [==============================] - 4s 352ms/step - loss: 11.2271 - accuracy: 0.6361 - val_loss: 10.7248 - val_accuracy: 0.6719\n",
            "Epoch 9/10\n",
            "12/12 [==============================] - 5s 410ms/step - loss: 10.3474 - accuracy: 0.6465 - val_loss: 9.8687 - val_accuracy: 0.6855\n",
            "Epoch 10/10\n",
            "11/12 [==========================>...] - ETA: 0s - loss: 9.5638 - accuracy: 0.6470"
          ],
          "name": "stdout"
        },
        {
          "output_type": "error",
          "ename": "KeyboardInterrupt",
          "evalue": "ignored",
          "traceback": [
            "\u001b[0;31m---------------------------------------------------------------------------\u001b[0m",
            "\u001b[0;31mKeyboardInterrupt\u001b[0m                         Traceback (most recent call last)",
            "\u001b[0;32m<ipython-input-30-9c3085b84263>\u001b[0m in \u001b[0;36m<module>\u001b[0;34m()\u001b[0m\n\u001b[1;32m     12\u001b[0m \u001b[0;31m#     initial_epoch=0,\u001b[0m\u001b[0;34m\u001b[0m\u001b[0;34m\u001b[0m\u001b[0;34m\u001b[0m\u001b[0m\n\u001b[1;32m     13\u001b[0m     \u001b[0msteps_per_epoch\u001b[0m\u001b[0;34m=\u001b[0m\u001b[0;36m12\u001b[0m\u001b[0;34m,\u001b[0m\u001b[0;34m\u001b[0m\u001b[0;34m\u001b[0m\u001b[0m\n\u001b[0;32m---> 14\u001b[0;31m     \u001b[0mvalidation_steps\u001b[0m\u001b[0;34m=\u001b[0m\u001b[0;36m12\u001b[0m\u001b[0;34m,\u001b[0m\u001b[0;34m\u001b[0m\u001b[0;34m\u001b[0m\u001b[0m\n\u001b[0m\u001b[1;32m     15\u001b[0m \u001b[0;31m#     max_queue_size=10,\u001b[0m\u001b[0;34m\u001b[0m\u001b[0;34m\u001b[0m\u001b[0;34m\u001b[0m\u001b[0m\n\u001b[1;32m     16\u001b[0m \u001b[0;31m#     workers=1,\u001b[0m\u001b[0;34m\u001b[0m\u001b[0;34m\u001b[0m\u001b[0;34m\u001b[0m\u001b[0m\n",
            "\u001b[0;32m/usr/local/lib/python3.6/dist-packages/tensorflow/python/keras/engine/training.py\u001b[0m in \u001b[0;36mfit\u001b[0;34m(self, x, y, batch_size, epochs, verbose, callbacks, validation_split, validation_data, shuffle, class_weight, sample_weight, initial_epoch, steps_per_epoch, validation_steps, validation_freq, max_queue_size, workers, use_multiprocessing, **kwargs)\u001b[0m\n\u001b[1;32m    789\u001b[0m           \u001b[0mworkers\u001b[0m\u001b[0;34m=\u001b[0m\u001b[0;36m0\u001b[0m\u001b[0;34m,\u001b[0m\u001b[0;34m\u001b[0m\u001b[0;34m\u001b[0m\u001b[0m\n\u001b[1;32m    790\u001b[0m           \u001b[0mshuffle\u001b[0m\u001b[0;34m=\u001b[0m\u001b[0mshuffle\u001b[0m\u001b[0;34m,\u001b[0m\u001b[0;34m\u001b[0m\u001b[0;34m\u001b[0m\u001b[0m\n\u001b[0;32m--> 791\u001b[0;31m           initial_epoch=initial_epoch)\n\u001b[0m\u001b[1;32m    792\u001b[0m \u001b[0;34m\u001b[0m\u001b[0m\n\u001b[1;32m    793\u001b[0m     \u001b[0;31m# Case 3: Symbolic tensors or Numpy array-like.\u001b[0m\u001b[0;34m\u001b[0m\u001b[0;34m\u001b[0m\u001b[0;34m\u001b[0m\u001b[0m\n",
            "\u001b[0;32m/usr/local/lib/python3.6/dist-packages/tensorflow/python/keras/engine/training.py\u001b[0m in \u001b[0;36mfit_generator\u001b[0;34m(self, generator, steps_per_epoch, epochs, verbose, callbacks, validation_data, validation_steps, validation_freq, class_weight, max_queue_size, workers, use_multiprocessing, shuffle, initial_epoch)\u001b[0m\n\u001b[1;32m   1513\u001b[0m         \u001b[0mshuffle\u001b[0m\u001b[0;34m=\u001b[0m\u001b[0mshuffle\u001b[0m\u001b[0;34m,\u001b[0m\u001b[0;34m\u001b[0m\u001b[0;34m\u001b[0m\u001b[0m\n\u001b[1;32m   1514\u001b[0m         \u001b[0minitial_epoch\u001b[0m\u001b[0;34m=\u001b[0m\u001b[0minitial_epoch\u001b[0m\u001b[0;34m,\u001b[0m\u001b[0;34m\u001b[0m\u001b[0;34m\u001b[0m\u001b[0m\n\u001b[0;32m-> 1515\u001b[0;31m         steps_name='steps_per_epoch')\n\u001b[0m\u001b[1;32m   1516\u001b[0m \u001b[0;34m\u001b[0m\u001b[0m\n\u001b[1;32m   1517\u001b[0m   def evaluate_generator(self,\n",
            "\u001b[0;32m/usr/local/lib/python3.6/dist-packages/tensorflow/python/keras/engine/training_generator.py\u001b[0m in \u001b[0;36mmodel_iteration\u001b[0;34m(model, data, steps_per_epoch, epochs, verbose, callbacks, validation_data, validation_steps, validation_freq, class_weight, max_queue_size, workers, use_multiprocessing, shuffle, initial_epoch, mode, batch_size, steps_name, **kwargs)\u001b[0m\n\u001b[1;32m    313\u001b[0m           \u001b[0mverbose\u001b[0m\u001b[0;34m=\u001b[0m\u001b[0;36m0\u001b[0m\u001b[0;34m,\u001b[0m\u001b[0;34m\u001b[0m\u001b[0;34m\u001b[0m\u001b[0m\n\u001b[1;32m    314\u001b[0m           \u001b[0mmode\u001b[0m\u001b[0;34m=\u001b[0m\u001b[0mModeKeys\u001b[0m\u001b[0;34m.\u001b[0m\u001b[0mTEST\u001b[0m\u001b[0;34m,\u001b[0m\u001b[0;34m\u001b[0m\u001b[0;34m\u001b[0m\u001b[0m\n\u001b[0;32m--> 315\u001b[0;31m           steps_name='validation_steps')\n\u001b[0m\u001b[1;32m    316\u001b[0m \u001b[0;34m\u001b[0m\u001b[0m\n\u001b[1;32m    317\u001b[0m       \u001b[0;32mif\u001b[0m \u001b[0;32mnot\u001b[0m \u001b[0misinstance\u001b[0m\u001b[0;34m(\u001b[0m\u001b[0mval_results\u001b[0m\u001b[0;34m,\u001b[0m \u001b[0mlist\u001b[0m\u001b[0;34m)\u001b[0m\u001b[0;34m:\u001b[0m\u001b[0;34m\u001b[0m\u001b[0;34m\u001b[0m\u001b[0m\n",
            "\u001b[0;32m/usr/local/lib/python3.6/dist-packages/tensorflow/python/keras/engine/training_generator.py\u001b[0m in \u001b[0;36mmodel_iteration\u001b[0;34m(model, data, steps_per_epoch, epochs, verbose, callbacks, validation_data, validation_steps, validation_freq, class_weight, max_queue_size, workers, use_multiprocessing, shuffle, initial_epoch, mode, batch_size, steps_name, **kwargs)\u001b[0m\n\u001b[1;32m    211\u001b[0m     \u001b[0mstep\u001b[0m \u001b[0;34m=\u001b[0m \u001b[0;36m0\u001b[0m\u001b[0;34m\u001b[0m\u001b[0;34m\u001b[0m\u001b[0m\n\u001b[1;32m    212\u001b[0m     \u001b[0;32mwhile\u001b[0m \u001b[0mstep\u001b[0m \u001b[0;34m<\u001b[0m \u001b[0mtarget_steps\u001b[0m\u001b[0;34m:\u001b[0m\u001b[0;34m\u001b[0m\u001b[0;34m\u001b[0m\u001b[0m\n\u001b[0;32m--> 213\u001b[0;31m       \u001b[0mbatch_data\u001b[0m \u001b[0;34m=\u001b[0m \u001b[0m_get_next_batch\u001b[0m\u001b[0;34m(\u001b[0m\u001b[0mgenerator\u001b[0m\u001b[0;34m,\u001b[0m \u001b[0mmode\u001b[0m\u001b[0;34m)\u001b[0m\u001b[0;34m\u001b[0m\u001b[0;34m\u001b[0m\u001b[0m\n\u001b[0m\u001b[1;32m    214\u001b[0m       \u001b[0;32mif\u001b[0m \u001b[0mbatch_data\u001b[0m \u001b[0;32mis\u001b[0m \u001b[0;32mNone\u001b[0m\u001b[0;34m:\u001b[0m\u001b[0;34m\u001b[0m\u001b[0;34m\u001b[0m\u001b[0m\n\u001b[1;32m    215\u001b[0m         \u001b[0;32mif\u001b[0m \u001b[0mis_dataset\u001b[0m\u001b[0;34m:\u001b[0m\u001b[0;34m\u001b[0m\u001b[0;34m\u001b[0m\u001b[0m\n",
            "\u001b[0;32m/usr/local/lib/python3.6/dist-packages/tensorflow/python/keras/engine/training_generator.py\u001b[0m in \u001b[0;36m_get_next_batch\u001b[0;34m(generator, mode)\u001b[0m\n\u001b[1;32m    353\u001b[0m   \u001b[0;34m\"\"\"Retrieves the next batch of input data.\"\"\"\u001b[0m\u001b[0;34m\u001b[0m\u001b[0;34m\u001b[0m\u001b[0m\n\u001b[1;32m    354\u001b[0m   \u001b[0;32mtry\u001b[0m\u001b[0;34m:\u001b[0m\u001b[0;34m\u001b[0m\u001b[0;34m\u001b[0m\u001b[0m\n\u001b[0;32m--> 355\u001b[0;31m     \u001b[0mgenerator_output\u001b[0m \u001b[0;34m=\u001b[0m \u001b[0mnext\u001b[0m\u001b[0;34m(\u001b[0m\u001b[0mgenerator\u001b[0m\u001b[0;34m)\u001b[0m\u001b[0;34m\u001b[0m\u001b[0;34m\u001b[0m\u001b[0m\n\u001b[0m\u001b[1;32m    356\u001b[0m   \u001b[0;32mexcept\u001b[0m \u001b[0;34m(\u001b[0m\u001b[0mStopIteration\u001b[0m\u001b[0;34m,\u001b[0m \u001b[0merrors\u001b[0m\u001b[0;34m.\u001b[0m\u001b[0mOutOfRangeError\u001b[0m\u001b[0;34m)\u001b[0m\u001b[0;34m:\u001b[0m\u001b[0;34m\u001b[0m\u001b[0;34m\u001b[0m\u001b[0m\n\u001b[1;32m    357\u001b[0m     \u001b[0;32mreturn\u001b[0m \u001b[0;32mNone\u001b[0m\u001b[0;34m\u001b[0m\u001b[0;34m\u001b[0m\u001b[0m\n",
            "\u001b[0;32m/usr/local/lib/python3.6/dist-packages/tensorflow/python/data/ops/iterator_ops.py\u001b[0m in \u001b[0;36m__next__\u001b[0;34m(self)\u001b[0m\n\u001b[1;32m    554\u001b[0m \u001b[0;34m\u001b[0m\u001b[0m\n\u001b[1;32m    555\u001b[0m   \u001b[0;32mdef\u001b[0m \u001b[0m__next__\u001b[0m\u001b[0;34m(\u001b[0m\u001b[0mself\u001b[0m\u001b[0;34m)\u001b[0m\u001b[0;34m:\u001b[0m  \u001b[0;31m# For Python 3 compatibility\u001b[0m\u001b[0;34m\u001b[0m\u001b[0;34m\u001b[0m\u001b[0m\n\u001b[0;32m--> 556\u001b[0;31m     \u001b[0;32mreturn\u001b[0m \u001b[0mself\u001b[0m\u001b[0;34m.\u001b[0m\u001b[0mnext\u001b[0m\u001b[0;34m(\u001b[0m\u001b[0;34m)\u001b[0m\u001b[0;34m\u001b[0m\u001b[0;34m\u001b[0m\u001b[0m\n\u001b[0m\u001b[1;32m    557\u001b[0m \u001b[0;34m\u001b[0m\u001b[0m\n\u001b[1;32m    558\u001b[0m   \u001b[0;32mdef\u001b[0m \u001b[0m_next_internal\u001b[0m\u001b[0;34m(\u001b[0m\u001b[0mself\u001b[0m\u001b[0;34m)\u001b[0m\u001b[0;34m:\u001b[0m\u001b[0;34m\u001b[0m\u001b[0;34m\u001b[0m\u001b[0m\n",
            "\u001b[0;32m/usr/local/lib/python3.6/dist-packages/tensorflow/python/data/ops/iterator_ops.py\u001b[0m in \u001b[0;36mnext\u001b[0;34m(self)\u001b[0m\n\u001b[1;32m    583\u001b[0m     \"\"\"\n\u001b[1;32m    584\u001b[0m     \u001b[0;32mtry\u001b[0m\u001b[0;34m:\u001b[0m\u001b[0;34m\u001b[0m\u001b[0;34m\u001b[0m\u001b[0m\n\u001b[0;32m--> 585\u001b[0;31m       \u001b[0;32mreturn\u001b[0m \u001b[0mself\u001b[0m\u001b[0;34m.\u001b[0m\u001b[0m_next_internal\u001b[0m\u001b[0;34m(\u001b[0m\u001b[0;34m)\u001b[0m\u001b[0;34m\u001b[0m\u001b[0;34m\u001b[0m\u001b[0m\n\u001b[0m\u001b[1;32m    586\u001b[0m     \u001b[0;32mexcept\u001b[0m \u001b[0merrors\u001b[0m\u001b[0;34m.\u001b[0m\u001b[0mOutOfRangeError\u001b[0m\u001b[0;34m:\u001b[0m\u001b[0;34m\u001b[0m\u001b[0;34m\u001b[0m\u001b[0m\n\u001b[1;32m    587\u001b[0m       \u001b[0;32mraise\u001b[0m \u001b[0mStopIteration\u001b[0m\u001b[0;34m\u001b[0m\u001b[0;34m\u001b[0m\u001b[0m\n",
            "\u001b[0;32m/usr/local/lib/python3.6/dist-packages/tensorflow/python/data/ops/iterator_ops.py\u001b[0m in \u001b[0;36m_next_internal\u001b[0;34m(self)\u001b[0m\n\u001b[1;32m    575\u001b[0m             \u001b[0mself\u001b[0m\u001b[0;34m.\u001b[0m\u001b[0m_resource\u001b[0m\u001b[0;34m,\u001b[0m\u001b[0;34m\u001b[0m\u001b[0;34m\u001b[0m\u001b[0m\n\u001b[1;32m    576\u001b[0m             \u001b[0moutput_types\u001b[0m\u001b[0;34m=\u001b[0m\u001b[0mself\u001b[0m\u001b[0;34m.\u001b[0m\u001b[0m_flat_output_types\u001b[0m\u001b[0;34m,\u001b[0m\u001b[0;34m\u001b[0m\u001b[0;34m\u001b[0m\u001b[0m\n\u001b[0;32m--> 577\u001b[0;31m             output_shapes=self._flat_output_shapes)\n\u001b[0m\u001b[1;32m    578\u001b[0m \u001b[0;34m\u001b[0m\u001b[0m\n\u001b[1;32m    579\u001b[0m       \u001b[0;32mreturn\u001b[0m \u001b[0mself\u001b[0m\u001b[0;34m.\u001b[0m\u001b[0m_structure\u001b[0m\u001b[0;34m.\u001b[0m\u001b[0m_from_compatible_tensor_list\u001b[0m\u001b[0;34m(\u001b[0m\u001b[0mret\u001b[0m\u001b[0;34m)\u001b[0m  \u001b[0;31m# pylint: disable=protected-access\u001b[0m\u001b[0;34m\u001b[0m\u001b[0;34m\u001b[0m\u001b[0m\n",
            "\u001b[0;32m/usr/local/lib/python3.6/dist-packages/tensorflow/python/ops/gen_dataset_ops.py\u001b[0m in \u001b[0;36miterator_get_next_sync\u001b[0;34m(iterator, output_types, output_shapes, name)\u001b[0m\n\u001b[1;32m   1938\u001b[0m         \u001b[0m_ctx\u001b[0m\u001b[0;34m.\u001b[0m\u001b[0m_context_handle\u001b[0m\u001b[0;34m,\u001b[0m \u001b[0m_ctx\u001b[0m\u001b[0;34m.\u001b[0m\u001b[0m_thread_local_data\u001b[0m\u001b[0;34m.\u001b[0m\u001b[0mdevice_name\u001b[0m\u001b[0;34m,\u001b[0m\u001b[0;34m\u001b[0m\u001b[0;34m\u001b[0m\u001b[0m\n\u001b[1;32m   1939\u001b[0m         \u001b[0;34m\"IteratorGetNextSync\"\u001b[0m\u001b[0;34m,\u001b[0m \u001b[0mname\u001b[0m\u001b[0;34m,\u001b[0m \u001b[0m_ctx\u001b[0m\u001b[0;34m.\u001b[0m\u001b[0m_post_execution_callbacks\u001b[0m\u001b[0;34m,\u001b[0m \u001b[0miterator\u001b[0m\u001b[0;34m,\u001b[0m\u001b[0;34m\u001b[0m\u001b[0;34m\u001b[0m\u001b[0m\n\u001b[0;32m-> 1940\u001b[0;31m         \"output_types\", output_types, \"output_shapes\", output_shapes)\n\u001b[0m\u001b[1;32m   1941\u001b[0m       \u001b[0;32mreturn\u001b[0m \u001b[0m_result\u001b[0m\u001b[0;34m\u001b[0m\u001b[0;34m\u001b[0m\u001b[0m\n\u001b[1;32m   1942\u001b[0m     \u001b[0;32mexcept\u001b[0m \u001b[0m_core\u001b[0m\u001b[0;34m.\u001b[0m\u001b[0m_FallbackException\u001b[0m\u001b[0;34m:\u001b[0m\u001b[0;34m\u001b[0m\u001b[0;34m\u001b[0m\u001b[0m\n",
            "\u001b[0;31mKeyboardInterrupt\u001b[0m: "
          ]
        }
      ]
    },
    {
      "cell_type": "code",
      "metadata": {
        "id": "hYG75TTuRxOz",
        "colab_type": "code",
        "colab": {}
      },
      "source": [
        "img_final = img_final/255.0\n",
        "print(img_final.shape)\n",
        "print(img_final.numpy().min())\n",
        "print(img_final.numpy().max())"
      ],
      "execution_count": 0,
      "outputs": []
    },
    {
      "cell_type": "code",
      "metadata": {
        "id": "U-tVRnbDM1e4",
        "colab_type": "code",
        "colab": {}
      },
      "source": [
        "train_paths_names_dict"
      ],
      "execution_count": 0,
      "outputs": []
    },
    {
      "cell_type": "code",
      "metadata": {
        "id": "M30De456vTrI",
        "colab_type": "code",
        "colab": {}
      },
      "source": [
        "def loadimgs(path,n = 0):\n",
        "    '''\n",
        "    path => Path of train directory or test directory\n",
        "    '''\n",
        "    X=[]\n",
        "    y = []\n",
        "    cat_dict = {}\n",
        "    lang_dict = {}\n",
        "    curr_y = n\n",
        "    \n",
        "    # we load every alphabet seperately so we can isolate them later\n",
        "    for alphabet in os.listdir(path):\n",
        "        print(\"loading alphabet: \" + alphabet)\n",
        "        lang_dict[alphabet] = [curr_y,None]\n",
        "        alphabet_path = os.path.join(path,alphabet)\n",
        "        \n",
        "        # every letter/category has it's own column in the array, so  load seperately\n",
        "        for letter in os.listdir(alphabet_path):\n",
        "            cat_dict[curr_y] = (alphabet, letter)\n",
        "            category_images=[]\n",
        "            letter_path = os.path.join(alphabet_path, letter)\n",
        "            \n",
        "            # read all the images in the current category\n",
        "            for filename in os.listdir(letter_path):\n",
        "                image_path = os.path.join(letter_path, filename)\n",
        "                image = imread(image_path)\n",
        "                category_images.append(image)\n",
        "                y.append(curr_y)\n",
        "            try:\n",
        "                X.append(np.stack(category_images))\n",
        "            # edge case  - last one\n",
        "            except ValueError as e:\n",
        "                print(e)\n",
        "                print(\"error - category_images:\", category_images)\n",
        "            curr_y += 1\n",
        "            lang_dict[alphabet][1] = curr_y - 1\n",
        "    y = np.vstack(y)\n",
        "    X = np.stack(X)\n",
        "    return X,y,lang_dict"
      ],
      "execution_count": 0,
      "outputs": []
    },
    {
      "cell_type": "code",
      "metadata": {
        "id": "rsIi9JiBPHxe",
        "colab_type": "code",
        "colab": {}
      },
      "source": [
        ""
      ],
      "execution_count": 0,
      "outputs": []
    },
    {
      "cell_type": "markdown",
      "metadata": {
        "id": "NnjmgcsvNJe3",
        "colab_type": "text"
      },
      "source": [
        "###Import Libararies"
      ]
    },
    {
      "cell_type": "code",
      "metadata": {
        "id": "gI_saqm9NJ-X",
        "colab_type": "code",
        "outputId": "1f7f81be-eb86-4d41-f04b-31851713fd66",
        "colab": {
          "base_uri": "https://localhost:8080/",
          "height": 35
        }
      },
      "source": [
        "import numpy as np\n",
        "from keras.models import Sequential\n",
        "import time\n",
        "from keras.layers import Conv2D, ZeroPadding2D, Activation, Input, concatenate\n",
        "from keras.layers import Conv3D\n",
        "from keras.models import Model\n",
        "from keras.layers.pooling import MaxPooling2D, AveragePooling2D, MaxPooling3D\n",
        "from keras.layers.core import Lambda, Flatten, Dense\n",
        "from keras.optimizers import Adam\n",
        "from keras.regularizers import l2\n",
        "from keras import backend as K"
      ],
      "execution_count": 0,
      "outputs": [
        {
          "output_type": "stream",
          "text": [
            "Using TensorFlow backend.\n"
          ],
          "name": "stderr"
        }
      ]
    },
    {
      "cell_type": "markdown",
      "metadata": {
        "id": "ZZ4-O98lNMqP",
        "colab_type": "text"
      },
      "source": [
        "###Build Network"
      ]
    },
    {
      "cell_type": "code",
      "metadata": {
        "id": "iIU7bWVVNN0m",
        "colab_type": "code",
        "colab": {}
      },
      "source": [
        "def initialize_bias(shape, name=None):\n",
        "    return np.random.normal(loc = 0.5, scale = 1e-2, size = shape)\n",
        "  \n",
        "def initialize_weights(shape, name=None):\n",
        "    return np.random.normal(loc = 0.0, scale = 1e-2, size = shape)\n",
        "  \n",
        "def initialize_weights_dense(shape, name=None):\n",
        "    return np.random.normal(loc = 0.0, scale = 0.2, size = shape)"
      ],
      "execution_count": 0,
      "outputs": []
    },
    {
      "cell_type": "code",
      "metadata": {
        "id": "L-Rk3dapNPNY",
        "colab_type": "code",
        "outputId": "0827f842-a063-43ce-979b-4ccc22eac763",
        "colab": {
          "base_uri": "https://localhost:8080/",
          "height": 287
        }
      },
      "source": [
        "import seaborn as sns\n",
        "weights = initialize_weights_dense((4096,1))\n",
        "sns.distplot(weights)"
      ],
      "execution_count": 0,
      "outputs": [
        {
          "output_type": "execute_result",
          "data": {
            "text/plain": [
              "<matplotlib.axes._subplots.AxesSubplot at 0x7fd929529390>"
            ]
          },
          "metadata": {
            "tags": []
          },
          "execution_count": 8
        },
        {
          "output_type": "display_data",
          "data": {
            "image/png": "[encoded data removed]",
            "text/plain": [
              "<Figure size 432x288 with 1 Axes>"
            ]
          },
          "metadata": {
            "tags": []
          }
        }
      ]
    },
    {
      "cell_type": "code",
      "metadata": {
        "id": "83aiRDnMNQwV",
        "colab_type": "code",
        "colab": {}
      },
      "source": [
        "def get_siamese_model(input_shape):\n",
        "    \n",
        "    # Define the tensors for the two input images\n",
        "    left_input = Input(input_shape)\n",
        "    right_input = Input(input_shape)\n",
        "    \n",
        "    # Convolutional Neural Network\n",
        "    model = Sequential()\n",
        "    model.add(Conv2D(64, (10,10), activation='relu', input_shape=input_shape,\n",
        "                   kernel_initializer=initialize_weights, kernel_regularizer=l2(2e-4)))\n",
        "    model.add(MaxPooling2D())\n",
        "    model.add(Conv2D(128, (7,7), activation='relu',\n",
        "                     kernel_initializer=initialize_weights,\n",
        "                     bias_initializer=initialize_bias, kernel_regularizer=l2(2e-4)))\n",
        "    model.add(MaxPooling2D())\n",
        "    model.add(Conv2D(128, (4,4), activation='relu', kernel_initializer=initialize_weights,\n",
        "                     bias_initializer=initialize_bias, kernel_regularizer=l2(2e-4)))\n",
        "    model.add(MaxPooling2D())\n",
        "    model.add(Conv2D(256, (4,4), activation='relu', kernel_initializer=initialize_weights,\n",
        "                     bias_initializer=initialize_bias, kernel_regularizer=l2(2e-4)))\n",
        "    model.add(Flatten())\n",
        "    model.add(Dense(2048, activation='sigmoid',\n",
        "                   kernel_regularizer=l2(1e-3),\n",
        "                   kernel_initializer=initialize_weights_dense,bias_initializer=initialize_bias))\n",
        "    \n",
        "    # Generate the encodings (feature vectors) for the two images\n",
        "    encoded_l = model(left_input)\n",
        "    encoded_r = model(right_input)\n",
        "    \n",
        "    # Add a customized layer to compute the absolute difference between the encodings\n",
        "    L1_layer = Lambda(lambda tensors:K.abs(tensors[0] - tensors[1]))\n",
        "    L1_distance = L1_layer([encoded_l, encoded_r])\n",
        "    \n",
        "    # Add a dense layer with a sigmoid unit to generate the similarity score\n",
        "    prediction = Dense(1,activation='sigmoid',bias_initializer=initialize_bias)(L1_distance)\n",
        "    \n",
        "    # Connect the inputs with the outputs\n",
        "    siamese_net = Model(inputs=[left_input,right_input],outputs=prediction)\n",
        "    \n",
        "    # return the model\n",
        "    return siamese_net"
      ],
      "execution_count": 0,
      "outputs": []
    },
    {
      "cell_type": "code",
      "metadata": {
        "id": "8XTRv8KZNSBt",
        "colab_type": "code",
        "outputId": "fb747908-58ac-4f20-c41a-57d66b77c256",
        "colab": {
          "base_uri": "https://localhost:8080/",
          "height": 817
        }
      },
      "source": [
        "model = get_siamese_model((250, 250, 1))"
      ],
      "execution_count": 0,
      "outputs": [
        {
          "output_type": "error",
          "ename": "AttributeError",
          "evalue": "ignored",
          "traceback": [
            "\u001b[0;31m---------------------------------------------------------------------------\u001b[0m",
            "\u001b[0;31mAttributeError\u001b[0m                            Traceback (most recent call last)",
            "\u001b[0;32m<ipython-input-10-113a70ef80d1>\u001b[0m in \u001b[0;36m<module>\u001b[0;34m()\u001b[0m\n\u001b[0;32m----> 1\u001b[0;31m \u001b[0mmodel\u001b[0m \u001b[0;34m=\u001b[0m \u001b[0mget_siamese_model\u001b[0m\u001b[0;34m(\u001b[0m\u001b[0;34m(\u001b[0m\u001b[0;36m250\u001b[0m\u001b[0;34m,\u001b[0m \u001b[0;36m250\u001b[0m\u001b[0;34m,\u001b[0m \u001b[0;36m1\u001b[0m\u001b[0;34m)\u001b[0m\u001b[0;34m)\u001b[0m\u001b[0;34m\u001b[0m\u001b[0;34m\u001b[0m\u001b[0m\n\u001b[0m",
            "\u001b[0;32m<ipython-input-9-1f1d661a79eb>\u001b[0m in \u001b[0;36mget_siamese_model\u001b[0;34m(input_shape)\u001b[0m\n\u001b[1;32m      2\u001b[0m \u001b[0;34m\u001b[0m\u001b[0m\n\u001b[1;32m      3\u001b[0m     \u001b[0;31m# Define the tensors for the two input images\u001b[0m\u001b[0;34m\u001b[0m\u001b[0;34m\u001b[0m\u001b[0;34m\u001b[0m\u001b[0m\n\u001b[0;32m----> 4\u001b[0;31m     \u001b[0mleft_input\u001b[0m \u001b[0;34m=\u001b[0m \u001b[0mInput\u001b[0m\u001b[0;34m(\u001b[0m\u001b[0minput_shape\u001b[0m\u001b[0;34m)\u001b[0m\u001b[0;34m\u001b[0m\u001b[0;34m\u001b[0m\u001b[0m\n\u001b[0m\u001b[1;32m      5\u001b[0m     \u001b[0mright_input\u001b[0m \u001b[0;34m=\u001b[0m \u001b[0mInput\u001b[0m\u001b[0;34m(\u001b[0m\u001b[0minput_shape\u001b[0m\u001b[0;34m)\u001b[0m\u001b[0;34m\u001b[0m\u001b[0;34m\u001b[0m\u001b[0m\n\u001b[1;32m      6\u001b[0m \u001b[0;34m\u001b[0m\u001b[0m\n",
            "\u001b[0;32m/usr/local/lib/python3.6/dist-packages/keras/engine/input_layer.py\u001b[0m in \u001b[0;36mInput\u001b[0;34m(shape, batch_shape, name, dtype, sparse, tensor)\u001b[0m\n\u001b[1;32m    176\u001b[0m                              \u001b[0mname\u001b[0m\u001b[0;34m=\u001b[0m\u001b[0mname\u001b[0m\u001b[0;34m,\u001b[0m \u001b[0mdtype\u001b[0m\u001b[0;34m=\u001b[0m\u001b[0mdtype\u001b[0m\u001b[0;34m,\u001b[0m\u001b[0;34m\u001b[0m\u001b[0;34m\u001b[0m\u001b[0m\n\u001b[1;32m    177\u001b[0m                              \u001b[0msparse\u001b[0m\u001b[0;34m=\u001b[0m\u001b[0msparse\u001b[0m\u001b[0;34m,\u001b[0m\u001b[0;34m\u001b[0m\u001b[0;34m\u001b[0m\u001b[0m\n\u001b[0;32m--> 178\u001b[0;31m                              input_tensor=tensor)\n\u001b[0m\u001b[1;32m    179\u001b[0m     \u001b[0;31m# Return tensor including _keras_shape and _keras_history.\u001b[0m\u001b[0;34m\u001b[0m\u001b[0;34m\u001b[0m\u001b[0;34m\u001b[0m\u001b[0m\n\u001b[1;32m    180\u001b[0m     \u001b[0;31m# Note that in this case train_output and test_output are the same pointer.\u001b[0m\u001b[0;34m\u001b[0m\u001b[0;34m\u001b[0m\u001b[0;34m\u001b[0m\u001b[0m\n",
            "\u001b[0;32m/usr/local/lib/python3.6/dist-packages/keras/legacy/interfaces.py\u001b[0m in \u001b[0;36mwrapper\u001b[0;34m(*args, **kwargs)\u001b[0m\n\u001b[1;32m     89\u001b[0m                 warnings.warn('Update your `' + object_name + '` call to the ' +\n\u001b[1;32m     90\u001b[0m                               'Keras 2 API: ' + signature, stacklevel=2)\n\u001b[0;32m---> 91\u001b[0;31m             \u001b[0;32mreturn\u001b[0m \u001b[0mfunc\u001b[0m\u001b[0;34m(\u001b[0m\u001b[0;34m*\u001b[0m\u001b[0margs\u001b[0m\u001b[0;34m,\u001b[0m \u001b[0;34m**\u001b[0m\u001b[0mkwargs\u001b[0m\u001b[0;34m)\u001b[0m\u001b[0;34m\u001b[0m\u001b[0;34m\u001b[0m\u001b[0m\n\u001b[0m\u001b[1;32m     92\u001b[0m         \u001b[0mwrapper\u001b[0m\u001b[0;34m.\u001b[0m\u001b[0m_original_function\u001b[0m \u001b[0;34m=\u001b[0m \u001b[0mfunc\u001b[0m\u001b[0;34m\u001b[0m\u001b[0;34m\u001b[0m\u001b[0m\n\u001b[1;32m     93\u001b[0m         \u001b[0;32mreturn\u001b[0m \u001b[0mwrapper\u001b[0m\u001b[0;34m\u001b[0m\u001b[0;34m\u001b[0m\u001b[0m\n",
            "\u001b[0;32m/usr/local/lib/python3.6/dist-packages/keras/engine/input_layer.py\u001b[0m in \u001b[0;36m__init__\u001b[0;34m(self, input_shape, batch_size, batch_input_shape, dtype, input_tensor, sparse, name)\u001b[0m\n\u001b[1;32m     37\u001b[0m         \u001b[0;32mif\u001b[0m \u001b[0;32mnot\u001b[0m \u001b[0mname\u001b[0m\u001b[0;34m:\u001b[0m\u001b[0;34m\u001b[0m\u001b[0;34m\u001b[0m\u001b[0m\n\u001b[1;32m     38\u001b[0m             \u001b[0mprefix\u001b[0m \u001b[0;34m=\u001b[0m \u001b[0;34m'input'\u001b[0m\u001b[0;34m\u001b[0m\u001b[0;34m\u001b[0m\u001b[0m\n\u001b[0;32m---> 39\u001b[0;31m             \u001b[0mname\u001b[0m \u001b[0;34m=\u001b[0m \u001b[0mprefix\u001b[0m \u001b[0;34m+\u001b[0m \u001b[0;34m'_'\u001b[0m \u001b[0;34m+\u001b[0m \u001b[0mstr\u001b[0m\u001b[0;34m(\u001b[0m\u001b[0mK\u001b[0m\u001b[0;34m.\u001b[0m\u001b[0mget_uid\u001b[0m\u001b[0;34m(\u001b[0m\u001b[0mprefix\u001b[0m\u001b[0;34m)\u001b[0m\u001b[0;34m)\u001b[0m\u001b[0;34m\u001b[0m\u001b[0;34m\u001b[0m\u001b[0m\n\u001b[0m\u001b[1;32m     40\u001b[0m         \u001b[0msuper\u001b[0m\u001b[0;34m(\u001b[0m\u001b[0mInputLayer\u001b[0m\u001b[0;34m,\u001b[0m \u001b[0mself\u001b[0m\u001b[0;34m)\u001b[0m\u001b[0;34m.\u001b[0m\u001b[0m__init__\u001b[0m\u001b[0;34m(\u001b[0m\u001b[0mdtype\u001b[0m\u001b[0;34m=\u001b[0m\u001b[0mdtype\u001b[0m\u001b[0;34m,\u001b[0m \u001b[0mname\u001b[0m\u001b[0;34m=\u001b[0m\u001b[0mname\u001b[0m\u001b[0;34m)\u001b[0m\u001b[0;34m\u001b[0m\u001b[0;34m\u001b[0m\u001b[0m\n\u001b[1;32m     41\u001b[0m \u001b[0;34m\u001b[0m\u001b[0m\n",
            "\u001b[0;32m/usr/local/lib/python3.6/dist-packages/keras/backend/tensorflow_backend.py\u001b[0m in \u001b[0;36mget_uid\u001b[0;34m(prefix)\u001b[0m\n\u001b[1;32m     72\u001b[0m     \"\"\"\n\u001b[1;32m     73\u001b[0m     \u001b[0;32mglobal\u001b[0m \u001b[0m_GRAPH_UID_DICTS\u001b[0m\u001b[0;34m\u001b[0m\u001b[0;34m\u001b[0m\u001b[0m\n\u001b[0;32m---> 74\u001b[0;31m     \u001b[0mgraph\u001b[0m \u001b[0;34m=\u001b[0m \u001b[0mtf\u001b[0m\u001b[0;34m.\u001b[0m\u001b[0mget_default_graph\u001b[0m\u001b[0;34m(\u001b[0m\u001b[0;34m)\u001b[0m\u001b[0;34m\u001b[0m\u001b[0;34m\u001b[0m\u001b[0m\n\u001b[0m\u001b[1;32m     75\u001b[0m     \u001b[0;32mif\u001b[0m \u001b[0mgraph\u001b[0m \u001b[0;32mnot\u001b[0m \u001b[0;32min\u001b[0m \u001b[0m_GRAPH_UID_DICTS\u001b[0m\u001b[0;34m:\u001b[0m\u001b[0;34m\u001b[0m\u001b[0;34m\u001b[0m\u001b[0m\n\u001b[1;32m     76\u001b[0m         \u001b[0m_GRAPH_UID_DICTS\u001b[0m\u001b[0;34m[\u001b[0m\u001b[0mgraph\u001b[0m\u001b[0;34m]\u001b[0m \u001b[0;34m=\u001b[0m \u001b[0mdefaultdict\u001b[0m\u001b[0;34m(\u001b[0m\u001b[0mint\u001b[0m\u001b[0;34m)\u001b[0m\u001b[0;34m\u001b[0m\u001b[0;34m\u001b[0m\u001b[0m\n",
            "\u001b[0;31mAttributeError\u001b[0m: module 'tensorflow' has no attribute 'get_default_graph'"
          ]
        }
      ]
    },
    {
      "cell_type": "code",
      "metadata": {
        "id": "ZGGTKlcENTWc",
        "colab_type": "code",
        "colab": {}
      },
      "source": [
        "model.summary()"
      ],
      "execution_count": 0,
      "outputs": []
    },
    {
      "cell_type": "markdown",
      "metadata": {
        "id": "z6WyB5j3NY68",
        "colab_type": "text"
      },
      "source": [
        "### UP TO HERE"
      ]
    },
    {
      "cell_type": "code",
      "metadata": {
        "id": "BvIoDDQVt4Iz",
        "colab_type": "code",
        "colab": {}
      },
      "source": [
        "train_pairs = []\n",
        "train_names = set()\n",
        "with open(\"trainPairs.txt\") as train:\n",
        "  train_files = train.readlines()[1:]\n",
        "  \n",
        "for pair in train_files:\n",
        "  pair = pair[:-1].split('\\t')\n",
        "  if len(pair) == 3:\n",
        "    name1 = pair[0]\n",
        "    id1 = pair[1].zfill(4)\n",
        "    name2 = name1\n",
        "    id2 = pair[2].zfill(4)\n",
        "    \n",
        "    train_names.add(name1)\n",
        "    \n",
        "  elif len(pair) == 4:\n",
        "    name1 = pair[0]\n",
        "    id1 = pair[1].zfill(4)\n",
        "    name2 = pair[2]\n",
        "    id2 = pair[3].zfill(4)\n",
        "    \n",
        "    train_names.add(name1)\n",
        "    train_names.add(name2)\n",
        "  train_pairs.append((name1 + '_' + id1, name2 + '_' + id2))\n",
        "train_names = list(train_names)"
      ],
      "execution_count": 0,
      "outputs": []
    },
    {
      "cell_type": "code",
      "metadata": {
        "id": "jftxnfwwuiDo",
        "colab_type": "code",
        "colab": {}
      },
      "source": [
        "test_pairs = []\n",
        "test_names = set()\n",
        "with open(\"testPairs.txt\") as test:\n",
        "  test_files = test.readlines()[1:]\n",
        "  \n",
        "for pair in test_files:\n",
        "  pair = pair[:-1].split('\\t')\n",
        "  if len(pair) == 3:\n",
        "    name1 = pair[0]\n",
        "    id1 = pair[1].zfill(4)\n",
        "    name2 = name1\n",
        "    id2 = pair[2].zfill(4)\n",
        "    \n",
        "    test_names.add(name1)\n",
        "    \n",
        "  elif len(pair) == 4:\n",
        "    name1 = pair[0]\n",
        "    id1 = pair[1].zfill(4)\n",
        "    name2 = pair[2]\n",
        "    id2 = pair[3].zfill(4)\n",
        "    \n",
        "    test_names.add(name1)\n",
        "\n",
        "    test_names.add(name2)\n",
        "  test_pairs.append((name1 + '_' + id1, name2 + '_' + id2))\n",
        "test_names = list(test_names)"
      ],
      "execution_count": 0,
      "outputs": []
    },
    {
      "cell_type": "code",
      "metadata": {
        "id": "9_fySeyi12sl",
        "colab_type": "code",
        "outputId": "23973a56-0613-4ea5-ed8d-fe64f89cf77c",
        "colab": {
          "base_uri": "https://localhost:8080/",
          "height": 371
        }
      },
      "source": [
        "src = \"lfw2/\"\n",
        "train_dir = \"data/train/\"\n",
        "test_dir = \"data/test/\"\n",
        "\n",
        "for name in train_names:\n",
        "  print(\"Moving \" + name + \"...\")\n",
        "  shutil.copytree(src + name, train_dir + name)\n",
        "  "
      ],
      "execution_count": 0,
      "outputs": [
        {
          "output_type": "stream",
          "text": [
            "Moving Charlotte_Rampling...\n"
          ],
          "name": "stdout"
        },
        {
          "output_type": "error",
          "ename": "FileNotFoundError",
          "evalue": "ignored",
          "traceback": [
            "\u001b[0;31m---------------------------------------------------------------------------\u001b[0m",
            "\u001b[0;31mFileNotFoundError\u001b[0m                         Traceback (most recent call last)",
            "\u001b[0;32m<ipython-input-74-b2b10e5b8a85>\u001b[0m in \u001b[0;36m<module>\u001b[0;34m()\u001b[0m\n\u001b[1;32m      5\u001b[0m \u001b[0;32mfor\u001b[0m \u001b[0mname\u001b[0m \u001b[0;32min\u001b[0m \u001b[0mtrain_names\u001b[0m\u001b[0;34m:\u001b[0m\u001b[0;34m\u001b[0m\u001b[0;34m\u001b[0m\u001b[0m\n\u001b[1;32m      6\u001b[0m   \u001b[0mprint\u001b[0m\u001b[0;34m(\u001b[0m\u001b[0;34m\"Moving \"\u001b[0m \u001b[0;34m+\u001b[0m \u001b[0mname\u001b[0m \u001b[0;34m+\u001b[0m \u001b[0;34m\"...\"\u001b[0m\u001b[0;34m)\u001b[0m\u001b[0;34m\u001b[0m\u001b[0;34m\u001b[0m\u001b[0m\n\u001b[0;32m----> 7\u001b[0;31m   \u001b[0mshutil\u001b[0m\u001b[0;34m.\u001b[0m\u001b[0mcopytree\u001b[0m\u001b[0;34m(\u001b[0m\u001b[0msrc\u001b[0m \u001b[0;34m+\u001b[0m \u001b[0mname\u001b[0m\u001b[0;34m,\u001b[0m \u001b[0mtrain_dir\u001b[0m \u001b[0;34m+\u001b[0m \u001b[0mname\u001b[0m\u001b[0;34m)\u001b[0m\u001b[0;34m\u001b[0m\u001b[0;34m\u001b[0m\u001b[0m\n\u001b[0m\u001b[1;32m      8\u001b[0m \u001b[0;34m\u001b[0m\u001b[0m\n",
            "\u001b[0;32m/usr/lib/python3.6/shutil.py\u001b[0m in \u001b[0;36mcopytree\u001b[0;34m(src, dst, symlinks, ignore, copy_function, ignore_dangling_symlinks)\u001b[0m\n\u001b[1;32m    307\u001b[0m \u001b[0;34m\u001b[0m\u001b[0m\n\u001b[1;32m    308\u001b[0m     \"\"\"\n\u001b[0;32m--> 309\u001b[0;31m     \u001b[0mnames\u001b[0m \u001b[0;34m=\u001b[0m \u001b[0mos\u001b[0m\u001b[0;34m.\u001b[0m\u001b[0mlistdir\u001b[0m\u001b[0;34m(\u001b[0m\u001b[0msrc\u001b[0m\u001b[0;34m)\u001b[0m\u001b[0;34m\u001b[0m\u001b[0;34m\u001b[0m\u001b[0m\n\u001b[0m\u001b[1;32m    310\u001b[0m     \u001b[0;32mif\u001b[0m \u001b[0mignore\u001b[0m \u001b[0;32mis\u001b[0m \u001b[0;32mnot\u001b[0m \u001b[0;32mNone\u001b[0m\u001b[0;34m:\u001b[0m\u001b[0;34m\u001b[0m\u001b[0;34m\u001b[0m\u001b[0m\n\u001b[1;32m    311\u001b[0m         \u001b[0mignored_names\u001b[0m \u001b[0;34m=\u001b[0m \u001b[0mignore\u001b[0m\u001b[0;34m(\u001b[0m\u001b[0msrc\u001b[0m\u001b[0;34m,\u001b[0m \u001b[0mnames\u001b[0m\u001b[0;34m)\u001b[0m\u001b[0;34m\u001b[0m\u001b[0;34m\u001b[0m\u001b[0m\n",
            "\u001b[0;31mFileNotFoundError\u001b[0m: [Errno 2] No such file or directory: 'lfw2/Charlotte_Rampling'"
          ]
        }
      ]
    },
    {
      "cell_type": "code",
      "metadata": {
        "id": "8LRhUJa66UIS",
        "colab_type": "code",
        "colab": {}
      },
      "source": [
        ""
      ],
      "execution_count": 0,
      "outputs": []
    }
  ]
}