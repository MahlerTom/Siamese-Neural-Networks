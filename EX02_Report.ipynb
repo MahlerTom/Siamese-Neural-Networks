{
  "nbformat": 4,
  "nbformat_minor": 0,
  "metadata": {
    "colab": {
      "name": "EX02-Report.ipynb",
      "version": "0.3.2",
      "provenance": [],
      "include_colab_link": true
    },
    "kernelspec": {
      "name": "python3",
      "display_name": "Python 3"
    }
  },
  "cells": [
    {
      "cell_type": "markdown",
      "metadata": {
        "id": "view-in-github",
        "colab_type": "text"
      },
      "source": [
        "<a href=\"https://colab.research.google.com/github/MahlerTom/Siamese-Neural-Networks/blob/master/EX02_Report.ipynb\" target=\"_parent\"><img src=\"https://colab.research.google.com/assets/colab-badge.svg\" alt=\"Open In Colab\"/></a>"
      ]
    },
    {
      "cell_type": "markdown",
      "metadata": {
        "id": "RgCAs26NKT4O",
        "colab_type": "text"
      },
      "source": [
        "# Data Statistics\n"
      ]
    },
    {
      "cell_type": "markdown",
      "metadata": {
        "id": "M8q2Q9QYKrgk",
        "colab_type": "text"
      },
      "source": [
        ""
      ]
    },
    {
      "cell_type": "markdown",
      "metadata": {
        "id": "jg3aJGdBKmqr",
        "colab_type": "text"
      },
      "source": [
        "# Implement Siamese Network"
      ]
    },
    {
      "cell_type": "markdown",
      "metadata": {
        "id": "jsK2iLzkJYKj",
        "colab_type": "text"
      },
      "source": [
        "We start with the same network setting as in the paper, but end up with a very low training speed and accuracy. In order to optimize the network, we tried various parameter settings:"
      ]
    },
    {
      "cell_type": "markdown",
      "metadata": {
        "id": "NftfuX9lJzHC",
        "colab_type": "text"
      },
      "source": [
        "`This is a draft (currently the numbers are from the paper)`\n",
        "1. Number of kernel: 16 to 256\n",
        "2. Kernel size: 3x3 to 20x20\n",
        "3. Dimension of the fully connected layer: 128 to 2048\n",
        "4. Learning rate: 0.0001 to 0.1\n",
        "5. Batch size: 32 to 128"
      ]
    },
    {
      "cell_type": "markdown",
      "metadata": {
        "id": "D6D2z8JBKVum",
        "colab_type": "text"
      },
      "source": [
        "We also downsclae the input images by 2, and normalize them to [0, 1] in order to imporve the convergence time."
      ]
    },
    {
      "cell_type": "markdown",
      "metadata": {
        "id": "OMU8frgVUwEr",
        "colab_type": "text"
      },
      "source": [
        "\n",
        "\n",
        "---\n",
        "\n",
        "\n",
        "**Here to record our experiments, not presented in the report**\n",
        "\n",
        "\n",
        "\n",
        "1. Learning rate 0.001, 30 epochs, 20 steps per epoch, batch size 128, Adam optimizer, number of kernels (4, 8, 16, 32, 4*64), kernal size as in paper\n",
        "\n",
        "Performance: to be run fully. 60% - 70%, loss ~1.\n",
        "\n",
        "2. Learning rate 0.001, 200 epochs, 20 step, batch size 128, Momentum optimizer, number of kernels (4, 8, 16, 32, 4*64), kernal size as in paper\n",
        "\n",
        "Performance: loss decrease very slow ~21, accuracy ~52%\n",
        "\n",
        "3. Learning rate 0.1, 200 epochs, 20 step, batch size 128, Momentum optimizer, number of kernels (4, 8, 16, 32, 4*64), kernal size as in paper\n",
        "\n",
        "Performance: loss decrease much faster  21 - 19, accuracy ~52%\n",
        "\n",
        "\n",
        "---\n",
        "\n"
      ]
    },
    {
      "cell_type": "markdown",
      "metadata": {
        "id": "zaJi78KqL0ao",
        "colab_type": "text"
      },
      "source": [
        "## Problems & Solutions"
      ]
    },
    {
      "cell_type": "markdown",
      "metadata": {
        "id": "-vKb-RtWKzni",
        "colab_type": "text"
      },
      "source": [
        "\n",
        "\n",
        "* Slow training speed.\n",
        "\n",
        "Solution: \n",
        "\n",
        "* Low traning and validating accuracy.\n",
        "\n",
        "Solution: \n",
        "\n"
      ]
    },
    {
      "cell_type": "code",
      "metadata": {
        "id": "Y0129EwOKw23",
        "colab_type": "code",
        "colab": {}
      },
      "source": [
        ""
      ],
      "execution_count": 0,
      "outputs": []
    }
  ]
}