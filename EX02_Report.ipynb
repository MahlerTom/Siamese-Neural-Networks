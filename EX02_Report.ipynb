{
  "nbformat": 4,
  "nbformat_minor": 0,
  "metadata": {
    "colab": {
      "name": "EX02-Report.ipynb",
      "version": "0.3.2",
      "provenance": [],
      "collapsed_sections": [],
      "include_colab_link": true
    },
    "kernelspec": {
      "name": "python3",
      "display_name": "Python 3"
    },
    "accelerator": "GPU"
  },
  "cells": [
    {
      "cell_type": "markdown",
      "metadata": {
        "id": "view-in-github",
        "colab_type": "text"
      },
      "source": [
        "<a href=\"https://colab.research.google.com/github/MahlerTom/Siamese-Neural-Networks/blob/master/EX02_Report.ipynb\" target=\"_parent\"><img src=\"https://colab.research.google.com/assets/colab-badge.svg\" alt=\"Open In Colab\"/></a>"
      ]
    },
    {
      "cell_type": "markdown",
      "metadata": {
        "id": "6ndSNwVjx7Tn",
        "colab_type": "text"
      },
      "source": [
        "# Ben-Gurion University of the Negev\n",
        "\n",
        "Faculty of Engineering Sciences\n",
        "\n",
        "Department of Software and Information systems Engineering\n",
        "\n",
        "Introduction to Deep Learning\n",
        "\n",
        "Assignment 2"
      ]
    },
    {
      "cell_type": "markdown",
      "metadata": {
        "id": "bHAQzZzEzO3O",
        "colab_type": "text"
      },
      "source": [
        "# Introduction\n",
        "\n",
        "In this assignment, we use convolutional neural networks (CNNs) to carry out the task of facial recognition, since CNNs are the current state-of-the-art approach for analyzing imagebased datasets. More specifically, we implement a one-shot classification solution. \n",
        "Wikipedia defines one-shot learning as follows:\n",
        "\n",
        "> “… an object categorization problem, found mostly in computer vision. Whereas most machine learning based object categorization algorithms require training on hundreds or thousands of samples/images and very large datasets, one-shot learning aims to learn information about object categories from one, or only a few, training samples/images.”\n",
        "\n",
        "Our work is based on the paper [Siamese Neural Networks for One-shot Image Recognition](https://www.cs.cmu.edu/~rsalakhu/papers/oneshot1.pdf). Our goal, like that of the paper, is to successfully execute a one-shot learning task for previously unseen objects. Given two facial images of previously unseen persons, our architecture will have to successfully determine whether they are the same person. While we are encouraged to use the architecture described in this paper as a starting point, we shall explore other possibilities as well.\n",
        "\n",
        "<br>\n",
        "\n",
        "In this work, we are making use of [`TensorFlow 2.0`](https://www.tensorflow.org/alpha) API on `Google Colab` notebook set on GPU runtime (GPU: 1xTesla K80 , having 2496 CUDA cores, compute 3.7, 12GB (11.439GB Usable) GDDR5 VRAM). We load `TF2.0` as follows:"
      ]
    },
    {
      "cell_type": "code",
      "metadata": {
        "id": "h7XiodlXTate",
        "colab_type": "code",
        "colab": {}
      },
      "source": [
        "%%capture\n",
        "from __future__ import absolute_import, division, print_function, unicode_literals\n",
        "\n",
        "!pip install -q tensorflow-gpu==2.0.0-alpha0\n",
        "import tensorflow as tf\n",
        "# AUTOTUNE = tf.data.experimental.AUTOTUNE"
      ],
      "execution_count": 0,
      "outputs": []
    },
    {
      "cell_type": "markdown",
      "metadata": {
        "id": "j38hleEDC5gQ",
        "colab_type": "text"
      },
      "source": [
        "For reproducible results, we init numpy and tensorflow random seed with same values"
      ]
    },
    {
      "cell_type": "code",
      "metadata": {
        "id": "D0S2FNEDC5oe",
        "colab_type": "code",
        "colab": {}
      },
      "source": [
        "import numpy as np\n",
        "np.set_printoptions(precision=2)\n",
        "\n",
        "from numpy.random import seed\n",
        "from tensorflow.random import set_seed\n",
        "seed(2)\n",
        "set_seed(2)"
      ],
      "execution_count": 0,
      "outputs": []
    },
    {
      "cell_type": "code",
      "metadata": {
        "id": "IRQd1TNhULnT",
        "colab_type": "code",
        "outputId": "dfb1e667-105c-462f-c241-1c9027bb0347",
        "colab": {
          "base_uri": "https://localhost:8080/",
          "height": 34
        }
      },
      "source": [
        "print('Running on GPU' if tf.test.is_gpu_available() else 'Please change runtime type to GPU on Google Colab under Runtime') # Make sure we are set to GPU (under Runtime->Change runtime type)"
      ],
      "execution_count": 3,
      "outputs": [
        {
          "output_type": "stream",
          "text": [
            "Running on GPU\n"
          ],
          "name": "stdout"
        }
      ]
    },
    {
      "cell_type": "markdown",
      "metadata": {
        "id": "HrfGZEkf0dRy",
        "colab_type": "text"
      },
      "source": [
        "# Analysis of the Dataset \n",
        "\n",
        "We use the [Labeled Faces in the Wild](http://vis-www.cs.umass.edu/lfw/index.html) dataset. Note that there are several versions of this dataset, we use the version found [here](https://talhassner.github.io/home/projects/lfwa/index.html) (it’s called LFW-a, and is also used in the DeepFace paper).\n",
        "\n",
        "We use the following train and test sets to train your model: [Train](http://vis-www.cs.umass.edu/lfw/pairsDevTrain.txt) \\ [Test](http://vis-www.cs.umass.edu/lfw/pairsDevTest.txt). We use the test set to perform one-shot learning. This division is set up so that no subject from the test set is included in the train set.\n",
        "\n",
        "The downloaded directory is built in the following structure:\n",
        "\n",
        "```\n",
        "lfw2\n",
        "│\n",
        "└───FirstName_LastName1\n",
        "│   │   FirstName_LastName1_xxx1.jpg\n",
        "│   │   ...\n",
        "│   \n",
        "└───FirstName_LastName2\n",
        "│   │   FirstName_LastName2_xxx2.jpg\n",
        "│   │   ...\n",
        "│   \n",
        "│   ...\n",
        "```\n",
        "\n",
        "Which includes both the train, test, and additional data. Therefore, our first task was to orgenize the data better. We chose to use `python` scripts to create 3 flattened directories: `test`, `train`, and `unused`. For this task, we cannot use additional data for the training, however, we maintain the `unused` directory for potential future work.\n",
        "\n",
        "Following is the script that we used, which is pretty straight forward:\n",
        "\n",
        "**Note that you first must download the dataset manually**"
      ]
    },
    {
      "cell_type": "markdown",
      "metadata": {
        "id": "jxMGHAqnNXZ1",
        "colab_type": "text"
      },
      "source": [
        "## Orgenize dataset\n",
        "\n",
        "This section explains how we orgenized the dataset. **Note that the orgenized dataset was uploaded to our `GitHub` account:  [MahlerTom/Siamese-Neural-Networks](https://github.com/MahlerTom/Siamese-Neural-Networks), and thus this section can be skipped**\n",
        "\n",
        "First we download all the necessary files: `pairsDevTrain.txt`, `pairsDevTest.txt`, and 'lfw2.zip', and we unzip the dataset"
      ]
    },
    {
      "cell_type": "code",
      "metadata": {
        "id": "fJLrO02c_yxj",
        "colab_type": "code",
        "colab": {}
      },
      "source": [
        "%%capture\n",
        "!wget http://vis-www.cs.umass.edu/lfw/pairsDevTrain.txt\n",
        "!wget http://vis-www.cs.umass.edu/lfw/pairsDevTest.txt\n",
        "!gdown https://drive.google.com/uc?id=1p1wjaqpTh_5RHfJu4vUh8JJCdKwYMHCp\n",
        "!unzip lfwa.zip"
      ],
      "execution_count": 0,
      "outputs": []
    },
    {
      "cell_type": "markdown",
      "metadata": {
        "id": "5s9a7cFXNtD6",
        "colab_type": "text"
      },
      "source": [
        "Next, we define several functions that help us:\n",
        "\n",
        "\n",
        "1.   The `create_pairs` function helps us create a list of all the names that appear in the `pairsDevTrain.txt` and `pairsDevTest.txt` which we will later use for moving the folders.\n",
        "2.   The `flatten` function simply flatten a given folder with the specific structure mentioned.\n",
        "3.   The `move_dirs_and_flatten` function moves a folder from the `src_path` using the `folder_names` list that was created using `create_pairs` into a new folder inside `dst_path` and then flatten it using `flatten`\n"
      ]
    },
    {
      "cell_type": "code",
      "metadata": {
        "id": "ZrZLwhOTEeHm",
        "colab_type": "code",
        "colab": {}
      },
      "source": [
        "import shutil\n",
        "import os\n",
        "\n",
        "def create_pairs(pairs_path):\n",
        "  names = set()\n",
        "  with open(pairs_path) as pairs_path_f:\n",
        "    pairs_list = pairs_path_f.readlines()[1:]\n",
        "        \n",
        "  for pair in pairs_list:\n",
        "    pair = pair[:-1].split('\\t')\n",
        "    if len(pair) == 3:\n",
        "      names.add(pair[0])\n",
        "    elif len(pair) == 4:\n",
        "      names.add(pair[0])\n",
        "      names.add(pair[2])\n",
        "  return list(names)\n",
        "\n",
        "def flatten(src, verbose=0):\n",
        "  for directory in os.listdir(src):\n",
        "    for file in os.listdir(src + directory):\n",
        "      if verbose > 0:\n",
        "        print(\"Moving \" + file + \"...\")\n",
        "      shutil.move(src + directory + '/' + file, src + file)   \n",
        "\n",
        "def move_dirs_and_flatten(src_path, dst_path, folders_names, verbose=0):\n",
        "  for folder_name in folders_names:\n",
        "    if verbose > 0:\n",
        "      print(\"Moving \" + folder_name + \"...\")\n",
        "    shutil.move(src_path + folder_name, dst_path + folder_name)\n",
        "  \n",
        "  flatten(dst_path)"
      ],
      "execution_count": 0,
      "outputs": []
    },
    {
      "cell_type": "markdown",
      "metadata": {
        "id": "IRe3D6bAO4de",
        "colab_type": "text"
      },
      "source": [
        "With these functions, we orgenize our dataset into a new folder with the following structure:\n",
        "```\n",
        "data\n",
        "│\n",
        "└───train\n",
        "│   │   FirstName_LastName1_xxx1.jpg\n",
        "│   │   FirstName_LastName2_xxx2.jpg\n",
        "│   │   ...\n",
        "│   \n",
        "└───test\n",
        "│   │   FirstName_LastName1_xxx1.jpg\n",
        "│   │   FirstName_LastName2_xxx2.jpg\n",
        "│   │   ...\n",
        "│   \n",
        "└───unused\n",
        "│   │   FirstName_LastName1_xxx1.jpg\n",
        "│   │   FirstName_LastName2_xxx2.jpg\n",
        "│   │   ...\n",
        "```"
      ]
    },
    {
      "cell_type": "code",
      "metadata": {
        "id": "WjFinwjgO3tp",
        "colab_type": "code",
        "colab": {}
      },
      "source": [
        "import shutil\n",
        "\n",
        "train_names = create_pairs('pairsDevTrain.txt')\n",
        "test_names = create_pairs('pairsDevTest.txt')\n",
        "\n",
        "src = 'lfw2/lfw2/'\n",
        "move_dirs_and_flatten(src, 'data/train/', train_names)\n",
        "move_dirs_and_flatten(src, 'data/test/', test_names)\n",
        "flatten(src)\n",
        "shutil.move(src, 'data/unused/')\n",
        "!rm -r lfw2"
      ],
      "execution_count": 0,
      "outputs": []
    },
    {
      "cell_type": "markdown",
      "metadata": {
        "id": "xnOhMC2WVS6L",
        "colab_type": "text"
      },
      "source": [
        "# Installation\n",
        "\n",
        "The dataset was uploaded to [MahlerTom/Siamese-Neural-Networks](https://github.com/MahlerTom/Siamese-Neural-Networks), so we first need to clone the repository, with the data. To make things easier, we also define:\n",
        "\n",
        "*   `repo_path` - the repository path (this should be cross platrform since we use `os` module)\n",
        "*   `train_path` - the train dataset path\n",
        "*   `test_path` - the test dataset path"
      ]
    },
    {
      "cell_type": "code",
      "metadata": {
        "id": "ThunHgxPVNJu",
        "colab_type": "code",
        "colab": {}
      },
      "source": [
        "%%capture\n",
        "import os\n",
        "\n",
        "# Clone the entire repo.\n",
        "!git clone -s git://github.com/MahlerTom/Siamese-Neural-Networks.git SiameseNeuralNetworks\n",
        "repo_path = os.path.join(os.getcwd(), 'SiameseNeuralNetworks')\n",
        "train_path = os.path.join(repo_path, 'data', 'train')\n",
        "test_path = os.path.join(repo_path, 'data', 'test')"
      ],
      "execution_count": 0,
      "outputs": []
    },
    {
      "cell_type": "markdown",
      "metadata": {
        "id": "3U2RYGF_QfqR",
        "colab_type": "text"
      },
      "source": [
        "# Analysis of the Dataset\n",
        "\n",
        "Before we begin our training, we need to prepare the dataset. Since we are using `TensorFlow 2.0`, we will make use of its functions. We followed the guide at: [https://www.tensorflow.org/alpha/tutorials/load_data/images](https://www.tensorflow.org/alpha/tutorials/load_data/images)"
      ]
    },
    {
      "cell_type": "markdown",
      "metadata": {
        "id": "bK6JOvgsVxdl",
        "colab_type": "text"
      },
      "source": [
        "## Preparing the dataset\n",
        "\n",
        "Before we begin our training, we need to prepare the dataset. Since we are using TensorFlow 2.0, we will make use of its functions. We followed the guide at: [https://www.tensorflow.org/alpha/tutorials/load_data/images](https://www.tensorflow.org/alpha/tutorials/load_data/images)\n",
        "\n",
        "<br>\n",
        "\n",
        "Tensorflow makes use of smart functions that can load images given their paths. In addition, we received `trainPairs.txt` and `testPairs.txt`, which include the labels. \n",
        "\n",
        "The data structure is as follows: \n",
        "```\n",
        "((left_img_path, right_img_path), label)\n",
        "```\n",
        "\n",
        "Thus, the following `load_data` function will create it."
      ]
    },
    {
      "cell_type": "code",
      "metadata": {
        "id": "AqZij9yoWnVV",
        "colab_type": "code",
        "outputId": "64487905-a303-468f-f32c-a76249274940",
        "colab": {
          "base_uri": "https://localhost:8080/",
          "height": 1889
        }
      },
      "source": [
        "from SiameseNeuralNetworks.data import load_data\n",
        "\n",
        "# Utility array to print the name of the label easily (tested on Google Colab)\n",
        "label_name = ['Different', 'Same']\n",
        "\n",
        "train_paths_labels = load_data(train_path, labels_file=os.path.join(repo_path, 'trainPairs.txt'), print_imgs=3)\n",
        "test_paths_labels = load_data(test_path, labels_file=os.path.join(repo_path, 'testPairs.txt'), print_imgs=3)"
      ],
      "execution_count": 8,
      "outputs": [
        {
          "output_type": "stream",
          "text": [
            "Loaded 6685 image paths\n",
            "##########################################\n",
            "Printing Example Images\n",
            "\n"
          ],
          "name": "stdout"
        },
        {
          "output_type": "display_data",
          "data": {
            "image/jpeg": "[encoded data removed]",
            "text/plain": [
              "<IPython.core.display.Image object>"
            ]
          },
          "metadata": {
            "tags": []
          }
        },
        {
          "output_type": "stream",
          "text": [
            "Lleyton_Hewitt_0033\n",
            "\n"
          ],
          "name": "stdout"
        },
        {
          "output_type": "display_data",
          "data": {
            "image/jpeg": "[encoded data removed]",
            "text/plain": [
              "<IPython.core.display.Image object>"
            ]
          },
          "metadata": {
            "tags": []
          }
        },
        {
          "output_type": "stream",
          "text": [
            "Kim_Clijsters_0004\n",
            "\n"
          ],
          "name": "stdout"
        },
        {
          "output_type": "display_data",
          "data": {
            "image/jpeg": "[encoded data removed]",
            "text/plain": [
              "<IPython.core.display.Image object>"
            ]
          },
          "metadata": {
            "tags": []
          }
        },
        {
          "output_type": "stream",
          "text": [
            "Roh_Moo-hyun_0020\n",
            "\n",
            "##########################################\n",
            "Loaded 2741 image paths\n",
            "##########################################\n",
            "Printing Example Images\n",
            "\n"
          ],
          "name": "stdout"
        },
        {
          "output_type": "display_data",
          "data": {
            "image/jpeg": "[encoded data removed]",
            "text/plain": [
              "<IPython.core.display.Image object>"
            ]
          },
          "metadata": {
            "tags": []
          }
        },
        {
          "output_type": "stream",
          "text": [
            "Richard_Gere_0007\n",
            "\n"
          ],
          "name": "stdout"
        },
        {
          "output_type": "display_data",
          "data": {
            "image/jpeg": "[encoded data removed]",
            "text/plain": [
              "<IPython.core.display.Image object>"
            ]
          },
          "metadata": {
            "tags": []
          }
        },
        {
          "output_type": "stream",
          "text": [
            "Nancy_Pelosi_0002\n",
            "\n"
          ],
          "name": "stdout"
        },
        {
          "output_type": "display_data",
          "data": {
            "image/jpeg": "[encoded data removed]",
            "text/plain": [
              "<IPython.core.display.Image object>"
            ]
          },
          "metadata": {
            "tags": []
          }
        },
        {
          "output_type": "stream",
          "text": [
            "Allison_Searing_0001\n",
            "\n",
            "##########################################\n"
          ],
          "name": "stdout"
        }
      ]
    },
    {
      "cell_type": "markdown",
      "metadata": {
        "id": "vKHcnoijZ3qX",
        "colab_type": "text"
      },
      "source": [
        "The images are grayscale with resolution $250\\times250$."
      ]
    },
    {
      "cell_type": "code",
      "metadata": {
        "id": "grIOhDMuc0c1",
        "colab_type": "code",
        "outputId": "47d46d05-ba77-46dc-eb66-eb1d9df93daa",
        "colab": {
          "base_uri": "https://localhost:8080/",
          "height": 625
        }
      },
      "source": [
        "from SiameseNeuralNetworks.utils import print_dataset_stat\n",
        "\n",
        "print_dataset_stat(train_paths_labels, ds_name='Train')\n",
        "print('############\\n\\n############')\n",
        "print_dataset_stat(test_paths_labels, ds_name='Test')"
      ],
      "execution_count": 9,
      "outputs": [
        {
          "output_type": "stream",
          "text": [
            "Examples for Train dataset structure:\n",
            "############\n",
            "Raw view:\n",
            "[('/content/SiameseNeuralNetworks/data/train/Aaron_Peirsol_0001.jpg', '/content/SiameseNeuralNetworks/data/train/Aaron_Peirsol_0002.jpg', 1), ('/content/SiameseNeuralNetworks/data/train/Aaron_Peirsol_0003.jpg', '/content/SiameseNeuralNetworks/data/train/Aaron_Peirsol_0004.jpg', 1), ('/content/SiameseNeuralNetworks/data/train/Aaron_Sorkin_0001.jpg', '/content/SiameseNeuralNetworks/data/train/Aaron_Sorkin_0002.jpg', 1)]\n",
            "############\n",
            "Pretty view:\n",
            "[('Aaron_Peirsol_0001', 'Aaron_Peirsol_0002', 'Same'), ('Aaron_Peirsol_0003', 'Aaron_Peirsol_0004', 'Same'), ('Aaron_Sorkin_0001', 'Aaron_Sorkin_0002', 'Same')]\n",
            "############\n",
            "Dataset size: 2200\n",
            "2 classes:\n",
            "+-----------+-----------+------------+\n",
            "|   Class   |    Size   | Percentage |\n",
            "+-----------+-----------+------------+\n",
            "| Different | 1100/2200 |   50.00%   |\n",
            "|    Same   | 1100/2200 |   50.00%   |\n",
            "+-----------+-----------+------------+\n",
            "############\n",
            "\n",
            "############\n",
            "Examples for Test dataset structure:\n",
            "############\n",
            "Raw view:\n",
            "[('/content/SiameseNeuralNetworks/data/test/Abdullah_Gul_0013.jpg', '/content/SiameseNeuralNetworks/data/test/Abdullah_Gul_0014.jpg', 1), ('/content/SiameseNeuralNetworks/data/test/Abdullah_Gul_0013.jpg', '/content/SiameseNeuralNetworks/data/test/Abdullah_Gul_0016.jpg', 1), ('/content/SiameseNeuralNetworks/data/test/Abdullatif_Sener_0001.jpg', '/content/SiameseNeuralNetworks/data/test/Abdullatif_Sener_0002.jpg', 1)]\n",
            "############\n",
            "Pretty view:\n",
            "[('Abdullah_Gul_0013', 'Abdullah_Gul_0014', 'Same'), ('Abdullah_Gul_0013', 'Abdullah_Gul_0016', 'Same'), ('Abdullatif_Sener_0001', 'Abdullatif_Sener_0002', 'Same')]\n",
            "############\n",
            "Dataset size: 1000\n",
            "2 classes:\n",
            "+-----------+----------+------------+\n",
            "|   Class   |   Size   | Percentage |\n",
            "+-----------+----------+------------+\n",
            "| Different | 500/1000 |   50.00%   |\n",
            "|    Same   | 500/1000 |   50.00%   |\n",
            "+-----------+----------+------------+\n"
          ],
          "name": "stdout"
        }
      ]
    },
    {
      "cell_type": "markdown",
      "metadata": {
        "id": "IKtYWrrZP66U",
        "colab_type": "text"
      },
      "source": [
        "## Create Validation Set\n",
        "\n",
        "It is often a recommended to use a validation set when training the model; thus, we have chosen to use a 70-30 train-validation ratio. It's important to note that while we are guarenteed that their is no subject from the test set included in the train set, we do not have this guarentee for the train-validation separation. Therefore, if we randomly choose a 70-30 separation ratio (a common choice), we will likely have subjects included in both the training and validation sets, which will cause a problems.\n",
        "\n",
        "Therefore, we explore separating the sets based on the persons name, to guarentee the sets are independent.\n",
        "\n",
        "As we can see, if we choose the letters: `'A'`, `'B'`, `'C'`, `'D'`, `'E'` for the 'same' validation set, and the leters: `'A'`, `'B'`, `'C'` for the 'different' validation set, we will get:\n"
      ]
    },
    {
      "cell_type": "code",
      "metadata": {
        "id": "8kbIgDGCgxDb",
        "colab_type": "code",
        "outputId": "f0c06ecd-84f9-47b7-82c6-be83e655c63d",
        "colab": {
          "base_uri": "https://localhost:8080/",
          "height": 272
        }
      },
      "source": [
        "from SiameseNeuralNetworks.utils import explore_subject_names\n",
        "from SiameseNeuralNetworks.data import image_name\n",
        "\n",
        "from prettytable import PrettyTable\n",
        "\n",
        "train_same = [image_name(p[0]) for p in train_paths_labels[:1100]]\n",
        "train_diff = [image_name(p[0]) for p in train_paths_labels[1100:]]\n",
        "h_same = explore_subject_names(train_same)\n",
        "h_diff = explore_subject_names(train_diff)\n",
        "\n",
        "t = PrettyTable([''] + list(h_same.keys()))\n",
        "t.add_row(['Same'] + list(h_same.values()))\n",
        "t.add_row(['Different'] + list(h_diff.values()))\n",
        "print(t)\n",
        "print()\n",
        "\n",
        "letters_selected_same = h_same['A'] + h_same['B'] + h_same['C'] + h_same['D'] + h_same['E']\n",
        "letters_selected_different = h_diff['A'] + h_diff['B'] + h_diff['C']\n",
        "\n",
        "t = PrettyTable(['', 'Total Size', 'Chosen Letters', 'Chosen Letters Size', 'Percentage'])\n",
        "t.add_row(['Same', sum(h_same.values()), 'A, B, C, D, E', letters_selected_same, f'{letters_selected_same/len(train_same)*100:.2f}%'])\n",
        "t.add_row(['Different', sum(h_diff.values()), 'A, B, C', letters_selected_different, f'{letters_selected_different/len(train_diff)*100:.2f}%'])\n",
        "t.add_row(['All', sum(h_same.values()) + sum(h_diff.values()), 'A-Z', letters_selected_same + letters_selected_different,  f'{(letters_selected_same + letters_selected_different)/(len(train_same) + len(train_diff))*100:.2f}%'])\n",
        "print(t)"
      ],
      "execution_count": 10,
      "outputs": [
        {
          "output_type": "stream",
          "text": [
            "+-----------+-----+-----+-----+-----+----+----+----+----+----+-----+----+----+-----+----+---+----+---+----+----+----+---+----+----+---+----+---+\n",
            "|           |  A  |  B  |  C  |  D  | E  | F  | G  | H  | I  |  J  | K  | L  |  M  | N  | O | P  | Q | R  | S  | T  | U | V  | W  | X | Y  | Z |\n",
            "+-----------+-----+-----+-----+-----+----+----+----+----+----+-----+----+----+-----+----+---+----+---+----+----+----+---+----+----+---+----+---+\n",
            "|    Same   | 101 |  59 |  80 |  58 | 45 | 20 | 50 | 42 | 9  | 145 | 29 | 41 | 102 | 25 | 4 | 46 | 7 | 74 | 62 | 45 | 1 | 16 | 17 | 3 | 13 | 6 |\n",
            "| Different | 144 | 121 | 114 | 103 | 64 | 31 | 62 | 47 | 16 | 151 | 34 | 40 |  63 | 22 | 1 | 34 | 2 | 20 | 21 | 8  | 0 | 1  | 1  | 0 | 0  | 0 |\n",
            "+-----------+-----+-----+-----+-----+----+----+----+----+----+-----+----+----+-----+----+---+----+---+----+----+----+---+----+----+---+----+---+\n",
            "\n",
            "+-----------+------------+----------------+---------------------+------------+\n",
            "|           | Total Size | Chosen Letters | Chosen Letters Size | Percentage |\n",
            "+-----------+------------+----------------+---------------------+------------+\n",
            "|    Same   |    1100    | A, B, C, D, E  |         343         |   31.18%   |\n",
            "| Different |    1100    |    A, B, C     |         379         |   34.45%   |\n",
            "|    All    |    2200    |      A-Z       |         722         |   32.82%   |\n",
            "+-----------+------------+----------------+---------------------+------------+\n"
          ],
          "name": "stdout"
        }
      ]
    },
    {
      "cell_type": "markdown",
      "metadata": {
        "id": "KEdxhpaflupC",
        "colab_type": "text"
      },
      "source": [
        "Which provides a good separation. The following function splits the train to train and validation based on the chosen letters:"
      ]
    },
    {
      "cell_type": "code",
      "metadata": {
        "id": "3dj_j6ODl05v",
        "colab_type": "code",
        "outputId": "0a82e346-4b76-478b-fa8b-4fce8b518910",
        "colab": {
          "base_uri": "https://localhost:8080/",
          "height": 202
        }
      },
      "source": [
        "from SiameseNeuralNetworks.data import split_train_val_paths\n",
        "\n",
        "train_same, val_same = split_train_val_paths(train_paths_labels[:1100], letters='ABCDE')\n",
        "train_diff, val_diff = split_train_val_paths(train_paths_labels[1100:], letters='ABC')\n",
        "train_paths_labels_split = train_same + train_diff\n",
        "val_paths_labels_split = val_same + val_diff\n",
        "\n",
        "t = PrettyTable(['', 'Size', 'Percentage'])\n",
        "t.add_row(['Train Same', f'{len(train_same)}/{len(train_paths_labels)}', f'{len(train_same)/len(train_paths_labels)*100:.2f}%'])\n",
        "t.add_row(['Train Different', f'{len(train_diff)}/{len(train_paths_labels)}', f'{len(train_diff)/len(train_paths_labels)*100:.2f}%'])\n",
        "t.add_row(['Train', f'{len(train_paths_labels_split)}/{len(train_paths_labels)}', f'{len(train_paths_labels_split)/len(train_paths_labels)*100:.2f}%'])\n",
        "t.add_row(['', '', ''])\n",
        "t.add_row(['Validation Same', f'{len(val_same)}/{len(train_paths_labels)}', f'{len(val_same)/len(train_paths_labels)*100:.2f}%'])\n",
        "t.add_row(['Validation Different', f'{len(val_diff)}/{len(train_paths_labels)}', f'{len(val_diff)/len(train_paths_labels)*100:.2f}%'])\n",
        "t.add_row(['Validation', f'{len(val_paths_labels_split)}/{len(train_paths_labels)}', f'{len(val_paths_labels_split)/len(train_paths_labels)*100:.2f}%'])\n",
        "print(t)"
      ],
      "execution_count": 11,
      "outputs": [
        {
          "output_type": "stream",
          "text": [
            "+----------------------+-----------+------------+\n",
            "|                      |    Size   | Percentage |\n",
            "+----------------------+-----------+------------+\n",
            "|      Train Same      |  757/2200 |   34.41%   |\n",
            "|   Train Different    |  721/2200 |   32.77%   |\n",
            "|        Train         | 1478/2200 |   67.18%   |\n",
            "|                      |           |            |\n",
            "|   Validation Same    |  343/2200 |   15.59%   |\n",
            "| Validation Different |  379/2200 |   17.23%   |\n",
            "|      Validation      |  722/2200 |   32.82%   |\n",
            "+----------------------+-----------+------------+\n"
          ],
          "name": "stdout"
        }
      ]
    },
    {
      "cell_type": "markdown",
      "metadata": {
        "id": "GnEdjVWsfdEa",
        "colab_type": "text"
      },
      "source": [
        "\n",
        "\n",
        "* A training set of 757 'same' and 721 'different', and a total of  $ 1478 / 2200 = 67.1\\% $.\n",
        "* A validation set of 343 'same' and 379 'different', and a total of  $ 722 / 2200 = 32.8\\% $.\n",
        "\n",
        "The *same* validation set includes all subjects with name \n",
        "\n",
        "The reason for this specific choice, is that while we are guarenteed that their is no subject from the test set included in the train set, we do not have this guarentee for the train-validation separation. Therefore, if we randomly choose a 70-30 train-validation separation (a common choice), we will likely have validation subjects included in the training set, which will cause a problems.\n",
        "\n",
        "\n",
        "<br>\n",
        "\n",
        "Make your own decision whether to use one and what percentage of (training) samples to allocate."
      ]
    },
    {
      "cell_type": "markdown",
      "metadata": {
        "id": "FOtAzQPyVA8j",
        "colab_type": "text"
      },
      "source": [
        "Also provide the full experimental setup you used -- batch sizes, the various parameters of your architecture, stopping criteria and any other\n",
        "relevant information. A good rule of thumb: if asked to recreate your work, a person should be able to do so based on the information you provide in your report."
      ]
    },
    {
      "cell_type": "markdown",
      "metadata": {
        "id": "1vLWen_RFe3q",
        "colab_type": "text"
      },
      "source": [
        "# Data Statistics"
      ]
    },
    {
      "cell_type": "markdown",
      "metadata": {
        "id": "9tqC3s9AFgtx",
        "colab_type": "text"
      },
      "source": [
        "In your report, include an analysis of the dataset (size, number of examples – in total and per class – for the train and test sets, etc).\n",
        "\n",
        "Also provide the full experimental setup you used – batch sizes, the various parameters of your architecture, stopping criteria and any other relevant information. \n",
        "\n",
        "A good rule of thumb: if asked to recreate your work, a person should be able to do so based on the information you provide in your report."
      ]
    },
    {
      "cell_type": "markdown",
      "metadata": {
        "id": "lMftCQ-fFioT",
        "colab_type": "text"
      },
      "source": [
        "In this project, we have \n",
        "\n",
        "Download the dataset. Note: there are several versions of this dataset, use the version\n",
        "found here (it’s called LFW-a, and is also used in the DeepFace paper)."
      ]
    },
    {
      "cell_type": "markdown",
      "metadata": {
        "id": "vS4U9R7SSNhT",
        "colab_type": "text"
      },
      "source": [
        "# Methods"
      ]
    },
    {
      "cell_type": "markdown",
      "metadata": {
        "id": "xDOJMU6LSSIH",
        "colab_type": "text"
      },
      "source": [
        "## Network Architecture"
      ]
    },
    {
      "cell_type": "markdown",
      "metadata": {
        "id": "IB0jykd-SPk0",
        "colab_type": "text"
      },
      "source": [
        "We implemented the Siamese neural network for this task. Before implementing the network, we resized the input images from size of $250 * 250$ to $125 * 125$.\n",
        "\n",
        "We start with the exactly same network architecture as in [this paper](https://www.cs.cmu.edu/~rsalakhu/papers/oneshot1.pdf). Generally, the network is composed of two identical convolutional neural networks, which are connected to one fully connected layers. Each CNN is composed of 4 convolutional layers, each of which uses a single channel filters with various size and fixed stride of 1. The network applies a ReLU activation function to the output feature maps, followed by maxpooling with a ﬁlter size and stride of 2. The units in the ﬁnal convolutional layer are ﬂattened into a single vector. This convolutional layer is followed by a fully-connected layer, and then one more layer computing the L1 distance metric between the output of both siamese twins, which is given to a single sigmoidal output unit. \n",
        "\n",
        "The originial network architecture performs poorly on our task. Assuming that the reason was too many parameters, we reduced the number of filters and the adjusted filter sizes. We tried different network settings and made our decision based on the performance on validation dataset, attempts including: \n",
        "* changing number of filters and filter size\n",
        "    * Number of filters: 4, 8, 16\n",
        "    * Filter size: $2*2$ to $12 * 12$\n",
        "* changing size of the fully connected layers\n",
        "    * 1024 to 4096\n",
        "* Weight initialization method\n",
        "    * $N(0, 10^{-2})$\n",
        "    * Glorot (Xavier) normal\n",
        "    * LeCun normal\n",
        "* Loss function\n",
        "    * Binary cross-entropy\n",
        "    * Contrastive loss\n",
        "        \n",
        "Changing the loss function to contrastive loss requires some modifications in the network architecture. According to the loss function:\n",
        "\n",
        "$Y\\frac12(D_w)^2 + (1-Y)\\frac12\\{max(margin-D_w, 0)\\}^2$\n",
        "\n",
        "where $Y=1$ for true class (images are of same people) and 0 vice versa, and $D_w$ is expected to be the euclidean distance of the two feature maps of the input image pairs, we remove the final sigmoidal layer of the network, changing the distance mersurement from L1 to euclidean, and used the distance directly as the output of our network. \n",
        "\n",
        "Eventually, we achieved our best results with the following network architecture:\n",
        "* Number of CNN layers: 4\n",
        "* Number of filters: 8, 16, 32, 64\n",
        "* Filter size: $10*10, 7*7, 4*4, 4*4$\n",
        "* Size of fully connected layer: 2048\n",
        "* Weight initialization method: $N(0, 10^{-2})$\n",
        "* Bias Initialization method: normal distribution $N(0.5, 10^{-2})$\n",
        "* Loss function: binary cross-entropy"
      ]
    },
    {
      "cell_type": "markdown",
      "metadata": {
        "id": "Ye20Ao7di6UR",
        "colab_type": "text"
      },
      "source": [
        "## Evaluation Methods\n",
        "\n",
        "In this section we explain the evaluation methods we shall use to measure the performance of our architecture. \n",
        "\n",
        "### Hyper-parameters tuning\n",
        "\n",
        "We use hyper-parameters tuning in order to choose the best configuration for our network. There are numerous parameters that affect the performance of the network, and we shall focus on the following parameters: resizing the images, batch size, number of filters, number of units in the last layer, optimizer, and learning rate.\n",
        "\n",
        "As we explained in the methods section, we have implemented the based on **[TODO]**. In each layer convolutional layer, we define a different number of filters, so that the next layer has twice the number of filters as the previous layer. The original network includes 64, 128, 256, and 512 filters in the convolutional layers, and 4096 units in the last layer. This results in a very large and deep network, that takes too long to run (and doesn't necessarily output better results). Therefore, we define a configurable filter size, while keeping the proportions between the layers, and a configurable unit size for the last layer. As part of our evaluation, we shall try different filter and unit size to check the effect on the performance.\n",
        "\n",
        "In addition, we measure the effects of resizing the image. Intuitively, higher resolution ($250\\times 250$) should result in more details, making the network learn deeper insights. However, for many tasks smaller resulotions are good enough. We will try to resize the network to $125\\times 125$ and see test the performance.\n",
        "\n",
        "Finally, the learning rate, batch size, and optimizer, has a significant effect on the training, so we shall test them as well.\n",
        "\n",
        "### Early Stopping and Model Checkpoint\n",
        "\n",
        "To avoid overfitting, and running for too many epochs, we use early stopping. Early stopping means that we train the model while monitoring the validation loss. When we see that the validation loss stops decreasing we stop the training process. We apply `patience` of three, which means that we monitor the loss and stop only when it hasn't decreased for at least three epochs. The model checkpoint callback helps us save only the best weights even of the loss increased. \n",
        "\n",
        "### Loss and other metrics\n",
        "\n",
        "We use binary crossentropy loss and the contrastive loss while monitoring the accuracy. We note that, as we explained in the data section, we split the training set into 70% training set and 30% validation set. In all our experiments, we evaluate our model on the validation and the test set."
      ]
    }
  ]
}