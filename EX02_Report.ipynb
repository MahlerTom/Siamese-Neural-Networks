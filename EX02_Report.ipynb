{
  "nbformat": 4,
  "nbformat_minor": 0,
  "metadata": {
    "colab": {
      "name": "EX02-Report.ipynb",
      "version": "0.3.2",
      "provenance": [],
      "collapsed_sections": [],
      "toc_visible": true,
      "include_colab_link": true
    },
    "kernelspec": {
      "name": "python3",
      "display_name": "Python 3"
    },
    "accelerator": "GPU"
  },
  "cells": [
    {
      "cell_type": "markdown",
      "metadata": {
        "id": "view-in-github",
        "colab_type": "text"
      },
      "source": [
        "<a href=\"https://colab.research.google.com/github/MahlerTom/Siamese-Neural-Networks/blob/master/EX02_Report.ipynb\" target=\"_parent\"><img src=\"https://colab.research.google.com/assets/colab-badge.svg\" alt=\"Open In Colab\"/></a>"
      ]
    },
    {
      "cell_type": "markdown",
      "metadata": {
        "id": "6ndSNwVjx7Tn",
        "colab_type": "text"
      },
      "source": [
        "# Ben-Gurion University of the Negev\n",
        "\n",
        "Faculty of Engineering Sciences\n",
        "\n",
        "Department of Software and Information systems Engineering\n",
        "\n",
        "Introduction to Deep Learning\n",
        "\n",
        "Assignment 2"
      ]
    },
    {
      "cell_type": "markdown",
      "metadata": {
        "id": "bHAQzZzEzO3O",
        "colab_type": "text"
      },
      "source": [
        "# Introduction\n",
        "\n",
        "In this assignment, we use convolutional neural networks (CNNs) to carry out the task of facial recognition, since CNNs are the current state-of-the-art approach for analyzing imagebased datasets. More specifically, we implement a one-shot classification solution. \n",
        "Wikipedia defines one-shot learning as follows:\n",
        "\n",
        "> “… an object categorization problem, found mostly in computer vision. Whereas most machine learning based object categorization algorithms require training on hundreds or thousands of samples/images and very large datasets, one-shot learning aims to learn information about object categories from one, or only a few, training samples/images.”\n",
        "\n",
        "Our work is based on the paper [Siamese Neural Networks for One-shot Image Recognition](https://www.cs.cmu.edu/~rsalakhu/papers/oneshot1.pdf). Our goal, like that of the paper, is to successfully execute a one-shot learning task for previously unseen objects. Given two facial images of previously unseen persons, our architecture will have to successfully determine whether they are the same person. While we are encouraged to use the architecture described in this paper as a starting point, we shall explore other possibilities as well.\n",
        "\n",
        "<br>\n",
        "\n",
        "In this work, we are making use of [`TensorFlow 2.0`](https://www.tensorflow.org/alpha) API on `Google Colab` notebook set on GPU runtime (GPU: 1xTesla K80 , having 2496 CUDA cores, compute 3.7, 12GB (11.439GB Usable) GDDR5 VRAM). We load `TF2.0` as follows:"
      ]
    },
    {
      "cell_type": "code",
      "metadata": {
        "id": "h7XiodlXTate",
        "colab_type": "code",
        "colab": {}
      },
      "source": [
        "%%capture\n",
        "from __future__ import absolute_import, division, print_function, unicode_literals\n",
        "\n",
        "!pip install -q tensorflow-gpu==2.0.0-alpha0\n",
        "import tensorflow as tf\n",
        "AUTOTUNE = tf.data.experimental.AUTOTUNE\n",
        "# tf.enable_eager_execution() # For potential eager executions"
      ],
      "execution_count": 0,
      "outputs": []
    },
    {
      "cell_type": "code",
      "metadata": {
        "id": "IRQd1TNhULnT",
        "colab_type": "code",
        "outputId": "bd420ecc-c26d-47b4-f840-b4b5568e02ee",
        "colab": {
          "base_uri": "https://localhost:8080/",
          "height": 34
        }
      },
      "source": [
        "print('Running on GPU' if tf.test.is_gpu_available() else 'Please change runtime type to GPU on Google Colab under Runtime') # Make sure we are set to GPU (under Runtime->Change runtime type)"
      ],
      "execution_count": 0,
      "outputs": [
        {
          "output_type": "stream",
          "text": [
            "Running on GPU\n"
          ],
          "name": "stdout"
        }
      ]
    },
    {
      "cell_type": "markdown",
      "metadata": {
        "id": "HrfGZEkf0dRy",
        "colab_type": "text"
      },
      "source": [
        "# Analysis of the Dataset \n",
        "\n",
        "We use the [Labeled Faces in the Wild](http://vis-www.cs.umass.edu/lfw/index.html) dataset. Note that there are several versions of this dataset, we use the version found [here](https://talhassner.github.io/home/projects/lfwa/index.html) (it’s called LFW-a, and is also used in the DeepFace paper).\n",
        "\n",
        "We use the following train and test sets to train your model: [Train](http://vis-www.cs.umass.edu/lfw/pairsDevTrain.txt) \\ [Test](http://vis-www.cs.umass.edu/lfw/pairsDevTest.txt). We use the test set to perform one-shot learning. This division is set up so that no subject from the test set is included in the train set.\n",
        "\n",
        "The downloaded directory is built in the following structure:\n",
        "\n",
        "```\n",
        "lfw2\n",
        "│\n",
        "└───FirstName_LastName1\n",
        "│   │   FirstName_LastName1_xxx1.jpg\n",
        "│   │   ...\n",
        "│   \n",
        "└───FirstName_LastName2\n",
        "│   │   FirstName_LastName2_xxx2.jpg\n",
        "│   │   ...\n",
        "│   \n",
        "│   ...\n",
        "```\n",
        "\n",
        "Which includes both the train, test, and additional data. Therefore, our first task was to orgenize the data better. We chose to use `python` scripts to create 3 flattened directories: `test`, `train`, and `unused`. For this task, we cannot use additional data for the training, however, we maintain the `unused` directory for potential future work.\n",
        "\n",
        "Following is the script that we used, which is pretty straight forward:\n",
        "\n",
        "**Note that you first must download the dataset manually**"
      ]
    },
    {
      "cell_type": "markdown",
      "metadata": {
        "id": "jxMGHAqnNXZ1",
        "colab_type": "text"
      },
      "source": [
        "## Orgenize dataset\n",
        "\n",
        "This section explains how we orgenized the dataset. **Note that the orgenized dataset was uploaded to our `GitHub` account:  [MahlerTom/Siamese-Neural-Networks](https://github.com/MahlerTom/Siamese-Neural-Networks), and thus this section can be skipped**\n",
        "\n",
        "First we download all the necessary files: `pairsDevTrain.txt`, `pairsDevTest.txt`, and 'lfw2.zip', and we unzip the dataset"
      ]
    },
    {
      "cell_type": "code",
      "metadata": {
        "id": "fJLrO02c_yxj",
        "colab_type": "code",
        "colab": {}
      },
      "source": [
        "%%capture\n",
        "!wget http://vis-www.cs.umass.edu/lfw/pairsDevTrain.txt\n",
        "!wget http://vis-www.cs.umass.edu/lfw/pairsDevTest.txt\n",
        "!gdown https://drive.google.com/uc?id=1p1wjaqpTh_5RHfJu4vUh8JJCdKwYMHCp\n",
        "!unzip lfwa.zip"
      ],
      "execution_count": 0,
      "outputs": []
    },
    {
      "cell_type": "markdown",
      "metadata": {
        "id": "5s9a7cFXNtD6",
        "colab_type": "text"
      },
      "source": [
        "Next, we define several functions that help us:\n",
        "\n",
        "\n",
        "1.   The `create_pairs` function helps us create a list of all the names that appear in the `pairsDevTrain.txt` and `pairsDevTest.txt` which we will later use for moving the folders.\n",
        "2.   The `flatten` function simply flatten a given folder with the specific structure mentioned.\n",
        "3.   The `move_dirs_and_flatten` function moves a folder from the `src_path` using the `folder_names` list that was created using `create_pairs` into a new folder inside `dst_path` and then flatten it using `flatten`\n"
      ]
    },
    {
      "cell_type": "code",
      "metadata": {
        "id": "ZrZLwhOTEeHm",
        "colab_type": "code",
        "colab": {}
      },
      "source": [
        "import shutil\n",
        "import os\n",
        "\n",
        "def create_pairs(pairs_path):\n",
        "  names = set()\n",
        "  with open(pairs_path) as pairs_path_f:\n",
        "    pairs_list = pairs_path_f.readlines()[1:]\n",
        "        \n",
        "  for pair in pairs_list:\n",
        "    pair = pair[:-1].split('\\t')\n",
        "    if len(pair) == 3:\n",
        "      names.add(pair[0])\n",
        "    elif len(pair) == 4:\n",
        "      names.add(pair[0])\n",
        "      names.add(pair[2])\n",
        "  return list(names)\n",
        "\n",
        "def flatten(src, verbose=0):\n",
        "  for directory in os.listdir(src):\n",
        "    for file in os.listdir(src + directory):\n",
        "      if verbose > 0:\n",
        "        print(\"Moving \" + file + \"...\")\n",
        "      shutil.move(src + directory + '/' + file, src + file)   \n",
        "\n",
        "def move_dirs_and_flatten(src_path, dst_path, folders_names, verbose=0):\n",
        "  for folder_name in folders_names:\n",
        "    if verbose > 0:\n",
        "      print(\"Moving \" + folder_name + \"...\")\n",
        "    shutil.move(src_path + folder_name, dst_path + folder_name)\n",
        "  \n",
        "  flatten(dst_path)"
      ],
      "execution_count": 0,
      "outputs": []
    },
    {
      "cell_type": "markdown",
      "metadata": {
        "id": "IRe3D6bAO4de",
        "colab_type": "text"
      },
      "source": [
        "With these functions, we orgenize our dataset into a new folder with the following structure:\n",
        "```\n",
        "data\n",
        "│\n",
        "└───train\n",
        "│   │   FirstName_LastName1_xxx1.jpg\n",
        "│   │   FirstName_LastName2_xxx2.jpg\n",
        "│   │   ...\n",
        "│   \n",
        "└───test\n",
        "│   │   FirstName_LastName1_xxx1.jpg\n",
        "│   │   FirstName_LastName2_xxx2.jpg\n",
        "│   │   ...\n",
        "│   \n",
        "└───unused\n",
        "│   │   FirstName_LastName1_xxx1.jpg\n",
        "│   │   FirstName_LastName2_xxx2.jpg\n",
        "│   │   ...\n",
        "```"
      ]
    },
    {
      "cell_type": "code",
      "metadata": {
        "id": "WjFinwjgO3tp",
        "colab_type": "code",
        "colab": {}
      },
      "source": [
        "train_names = create_pairs('pairsDevTrain.txt')\n",
        "test_names = create_pairs('pairsDevTest.txt')\n",
        "\n",
        "src = 'lfw2/lfw2/'\n",
        "move_dirs_and_flatten(src, 'data/train/', train_names)\n",
        "move_dirs_and_flatten(src, 'data/test/', test_names)\n",
        "flatten(src)\n",
        "shutil.move(src, 'data/unused/')\n",
        "!rm -r lfw2"
      ],
      "execution_count": 0,
      "outputs": []
    },
    {
      "cell_type": "markdown",
      "metadata": {
        "id": "xnOhMC2WVS6L",
        "colab_type": "text"
      },
      "source": [
        "# Installation\n",
        "\n",
        "The dataset was uploaded to [MahlerTom/Siamese-Neural-Networks](https://github.com/MahlerTom/Siamese-Neural-Networks), so we first need to clone the repository, with the data. To make things easier, we also define:\n",
        "\n",
        "*   `repo_path` - the repository path (this should be cross platrform since we use `os` module)\n",
        "*   `train_path` - the train dataset path\n",
        "*   `test_path` - the test dataset path"
      ]
    },
    {
      "cell_type": "code",
      "metadata": {
        "id": "ThunHgxPVNJu",
        "colab_type": "code",
        "colab": {}
      },
      "source": [
        "%%capture\n",
        "import os\n",
        "\n",
        "# Clone the entire repo.\n",
        "!git clone -s git://github.com/MahlerTom/Siamese-Neural-Networks.git Siamese-Neural-Networks\n",
        "repo_path = os.path.join(os.getcwd(), 'Siamese-Neural-Networks')\n",
        "train_path = os.path.join(repo_path, 'data', 'train')\n",
        "test_path = os.path.join(repo_path, 'data', 'test')"
      ],
      "execution_count": 0,
      "outputs": []
    },
    {
      "cell_type": "markdown",
      "metadata": {
        "id": "3U2RYGF_QfqR",
        "colab_type": "text"
      },
      "source": [
        "# Analysis of the Dataset\n",
        "\n",
        "Before we begin our training, we need to prepare the dataset. Since we are using `TensorFlow 2.0`, we will make use of its functions. We followed the guide at: [https://www.tensorflow.org/alpha/tutorials/load_data/images](https://www.tensorflow.org/alpha/tutorials/load_data/images)"
      ]
    },
    {
      "cell_type": "markdown",
      "metadata": {
        "id": "bK6JOvgsVxdl",
        "colab_type": "text"
      },
      "source": [
        "## Preparing the dataset\n",
        "\n",
        "Before we begin our training, we need to prepare the dataset. Since we are using TensorFlow 2.0, we will make use of its functions. We followed the guide at: [https://www.tensorflow.org/alpha/tutorials/load_data/images](https://www.tensorflow.org/alpha/tutorials/load_data/images)\n",
        "\n",
        "<br>\n",
        "\n",
        "Tensorflow makes use of smart functions that can load images given their paths. In addition, we received `trainPairs.txt` and `testPairs.txt`, which include the labels. \n",
        "\n",
        "The data structure is as follows: \n",
        "```\n",
        "((left_img_path, right_img_path), label)\n",
        "```\n",
        "\n",
        "Thus, the following `load_data` function will create it."
      ]
    },
    {
      "cell_type": "code",
      "metadata": {
        "id": "0uFGOWmlWUU-",
        "colab_type": "code",
        "colab": {}
      },
      "source": [
        "import random\n",
        "import IPython.display as display\n",
        "\n",
        "def load_data(data_path, labels_file, print_imgs=3):\n",
        "  import pathlib\n",
        "  \n",
        "  # Get the full path of the directory\n",
        "  data_root = pathlib.Path(data_path)\n",
        "  \n",
        "  # Create list of all paths in directory\n",
        "  data_paths = list(data_root.glob('*')) \n",
        "  data_paths = [ str(path) for path in data_paths ] # Trasnform paths to strings\n",
        "  data_count = len(data_paths)\n",
        "  \n",
        "  # Print relevant information\n",
        "  print('Loaded', data_count, 'image paths')\n",
        "  if print_imgs > 0:\n",
        "    print('##########################################')\n",
        "    print('Printing Example Images')\n",
        "    print()\n",
        "    \n",
        "    for n in range(print_imgs):\n",
        "      image_path = random.choice(data_paths)\n",
        "      display.display(display.Image(image_path))\n",
        "      print(image_path.split('/')[-1][:-4])\n",
        "      print()\n",
        "      \n",
        "    print('##########################################')\n",
        "  \n",
        "  # Insert the right tuple based on the structure (left, right, label)\n",
        "  rel_path = os.path.join('/', *data_paths[0].split('/')[:-1])\n",
        "  data_paths_paths = list()\n",
        "  with open(labels_file) as lf:\n",
        "    for l in lf:\n",
        "      l = l[:-1].split('\\t')\n",
        "      if len(l) >= 3:\n",
        "        left = os.path.join(rel_path, l[0] + '_' + l[1].zfill(4) + '.jpg')\n",
        "        same = (len(l) == 3)\n",
        "        right_path = l[0] + '_' + l[2].zfill(4) if same else l[2] + '_' + l[3].zfill(4)        \n",
        "        right = os.path.join(rel_path, right_path + '.jpg')          \n",
        "        data_paths_paths.append(tuple((left, right, int(same))))\n",
        "        \n",
        "  return data_paths_paths\n",
        "\n",
        "# Utility function to print the name of the image easily (tested on Google Colab)\n",
        "def image_name(path):\n",
        "  return path.split('/')[-1][:-4]\n",
        "\n",
        "# Utility array to print the name of the label easily (tested on Google Colab)\n",
        "label_name = ['Different', 'Same']"
      ],
      "execution_count": 0,
      "outputs": []
    },
    {
      "cell_type": "code",
      "metadata": {
        "id": "AqZij9yoWnVV",
        "colab_type": "code",
        "outputId": "c1ec4ed8-256e-43dc-cd41-fce9cfec5df5",
        "colab": {
          "base_uri": "https://localhost:8080/",
          "height": 1889
        }
      },
      "source": [
        "train_paths_labels = load_data(train_path, labels_file=os.path.join(repo_path, 'trainPairs.txt'), print_imgs=3)\n",
        "test_paths_labels = load_data(test_path, labels_file=os.path.join(repo_path, 'testPairs.txt'), print_imgs=3)"
      ],
      "execution_count": 0,
      "outputs": [
        {
          "output_type": "stream",
          "text": [
            "Loaded 6685 image paths\n",
            "##########################################\n",
            "Printing Example Images\n",
            "\n"
          ],
          "name": "stdout"
        },
        {
          "output_type": "display_data",
          "data": {
            "image/jpeg": "[encoded data removed]",
            "text/plain": [
              "<IPython.core.display.Image object>"
            ]
          },
          "metadata": {
            "tags": []
          }
        },
        {
          "output_type": "stream",
          "text": [
            "George_W_Bush_0317\n",
            "\n"
          ],
          "name": "stdout"
        },
        {
          "output_type": "display_data",
          "data": {
            "image/jpeg": "[encoded data removed]",
            "text/plain": [
              "<IPython.core.display.Image object>"
            ]
          },
          "metadata": {
            "tags": []
          }
        },
        {
          "output_type": "stream",
          "text": [
            "Juan_Carlos_Ferrero_0022\n",
            "\n"
          ],
          "name": "stdout"
        },
        {
          "output_type": "display_data",
          "data": {
            "image/jpeg": "[encoded data removed]",
            "text/plain": [
              "<IPython.core.display.Image object>"
            ]
          },
          "metadata": {
            "tags": []
          }
        },
        {
          "output_type": "stream",
          "text": [
            "Cecilia_Bolocco_0001\n",
            "\n",
            "##########################################\n",
            "Loaded 2741 image paths\n",
            "##########################################\n",
            "Printing Example Images\n",
            "\n"
          ],
          "name": "stdout"
        },
        {
          "output_type": "display_data",
          "data": {
            "image/jpeg": "[encoded data removed]",
            "text/plain": [
              "<IPython.core.display.Image object>"
            ]
          },
          "metadata": {
            "tags": []
          }
        },
        {
          "output_type": "stream",
          "text": [
            "Darvis_Patton_0001\n",
            "\n"
          ],
          "name": "stdout"
        },
        {
          "output_type": "display_data",
          "data": {
            "image/jpeg": "[encoded data removed]",
            "text/plain": [
              "<IPython.core.display.Image object>"
            ]
          },
          "metadata": {
            "tags": []
          }
        },
        {
          "output_type": "stream",
          "text": [
            "Jacques_Chirac_0005\n",
            "\n"
          ],
          "name": "stdout"
        },
        {
          "output_type": "display_data",
          "data": {
            "image/jpeg": "[encoded data removed]",
            "text/plain": [
              "<IPython.core.display.Image object>"
            ]
          },
          "metadata": {
            "tags": []
          }
        },
        {
          "output_type": "stream",
          "text": [
            "Ann_Veneman_0008\n",
            "\n",
            "##########################################\n"
          ],
          "name": "stdout"
        }
      ]
    },
    {
      "cell_type": "markdown",
      "metadata": {
        "id": "vKHcnoijZ3qX",
        "colab_type": "text"
      },
      "source": [
        "The images are grayscale with resolution $250\\times250$."
      ]
    },
    {
      "cell_type": "code",
      "metadata": {
        "id": "s9wkBCK3aOBj",
        "colab_type": "code",
        "colab": {}
      },
      "source": [
        "import numpy as np\n",
        "from prettytable import PrettyTable\n",
        "\n",
        "def print_dataset_stat(paths_labels, ds_name='path label', labels_names=['Different', 'Same']):\n",
        "  print('Examples for', ds_name, 'dataset structure:')\n",
        "  print('############')\n",
        "  print('Raw view:')\n",
        "  print(paths_labels[:3])\n",
        "  print('############')\n",
        "  print('Pretty view:')\n",
        "  print([tuple((image_name(p[0]), image_name(p[1]), label_name[p[2]])) for p in paths_labels[:3]])\n",
        "  ds_size = len(paths_labels)\n",
        "  print('############')\n",
        "  print('Dataset size:', ds_size)\n",
        "  print(len(labels_names), 'classes:')\n",
        "  labels = np.array([ l for _, _, l in paths_labels])\n",
        "  t = PrettyTable(['Class', 'Size', 'Percentage'])\n",
        "  for i,name in enumerate(labels_names):\n",
        "    t.add_row([name, str(len(labels[labels==i])) + '/' + str(ds_size), str(len(labels[labels==i])/ds_size*100) + '%'])\n",
        "  print(t)"
      ],
      "execution_count": 0,
      "outputs": []
    },
    {
      "cell_type": "code",
      "metadata": {
        "id": "grIOhDMuc0c1",
        "colab_type": "code",
        "outputId": "f8f78764-a951-48cc-85c1-fbd48304338c",
        "colab": {
          "base_uri": "https://localhost:8080/",
          "height": 306
        }
      },
      "source": [
        "print_dataset_stat(train_paths_labels, ds_name='Train')"
      ],
      "execution_count": 0,
      "outputs": [
        {
          "output_type": "stream",
          "text": [
            "Examples for Train dataset structure:\n",
            "############\n",
            "Raw view:\n",
            "[('/content/Siamese-Neural-Networks/data/train/Aaron_Peirsol_0001.jpg', '/content/Siamese-Neural-Networks/data/train/Aaron_Peirsol_0002.jpg', 1), ('/content/Siamese-Neural-Networks/data/train/Aaron_Peirsol_0003.jpg', '/content/Siamese-Neural-Networks/data/train/Aaron_Peirsol_0004.jpg', 1), ('/content/Siamese-Neural-Networks/data/train/Aaron_Sorkin_0001.jpg', '/content/Siamese-Neural-Networks/data/train/Aaron_Sorkin_0002.jpg', 1)]\n",
            "############\n",
            "Pretty view:\n",
            "[('Aaron_Peirsol_0001', 'Aaron_Peirsol_0002', 'Same'), ('Aaron_Peirsol_0003', 'Aaron_Peirsol_0004', 'Same'), ('Aaron_Sorkin_0001', 'Aaron_Sorkin_0002', 'Same')]\n",
            "############\n",
            "Dataset size: 2200\n",
            "2 classes:\n",
            "+-----------+-----------+------------+\n",
            "|   Class   |    Size   | Percentage |\n",
            "+-----------+-----------+------------+\n",
            "| Different | 1100/2200 |   50.0%    |\n",
            "|    Same   | 1100/2200 |   50.0%    |\n",
            "+-----------+-----------+------------+\n"
          ],
          "name": "stdout"
        }
      ]
    },
    {
      "cell_type": "code",
      "metadata": {
        "id": "hSx5uQByepq1",
        "colab_type": "code",
        "outputId": "ad5d0947-df14-49ed-f28c-6529682569c2",
        "colab": {
          "base_uri": "https://localhost:8080/",
          "height": 306
        }
      },
      "source": [
        "print_dataset_stat(test_paths_labels, ds_name='Test')"
      ],
      "execution_count": 0,
      "outputs": [
        {
          "output_type": "stream",
          "text": [
            "Examples for Test dataset structure:\n",
            "############\n",
            "Raw view:\n",
            "[('/content/Siamese-Neural-Networks/data/test/Abdullah_Gul_0013.jpg', '/content/Siamese-Neural-Networks/data/test/Abdullah_Gul_0014.jpg', 1), ('/content/Siamese-Neural-Networks/data/test/Abdullah_Gul_0013.jpg', '/content/Siamese-Neural-Networks/data/test/Abdullah_Gul_0016.jpg', 1), ('/content/Siamese-Neural-Networks/data/test/Abdullatif_Sener_0001.jpg', '/content/Siamese-Neural-Networks/data/test/Abdullatif_Sener_0002.jpg', 1)]\n",
            "############\n",
            "Pretty view:\n",
            "[('Abdullah_Gul_0013', 'Abdullah_Gul_0014', 'Same'), ('Abdullah_Gul_0013', 'Abdullah_Gul_0016', 'Same'), ('Abdullatif_Sener_0001', 'Abdullatif_Sener_0002', 'Same')]\n",
            "############\n",
            "Dataset size: 1000\n",
            "2 classes:\n",
            "+-----------+----------+------------+\n",
            "|   Class   |   Size   | Percentage |\n",
            "+-----------+----------+------------+\n",
            "| Different | 500/1000 |   50.0%    |\n",
            "|    Same   | 500/1000 |   50.0%    |\n",
            "+-----------+----------+------------+\n"
          ],
          "name": "stdout"
        }
      ]
    },
    {
      "cell_type": "markdown",
      "metadata": {
        "id": "IKtYWrrZP66U",
        "colab_type": "text"
      },
      "source": [
        "## Create Validation Set\n",
        "\n",
        "It is often a recommended to use a validation set when training the model; thus, we have chosen to use a 70-30 train-validation ratio. It's important to note that while we are guarenteed that their is no subject from the test set included in the train set, we do not have this guarentee for the train-validation separation. Therefore, if we randomly choose a 70-30 separation ratio (a common choice), we will likely have subjects included in both the training and validation sets, which will cause a problems.\n",
        "\n",
        "Therefore, we explore separating the sets based on the persons name, to guarentee the sets are independent:\n"
      ]
    },
    {
      "cell_type": "code",
      "metadata": {
        "id": "8kbIgDGCgxDb",
        "colab_type": "code",
        "outputId": "3cb280c2-3ecb-43a0-e801-fff119f09e62",
        "colab": {
          "base_uri": "https://localhost:8080/",
          "height": 118
        }
      },
      "source": [
        "from string import ascii_uppercase\n",
        "\n",
        "def explore_subject_names(people_names):\n",
        "  h = dict()\n",
        "  for c in ascii_uppercase:\n",
        "    h[c] = sum([p.startswith(c) for p in people_names])\n",
        "#   print(h)\n",
        "  return h\n",
        "\n",
        "train_same = [image_name(p[0]) for p in train_paths_labels[:1100]]\n",
        "train_diff = [image_name(p[0]) for p in train_paths_labels[1100:]]\n",
        "h_same = explore_subject_names(train_same)\n",
        "h_diff = explore_subject_names(train_diff)\n",
        "\n",
        "# t = PrettyTable(['Class', 'Size', 'Percentage'])\n",
        "# for k, v_same, v_diff in zip(h_same.keys(), h_same.values(), h_diff.values()):\n",
        "#   t.add_row([k, v_same, v_diff])\n",
        "# print(t)\n",
        "\n",
        "t = PrettyTable([''] + list(h_same.keys()))\n",
        "t.add_row(['Same'] + list(h_same.values()))\n",
        "t.add_row(['Different'] + list(h_diff.values()))\n",
        "print(t)"
      ],
      "execution_count": 0,
      "outputs": [
        {
          "output_type": "stream",
          "text": [
            "+-----------+-----+-----+-----+-----+----+----+----+----+----+-----+----+----+-----+----+---+----+---+----+----+----+---+----+----+---+----+---+\n",
            "|           |  A  |  B  |  C  |  D  | E  | F  | G  | H  | I  |  J  | K  | L  |  M  | N  | O | P  | Q | R  | S  | T  | U | V  | W  | X | Y  | Z |\n",
            "+-----------+-----+-----+-----+-----+----+----+----+----+----+-----+----+----+-----+----+---+----+---+----+----+----+---+----+----+---+----+---+\n",
            "|    Same   | 101 |  59 |  80 |  58 | 45 | 20 | 50 | 42 | 9  | 145 | 29 | 41 | 102 | 25 | 4 | 46 | 7 | 74 | 62 | 45 | 1 | 16 | 17 | 3 | 13 | 6 |\n",
            "| Different | 144 | 121 | 114 | 103 | 64 | 31 | 62 | 47 | 16 | 151 | 34 | 40 |  63 | 22 | 1 | 34 | 2 | 20 | 21 | 8  | 0 | 1  | 1  | 0 | 0  | 0 |\n",
            "+-----------+-----+-----+-----+-----+----+----+----+----+----+-----+----+----+-----+----+---+----+---+----+----+----+---+----+----+---+----+---+\n"
          ],
          "name": "stdout"
        }
      ]
    },
    {
      "cell_type": "markdown",
      "metadata": {
        "id": "mcOIr9TQjt61",
        "colab_type": "text"
      },
      "source": [
        "As we can see, if we choose the letters: `'A'`, `'B'`, `'C'`, `'D'`, `'E'` for the 'same' validation set, and the leters: `'A'`, `'B'`, `'C'` for the 'different' validation set, we will get:"
      ]
    },
    {
      "cell_type": "code",
      "metadata": {
        "id": "AjQSaMF0jtZG",
        "colab_type": "code",
        "outputId": "29310f35-ba9e-4102-e556-bf2fea7ca698",
        "colab": {
          "base_uri": "https://localhost:8080/",
          "height": 134
        }
      },
      "source": [
        "letters_selected_same = h_same['A'] + h_same['B'] + h_same['C'] + h_same['D'] + h_same['E']\n",
        "letters_selected_different = h_diff['A'] + h_diff['B'] + h_diff['C']\n",
        "\n",
        "t = PrettyTable(['', 'Total Size', 'Chosen Letters', 'Chosen Letters Size', 'Percentage'])\n",
        "t.add_row(['Same', sum(h_same.values()), 'A, B, C, D, E', letters_selected_same, str(letters_selected_same/len(train_same)*100) + '%'])\n",
        "t.add_row(['Different', sum(h_diff.values()), 'A, B, C', letters_selected_different, str(letters_selected_different/len(train_diff)*100) + '%'])\n",
        "t.add_row(['All', sum(h_same.values()) + sum(h_diff.values()), 'A-Z', letters_selected_same + letters_selected_different, str((letters_selected_same + letters_selected_different)/(len(train_same) + len(train_diff))*100) + '%'])\n",
        "print(t)"
      ],
      "execution_count": 0,
      "outputs": [
        {
          "output_type": "stream",
          "text": [
            "+-----------+------------+----------------+---------------------+---------------------+\n",
            "|           | Total Size | Chosen Letters | Chosen Letters Size |      Percentage     |\n",
            "+-----------+------------+----------------+---------------------+---------------------+\n",
            "|    Same   |    1100    | A, B, C, D, E  |         343         | 31.181818181818183% |\n",
            "| Different |    1100    |    A, B, C     |         379         |  34.45454545454545% |\n",
            "|    All    |    2200    |      A-Z       |         722         |  32.81818181818182% |\n",
            "+-----------+------------+----------------+---------------------+---------------------+\n"
          ],
          "name": "stdout"
        }
      ]
    },
    {
      "cell_type": "markdown",
      "metadata": {
        "id": "KEdxhpaflupC",
        "colab_type": "text"
      },
      "source": [
        "Which provides a good separation. The following function splits the train to train and validation based on the chosen letters:"
      ]
    },
    {
      "cell_type": "code",
      "metadata": {
        "id": "3dj_j6ODl05v",
        "colab_type": "code",
        "outputId": "39ed0e1a-2a52-4a3c-cd96-4934c4a4a350",
        "colab": {
          "base_uri": "https://localhost:8080/",
          "height": 202
        }
      },
      "source": [
        "def split_train_val_paths(paths_labels, letters):\n",
        "  train = list()\n",
        "  val = list()  \n",
        "  for p in paths_labels:\n",
        "    left_name = image_name(p[0])\n",
        "    train_append = True\n",
        "    for l in letters:\n",
        "      if left_name.startswith(l):\n",
        "        train_append = False\n",
        "        break;\n",
        "    (train if train_append else val).append(p)\n",
        "  \n",
        "  return train, val\n",
        "\n",
        "train_same, val_same = split_train_val_paths(train_paths_labels[:1100], letters='ABCDE')\n",
        "train_diff, val_diff = split_train_val_paths(train_paths_labels[1100:], letters='ABC')\n",
        "train_paths_labels_split = train_same + train_diff\n",
        "val_paths_labels_split = val_same + val_diff\n",
        "\n",
        "t = PrettyTable(['', 'Size', 'Percentage'])\n",
        "t.add_row(['Train Same', str(len(train_same)) + '/' + str(len(train_paths_labels)), str(len(train_same)/len(train_paths_labels)*100) + '%'])\n",
        "t.add_row(['Train Different', str(len(train_diff)) + '/' + str(len(train_paths_labels)), str(len(train_diff)/len(train_paths_labels)*100) + '%'])\n",
        "t.add_row(['Train', str(len(train_paths_labels_split)) + '/' + str(len(train_paths_labels)), str(len(train_paths_labels_split)/len(train_paths_labels)*100) + '%'])\n",
        "t.add_row(['', '', ''])\n",
        "t.add_row(['Validation Same', str(len(val_same)) + '/' + str(len(train_paths_labels)), str(len(val_same)/len(train_paths_labels)*100) + '%'])\n",
        "t.add_row(['Validation Different', str(len(val_diff)) + '/' + str(len(train_paths_labels)), str(len(val_diff)/len(train_paths_labels)*100) + '%'])\n",
        "t.add_row(['Validation', str(len(val_paths_labels_split)) + '/' + str(len(train_paths_labels)), str(len(val_paths_labels_split)/len(train_paths_labels)*100) + '%'])\n",
        "print(t)"
      ],
      "execution_count": 0,
      "outputs": [
        {
          "output_type": "stream",
          "text": [
            "+----------------------+-----------+---------------------+\n",
            "|                      |    Size   |      Percentage     |\n",
            "+----------------------+-----------+---------------------+\n",
            "|      Train Same      |  757/2200 | 34.409090909090914% |\n",
            "|   Train Different    |  721/2200 |  32.77272727272727% |\n",
            "|        Train         | 1478/2200 |  67.18181818181819% |\n",
            "|                      |           |                     |\n",
            "|   Validation Same    |  343/2200 | 15.590909090909092% |\n",
            "| Validation Different |  379/2200 | 17.227272727272727% |\n",
            "|      Validation      |  722/2200 |  32.81818181818182% |\n",
            "+----------------------+-----------+---------------------+\n"
          ],
          "name": "stdout"
        }
      ]
    },
    {
      "cell_type": "markdown",
      "metadata": {
        "id": "GnEdjVWsfdEa",
        "colab_type": "text"
      },
      "source": [
        "\n",
        "\n",
        "* A training set of 757 'same' and 721 'different', and a total of  $ 1478 / 2200 = 67.1\\% $.\n",
        "* A validation set of 343 'same' and 379 'different', and a total of  $ 722 / 2200 = 32.8\\% $.\n",
        "\n",
        "The *same* validation set includes all subjects with name \n",
        "\n",
        "The reason for this specific choice, is that while we are guarenteed that their is no subject from the test set included in the train set, we do not have this guarentee for the train-validation separation. Therefore, if we randomly choose a 70-30 train-validation separation (a common choice), we will likely have validation subjects included in the training set, which will cause a problems.\n",
        "\n",
        "\n",
        "<br>\n",
        "\n",
        "Make your own decision whether to use one and what percentage of (training) samples to allocate."
      ]
    },
    {
      "cell_type": "markdown",
      "metadata": {
        "id": "FOtAzQPyVA8j",
        "colab_type": "text"
      },
      "source": [
        "Also provide the full experimental setup you used -- batch sizes, the various parameters of your architecture, stopping criteria and any other\n",
        "relevant information. A good rule of thumb: if asked to recreate your work, a person should be able to do so based on the information you provide in your report."
      ]
    },
    {
      "cell_type": "markdown",
      "metadata": {
        "id": "o0EzHLFWxD1f",
        "colab_type": "text"
      },
      "source": [
        "## Experiments\n",
        "\n",
        "We start with the exact same network setting as in the paper, but ended up with over-fitting. Assuming that the reason was too many parameters, we reduce the number of filters and the filter sizes. Detailed network settings and performances are recorded in the following tables. We made our decision based on trial and error, and the following tables demonstrate our experimental process.\n",
        "\n",
        "### Network Architecture\n",
        "\n",
        "\n",
        "| Configurations |  EXP1 |  EXP2 |  EXP3 | \n",
        "|:---------------------:|:-------------------:|:-------------------:|:-------------------:|\n",
        "| # of CNN layers | 4 | 4 |  |\n",
        "|# of filters and filter sizes in CNN layers | layer 1: 4 * 12 * 12 <br> layer 2: 8 * 8 * 8 <br> layer 3: 32 * 4 * 4 <br> layer 4: 64 * 4 * 4 <br> |  layer 1: 4 * 12 * 12 <br> layer 2: 8 * 8 * 8 <br> layer 3: 32 * 4 * 4 <br> layer 4: 64 * 4 * 4 <br> |  |\n",
        "| Stride of CNN layers | 1 | 1 |  |\n",
        "| # of Maxpool layers  | 4 | 4 |  | \n",
        "| Stride of Maxpool layers | 2 | 2 |  |\n",
        "| # of fully connected layers | 1 | 1 |  |\n",
        "| size of fully connected layers | 512 | 512 |  |\n",
        "| Loss function | cross-entropy | cross-entropy | contrastive loss |\n",
        "\n"
      ]
    },
    {
      "cell_type": "markdown",
      "metadata": {
        "id": "hScA-vs64iaN",
        "colab_type": "text"
      },
      "source": [
        "### Hyper parameters\n",
        "\n",
        "| Hyper parameters |  EXP1 |  EXP2 |  EXP3 | \n",
        "|:---------------------:|:-------------------:|:-------------------:|:-------------------:|\n",
        "| Learning rate | $10^{-3}$ | $10^{-3}$ |  |\n",
        "| Batch_size     | 128 pairs      | 128 pairs |  |\n",
        "| # of epochs   | 100                  | 100 |  | \n",
        "| Optimizer       | Adam            | Adam |  |\n"
      ]
    },
    {
      "cell_type": "markdown",
      "metadata": {
        "id": "LDRZabpN4k-F",
        "colab_type": "text"
      },
      "source": [
        "### Performances\n",
        "\n",
        "| Metrics |  EXP1 |  EXP2 |  EXP3 |   \n",
        "|:---------------------:|:-------------------:|:-------------------:|:-------------------:|\n",
        "| Training acc.         | 99.28% | 100% |\n",
        "| Training loss         | 2.053 | 0.096 |\n",
        "| Validating acc.     | 63.91% | 65.31% |\n",
        "| Validating loss         | 2.531 | 0.916 |\n",
        "|Testing acc.      | tbd | 70.51% |\n",
        "| Time per epoch   | 2s | 2s |\n",
        "| Convergence time      | tbd | ~20s |\n",
        "\n",
        "*put graphs of the accuracy and loss*"
      ]
    },
    {
      "cell_type": "code",
      "metadata": {
        "id": "QRZE-UhQ8rWu",
        "colab_type": "code",
        "colab": {}
      },
      "source": [
        ""
      ],
      "execution_count": 0,
      "outputs": []
    }
  ]
}