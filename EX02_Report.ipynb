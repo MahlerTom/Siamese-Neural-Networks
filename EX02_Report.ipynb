{
  "nbformat": 4,
  "nbformat_minor": 0,
  "metadata": {
    "colab": {
      "name": "EX02-Report.ipynb",
      "version": "0.3.2",
      "provenance": [],
      "include_colab_link": true
    },
    "kernelspec": {
      "name": "python3",
      "display_name": "Python 3"
    }
  },
  "cells": [
    {
      "cell_type": "markdown",
      "metadata": {
        "id": "view-in-github",
        "colab_type": "text"
      },
      "source": [
        "<a href=\"https://colab.research.google.com/github/MahlerTom/Siamese-Neural-Networks/blob/master/EX02_Report.ipynb\" target=\"_parent\"><img src=\"https://colab.research.google.com/assets/colab-badge.svg\" alt=\"Open In Colab\"/></a>"
      ]
    },
    {
      "cell_type": "markdown",
      "metadata": {
        "id": "RgCAs26NKT4O",
        "colab_type": "text"
      },
      "source": [
        "# Data Statistics\n"
      ]
    },
    {
      "cell_type": "markdown",
      "metadata": {
        "id": "M8q2Q9QYKrgk",
        "colab_type": "text"
      },
      "source": [
        ""
      ]
    },
    {
      "cell_type": "markdown",
      "metadata": {
        "id": "jg3aJGdBKmqr",
        "colab_type": "text"
      },
      "source": [
        "# Implement Siamese Network"
      ]
    },
    {
      "cell_type": "markdown",
      "metadata": {
        "id": "CNRaSJozJULn",
        "colab_type": "text"
      },
      "source": [
        "## Changes to the model:"
      ]
    },
    {
      "cell_type": "markdown",
      "metadata": {
        "id": "jsK2iLzkJYKj",
        "colab_type": "text"
      },
      "source": [
        "1. In the original paper, a dense layer with size of 4096 was used. However, in our case, we have to decrease the size of the such layer so that we won't have the probelm of an oversized tensor. Therefore we used a dense layer with size of 2048.\n",
        "2. "
      ]
    }
  ]
}